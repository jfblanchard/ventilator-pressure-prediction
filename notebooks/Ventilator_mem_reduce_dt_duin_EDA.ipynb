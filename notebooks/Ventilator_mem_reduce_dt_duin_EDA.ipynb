{
 "cells": [
  {
   "cell_type": "markdown",
   "metadata": {},
   "source": [
    "Copy of Fork of VPP ver 6, the one that scored 2.37"
   ]
  },
  {
   "cell_type": "code",
   "execution_count": 1,
   "metadata": {
    "execution": {
     "iopub.execute_input": "2021-10-18T14:29:13.742030Z",
     "iopub.status.busy": "2021-10-18T14:29:13.741621Z",
     "iopub.status.idle": "2021-10-18T14:29:14.688943Z",
     "shell.execute_reply": "2021-10-18T14:29:14.688230Z",
     "shell.execute_reply.started": "2021-10-18T14:29:13.741892Z"
    }
   },
   "outputs": [],
   "source": [
    "import pandas as pd\n",
    "import numpy as np\n",
    "import matplotlib.pyplot as plt\n",
    "import seaborn as sns\n",
    "sns.set_style('whitegrid')"
   ]
  },
  {
   "cell_type": "markdown",
   "metadata": {},
   "source": [
    "# Load Files"
   ]
  },
  {
   "cell_type": "code",
   "execution_count": 2,
   "metadata": {
    "execution": {
     "iopub.execute_input": "2021-10-18T14:29:14.690765Z",
     "iopub.status.busy": "2021-10-18T14:29:14.690381Z",
     "iopub.status.idle": "2021-10-18T14:29:26.895227Z",
     "shell.execute_reply": "2021-10-18T14:29:26.894328Z",
     "shell.execute_reply.started": "2021-10-18T14:29:14.690738Z"
    }
   },
   "outputs": [
    {
     "name": "stdout",
     "output_type": "stream",
     "text": [
      "Wall time: 4.82 s\n"
     ]
    }
   ],
   "source": [
    "%%time\n",
    "# Load files\n",
    "train = pd.read_csv(r'C:\\Sync\\Work\\Kaggle Competitions\\Ventilator Pressure Prediction\\Data\\train.csv')\n",
    "test = pd.read_csv(r'C:\\Sync\\Work\\Kaggle Competitions\\Ventilator Pressure Prediction\\Data\\test.csv')\n",
    "# train = pd.read_csv('/kaggle/input/ventilator-pressure-prediction/train.csv')\n",
    "# test = pd.read_csv('/kaggle/input/ventilator-pressure-prediction/test.csv')\n",
    "\n",
    "y = train['pressure']"
   ]
  },
  {
   "cell_type": "markdown",
   "metadata": {},
   "source": [
    "# Reduce data size"
   ]
  },
  {
   "cell_type": "code",
   "execution_count": 3,
   "metadata": {},
   "outputs": [
    {
     "data": {
      "text/plain": [
       "386304128"
      ]
     },
     "execution_count": 3,
     "metadata": {},
     "output_type": "execute_result"
    }
   ],
   "source": [
    "mem_train_init = train.memory_usage().sum()\n",
    "mem_test_init = test.memory_usage().sum()\n",
    "mem_train_init"
   ]
  },
  {
   "cell_type": "code",
   "execution_count": 4,
   "metadata": {
    "execution": {
     "iopub.execute_input": "2021-10-18T14:29:26.897256Z",
     "iopub.status.busy": "2021-10-18T14:29:26.896685Z",
     "iopub.status.idle": "2021-10-18T14:29:27.575096Z",
     "shell.execute_reply": "2021-10-18T14:29:27.574068Z",
     "shell.execute_reply.started": "2021-10-18T14:29:26.897216Z"
    }
   },
   "outputs": [
    {
     "name": "stdout",
     "output_type": "stream",
     "text": [
      "int32\n",
      "int32\n",
      "int8\n",
      "int8\n",
      "float32\n",
      "float32\n",
      "int8\n",
      "float64\n",
      "int32\n",
      "int32\n",
      "int8\n",
      "int8\n",
      "float32\n",
      "float32\n",
      "int8\n"
     ]
    }
   ],
   "source": [
    "# down convert columns to save memory...\n",
    "\n",
    "# train\n",
    "train['id'] = train['id'].astype(np.int32)\n",
    "train['breath_id'] = train['breath_id'].astype(np.int32)\n",
    "train['R'] = train['R'].astype(np.int8)  #or OHC?\n",
    "train['C'] = train['C'].astype(np.int8)\n",
    "train['u_out'] = train['u_out'].astype(np.int8)\n",
    "train['u_in'] = train['u_in'].astype(np.float32)\n",
    "train['time_step'] = train['time_step'].astype(np.float32)\n",
    "\n",
    "#test\n",
    "test['id'] = test['id'].astype(np.int32)\n",
    "test['breath_id'] = test['breath_id'].astype(np.int32)\n",
    "test['R'] = test['R'].astype(np.int8)  #or OHC?\n",
    "test['C'] = test['C'].astype(np.int8)\n",
    "test['u_out'] = test['u_out'].astype(np.int8)\n",
    "test['u_in'] = test['u_in'].astype(np.float32)\n",
    "test['time_step'] = test['time_step'].astype(np.float32)\n",
    "\n",
    "# check that they converted\n",
    "for col in train.columns:\n",
    "    print(train[col].dtype)\n",
    "    \n",
    "for col in test.columns:\n",
    "    print(test[col].dtype)  "
   ]
  },
  {
   "cell_type": "code",
   "execution_count": 5,
   "metadata": {
    "execution": {
     "iopub.execute_input": "2021-10-18T14:29:27.577613Z",
     "iopub.status.busy": "2021-10-18T14:29:27.577308Z",
     "iopub.status.idle": "2021-10-18T14:29:27.595817Z",
     "shell.execute_reply": "2021-10-18T14:29:27.594985Z",
     "shell.execute_reply.started": "2021-10-18T14:29:27.577576Z"
    }
   },
   "outputs": [
    {
     "name": "stdout",
     "output_type": "stream",
     "text": [
      "New train memory: 155.4MB/368.4MB, reduction = 42.2%\n",
      "New test memory: 72.9MB/214.9MB, reduction = 33.9%\n"
     ]
    },
    {
     "data": {
      "text/html": [
       "<div>\n",
       "<style scoped>\n",
       "    .dataframe tbody tr th:only-of-type {\n",
       "        vertical-align: middle;\n",
       "    }\n",
       "\n",
       "    .dataframe tbody tr th {\n",
       "        vertical-align: top;\n",
       "    }\n",
       "\n",
       "    .dataframe thead th {\n",
       "        text-align: right;\n",
       "    }\n",
       "</style>\n",
       "<table border=\"1\" class=\"dataframe\">\n",
       "  <thead>\n",
       "    <tr style=\"text-align: right;\">\n",
       "      <th></th>\n",
       "      <th>id</th>\n",
       "      <th>breath_id</th>\n",
       "      <th>R</th>\n",
       "      <th>C</th>\n",
       "      <th>time_step</th>\n",
       "      <th>u_in</th>\n",
       "      <th>u_out</th>\n",
       "      <th>pressure</th>\n",
       "    </tr>\n",
       "  </thead>\n",
       "  <tbody>\n",
       "    <tr>\n",
       "      <th>0</th>\n",
       "      <td>1</td>\n",
       "      <td>1</td>\n",
       "      <td>20</td>\n",
       "      <td>50</td>\n",
       "      <td>0.000000</td>\n",
       "      <td>0.083334</td>\n",
       "      <td>0</td>\n",
       "      <td>5.837492</td>\n",
       "    </tr>\n",
       "    <tr>\n",
       "      <th>1</th>\n",
       "      <td>2</td>\n",
       "      <td>1</td>\n",
       "      <td>20</td>\n",
       "      <td>50</td>\n",
       "      <td>0.033652</td>\n",
       "      <td>18.383041</td>\n",
       "      <td>0</td>\n",
       "      <td>5.907794</td>\n",
       "    </tr>\n",
       "    <tr>\n",
       "      <th>2</th>\n",
       "      <td>3</td>\n",
       "      <td>1</td>\n",
       "      <td>20</td>\n",
       "      <td>50</td>\n",
       "      <td>0.067514</td>\n",
       "      <td>22.509277</td>\n",
       "      <td>0</td>\n",
       "      <td>7.876254</td>\n",
       "    </tr>\n",
       "    <tr>\n",
       "      <th>3</th>\n",
       "      <td>4</td>\n",
       "      <td>1</td>\n",
       "      <td>20</td>\n",
       "      <td>50</td>\n",
       "      <td>0.101542</td>\n",
       "      <td>22.808823</td>\n",
       "      <td>0</td>\n",
       "      <td>11.742872</td>\n",
       "    </tr>\n",
       "    <tr>\n",
       "      <th>4</th>\n",
       "      <td>5</td>\n",
       "      <td>1</td>\n",
       "      <td>20</td>\n",
       "      <td>50</td>\n",
       "      <td>0.135756</td>\n",
       "      <td>25.355850</td>\n",
       "      <td>0</td>\n",
       "      <td>12.234987</td>\n",
       "    </tr>\n",
       "  </tbody>\n",
       "</table>\n",
       "</div>"
      ],
      "text/plain": [
       "   id  breath_id   R   C  time_step       u_in  u_out   pressure\n",
       "0   1          1  20  50   0.000000   0.083334      0   5.837492\n",
       "1   2          1  20  50   0.033652  18.383041      0   5.907794\n",
       "2   3          1  20  50   0.067514  22.509277      0   7.876254\n",
       "3   4          1  20  50   0.101542  22.808823      0  11.742872\n",
       "4   5          1  20  50   0.135756  25.355850      0  12.234987"
      ]
     },
     "execution_count": 5,
     "metadata": {},
     "output_type": "execute_result"
    }
   ],
   "source": [
    "# why did they reduce in different percentages?  \n",
    "mem_train_post = train.memory_usage().sum()\n",
    "mem_test_post = test.memory_usage().sum()\n",
    "print(f'New train memory: {mem_train_post/1024**2:.1f}MB/{mem_train_init/1024**2:.1f}MB, reduction = {100*mem_train_post/mem_train_init:.1f}%')\n",
    "print(f'New test memory: {mem_test_post/1024**2:.1f}MB/{mem_test_init/1024**2:.1f}MB, reduction = {100*mem_test_post/mem_test_init:.1f}%')\n",
    "\n",
    "train.head()"
   ]
  },
  {
   "cell_type": "markdown",
   "metadata": {},
   "source": [
    "# Split into inhalitory and exhailtory groups (only scored on inhale)"
   ]
  },
  {
   "cell_type": "code",
   "execution_count": 6,
   "metadata": {
    "execution": {
     "iopub.execute_input": "2021-10-18T14:29:27.597615Z",
     "iopub.status.busy": "2021-10-18T14:29:27.597162Z",
     "iopub.status.idle": "2021-10-18T14:29:28.137089Z",
     "shell.execute_reply": "2021-10-18T14:29:28.136425Z",
     "shell.execute_reply.started": "2021-10-18T14:29:27.597578Z"
    }
   },
   "outputs": [],
   "source": [
    "train_in = train[train.u_out == 0]\n",
    "test_in = test[test.u_out == 0]\n",
    "y_in = train_in['pressure']\n",
    "\n",
    "train_out = train[train.u_out == 1]\n",
    "test_out = test[test.u_out == 1]"
   ]
  },
  {
   "cell_type": "code",
   "execution_count": 7,
   "metadata": {
    "execution": {
     "iopub.execute_input": "2021-10-18T14:29:28.139011Z",
     "iopub.status.busy": "2021-10-18T14:29:28.138202Z",
     "iopub.status.idle": "2021-10-18T14:29:28.149530Z",
     "shell.execute_reply": "2021-10-18T14:29:28.148665Z",
     "shell.execute_reply.started": "2021-10-18T14:29:28.138962Z"
    }
   },
   "outputs": [
    {
     "data": {
      "text/html": [
       "<div>\n",
       "<style scoped>\n",
       "    .dataframe tbody tr th:only-of-type {\n",
       "        vertical-align: middle;\n",
       "    }\n",
       "\n",
       "    .dataframe tbody tr th {\n",
       "        vertical-align: top;\n",
       "    }\n",
       "\n",
       "    .dataframe thead th {\n",
       "        text-align: right;\n",
       "    }\n",
       "</style>\n",
       "<table border=\"1\" class=\"dataframe\">\n",
       "  <thead>\n",
       "    <tr style=\"text-align: right;\">\n",
       "      <th></th>\n",
       "      <th>id</th>\n",
       "      <th>breath_id</th>\n",
       "      <th>R</th>\n",
       "      <th>C</th>\n",
       "      <th>time_step</th>\n",
       "      <th>u_in</th>\n",
       "      <th>u_out</th>\n",
       "      <th>pressure</th>\n",
       "    </tr>\n",
       "  </thead>\n",
       "  <tbody>\n",
       "    <tr>\n",
       "      <th>30</th>\n",
       "      <td>31</td>\n",
       "      <td>1</td>\n",
       "      <td>20</td>\n",
       "      <td>50</td>\n",
       "      <td>1.021298</td>\n",
       "      <td>0.0</td>\n",
       "      <td>1</td>\n",
       "      <td>19.546410</td>\n",
       "    </tr>\n",
       "    <tr>\n",
       "      <th>31</th>\n",
       "      <td>32</td>\n",
       "      <td>1</td>\n",
       "      <td>20</td>\n",
       "      <td>50</td>\n",
       "      <td>1.055426</td>\n",
       "      <td>0.0</td>\n",
       "      <td>1</td>\n",
       "      <td>17.015533</td>\n",
       "    </tr>\n",
       "    <tr>\n",
       "      <th>32</th>\n",
       "      <td>33</td>\n",
       "      <td>1</td>\n",
       "      <td>20</td>\n",
       "      <td>50</td>\n",
       "      <td>1.089404</td>\n",
       "      <td>0.0</td>\n",
       "      <td>1</td>\n",
       "      <td>9.563505</td>\n",
       "    </tr>\n",
       "    <tr>\n",
       "      <th>33</th>\n",
       "      <td>34</td>\n",
       "      <td>1</td>\n",
       "      <td>20</td>\n",
       "      <td>50</td>\n",
       "      <td>1.123387</td>\n",
       "      <td>0.0</td>\n",
       "      <td>1</td>\n",
       "      <td>7.876254</td>\n",
       "    </tr>\n",
       "    <tr>\n",
       "      <th>34</th>\n",
       "      <td>35</td>\n",
       "      <td>1</td>\n",
       "      <td>20</td>\n",
       "      <td>50</td>\n",
       "      <td>1.157591</td>\n",
       "      <td>0.0</td>\n",
       "      <td>1</td>\n",
       "      <td>8.649578</td>\n",
       "    </tr>\n",
       "  </tbody>\n",
       "</table>\n",
       "</div>"
      ],
      "text/plain": [
       "    id  breath_id   R   C  time_step  u_in  u_out   pressure\n",
       "30  31          1  20  50   1.021298   0.0      1  19.546410\n",
       "31  32          1  20  50   1.055426   0.0      1  17.015533\n",
       "32  33          1  20  50   1.089404   0.0      1   9.563505\n",
       "33  34          1  20  50   1.123387   0.0      1   7.876254\n",
       "34  35          1  20  50   1.157591   0.0      1   8.649578"
      ]
     },
     "execution_count": 7,
     "metadata": {},
     "output_type": "execute_result"
    }
   ],
   "source": [
    "train_out.head()"
   ]
  },
  {
   "cell_type": "markdown",
   "metadata": {},
   "source": [
    "# Add Features\n",
    "\n",
    "1. Apply lag shift (tested shift =1 ) \\\n",
    "    * Shift = 2 performs better (2.37 vs. 2.0x\n",
    "2. Add differentials for dt and du_in\n",
    "3. Add integral column for d_uin"
   ]
  },
  {
   "cell_type": "code",
   "execution_count": 8,
   "metadata": {
    "execution": {
     "iopub.execute_input": "2021-10-18T14:29:28.150797Z",
     "iopub.status.busy": "2021-10-18T14:29:28.150583Z",
     "iopub.status.idle": "2021-10-18T14:29:28.244732Z",
     "shell.execute_reply": "2021-10-18T14:29:28.243652Z",
     "shell.execute_reply.started": "2021-10-18T14:29:28.150772Z"
    }
   },
   "outputs": [
    {
     "name": "stderr",
     "output_type": "stream",
     "text": [
      "<ipython-input-8-d57519076511>:3: SettingWithCopyWarning: \n",
      "A value is trying to be set on a copy of a slice from a DataFrame.\n",
      "Try using .loc[row_indexer,col_indexer] = value instead\n",
      "\n",
      "See the caveats in the documentation: https://pandas.pydata.org/pandas-docs/stable/user_guide/indexing.html#returning-a-view-versus-a-copy\n",
      "  train_in['u_in_lag'] = u_in_lag\n",
      "C:\\Anaconda3\\lib\\site-packages\\pandas\\core\\frame.py:4163: SettingWithCopyWarning: \n",
      "A value is trying to be set on a copy of a slice from a DataFrame\n",
      "\n",
      "See the caveats in the documentation: https://pandas.pydata.org/pandas-docs/stable/user_guide/indexing.html#returning-a-view-versus-a-copy\n",
      "  return super().drop(\n",
      "<ipython-input-8-d57519076511>:8: SettingWithCopyWarning: \n",
      "A value is trying to be set on a copy of a slice from a DataFrame.\n",
      "Try using .loc[row_indexer,col_indexer] = value instead\n",
      "\n",
      "See the caveats in the documentation: https://pandas.pydata.org/pandas-docs/stable/user_guide/indexing.html#returning-a-view-versus-a-copy\n",
      "  test_in['u_in_lag'] = u_in_lag\n"
     ]
    }
   ],
   "source": [
    "# apply lag shift in training set\n",
    "u_in_lag = train_in.u_in.shift(3,fill_value=0)\n",
    "train_in['u_in_lag'] = u_in_lag\n",
    "train_in.drop(['u_in'],axis=1,inplace=True)\n",
    "\n",
    "# and for test set\n",
    "u_in_lag = test_in.u_in.shift(3,fill_value=0)\n",
    "test_in['u_in_lag'] = u_in_lag\n",
    "test_in.drop(['u_in'],axis=1,inplace=True)"
   ]
  },
  {
   "cell_type": "code",
   "execution_count": 9,
   "metadata": {
    "execution": {
     "iopub.execute_input": "2021-10-18T14:29:28.246290Z",
     "iopub.status.busy": "2021-10-18T14:29:28.246017Z",
     "iopub.status.idle": "2021-10-18T14:29:30.398844Z",
     "shell.execute_reply": "2021-10-18T14:29:30.397830Z",
     "shell.execute_reply.started": "2021-10-18T14:29:28.246261Z"
    }
   },
   "outputs": [
    {
     "name": "stderr",
     "output_type": "stream",
     "text": [
      "<ipython-input-9-3605c3e0385f>:8: SettingWithCopyWarning: \n",
      "A value is trying to be set on a copy of a slice from a DataFrame.\n",
      "Try using .loc[row_indexer,col_indexer] = value instead\n",
      "\n",
      "See the caveats in the documentation: https://pandas.pydata.org/pandas-docs/stable/user_guide/indexing.html#returning-a-view-versus-a-copy\n",
      "  train_in['dt'] = ldt\n",
      "<ipython-input-9-3605c3e0385f>:9: SettingWithCopyWarning: \n",
      "A value is trying to be set on a copy of a slice from a DataFrame.\n",
      "Try using .loc[row_indexer,col_indexer] = value instead\n",
      "\n",
      "See the caveats in the documentation: https://pandas.pydata.org/pandas-docs/stable/user_guide/indexing.html#returning-a-view-versus-a-copy\n",
      "  train_in['d_u_in'] = ldu_in\n",
      "<ipython-input-9-3605c3e0385f>:18: SettingWithCopyWarning: \n",
      "A value is trying to be set on a copy of a slice from a DataFrame.\n",
      "Try using .loc[row_indexer,col_indexer] = value instead\n",
      "\n",
      "See the caveats in the documentation: https://pandas.pydata.org/pandas-docs/stable/user_guide/indexing.html#returning-a-view-versus-a-copy\n",
      "  test_in['dt'] = ldt\n",
      "<ipython-input-9-3605c3e0385f>:19: SettingWithCopyWarning: \n",
      "A value is trying to be set on a copy of a slice from a DataFrame.\n",
      "Try using .loc[row_indexer,col_indexer] = value instead\n",
      "\n",
      "See the caveats in the documentation: https://pandas.pydata.org/pandas-docs/stable/user_guide/indexing.html#returning-a-view-versus-a-copy\n",
      "  test_in['d_u_in'] = ldu_in\n"
     ]
    }
   ],
   "source": [
    "# add dt and du_in to train_in\n",
    "dt = np.diff(train_in.time_step)\n",
    "ldt = list(dt)\n",
    "ldt.append(ldt[-1])\n",
    "du_in = np.diff(train_in.u_in_lag)\n",
    "ldu_in = list(du_in)\n",
    "ldu_in.append(ldu_in[-1])\n",
    "train_in['dt'] = ldt\n",
    "train_in['d_u_in'] = ldu_in\n",
    " \n",
    "# Add dt and du_in to test_in\n",
    "dt = np.diff(test_in.time_step)\n",
    "ldt = list(dt)\n",
    "ldt.append(ldt[-1])\n",
    "du_in = np.diff(test_in.u_in_lag)\n",
    "ldu_in = list(du_in)\n",
    "ldu_in.append(ldu_in[-1])\n",
    "test_in['dt'] = ldt\n",
    "test_in['d_u_in'] = ldu_in"
   ]
  },
  {
   "cell_type": "markdown",
   "metadata": {},
   "source": [
    "### Add integral column"
   ]
  },
  {
   "cell_type": "code",
   "execution_count": 10,
   "metadata": {},
   "outputs": [],
   "source": [
    "# add integral\n",
    "breath_id_idx = train_in.breath_id.unique()"
   ]
  },
  {
   "cell_type": "code",
   "execution_count": 11,
   "metadata": {},
   "outputs": [],
   "source": [
    "# function to get single breath (id must exist...there are some that are missing)\n",
    "# also once removed u_out=1, lengths are not always 30 (some 28, etc)\n",
    "def get_breath(df,my_id):\n",
    "    return df[df.breath_id == my_id] "
   ]
  },
  {
   "cell_type": "code",
   "execution_count": 12,
   "metadata": {},
   "outputs": [
    {
     "data": {
      "text/plain": [
       "[<matplotlib.lines.Line2D at 0x20b387ad430>]"
      ]
     },
     "execution_count": 12,
     "metadata": {},
     "output_type": "execute_result"
    },
    {
     "data": {
      "image/png": "[encoded data removed]",
      "text/plain": [
       "<Figure size 432x288 with 1 Axes>"
      ]
     },
     "metadata": {},
     "output_type": "display_data"
    }
   ],
   "source": [
    "dt1 = get_breath(train_in,1)\n",
    "plt.plot(dt1.dt[0:-1])"
   ]
  },
  {
   "cell_type": "code",
   "execution_count": 13,
   "metadata": {},
   "outputs": [],
   "source": [
    "# Add integral column\n"
   ]
  },
  {
   "cell_type": "code",
   "execution_count": 14,
   "metadata": {
    "execution": {
     "iopub.execute_input": "2021-10-18T14:29:30.400722Z",
     "iopub.status.busy": "2021-10-18T14:29:30.400493Z",
     "iopub.status.idle": "2021-10-18T14:29:30.412686Z",
     "shell.execute_reply": "2021-10-18T14:29:30.412107Z",
     "shell.execute_reply.started": "2021-10-18T14:29:30.400697Z"
    }
   },
   "outputs": [
    {
     "data": {
      "text/html": [
       "<div>\n",
       "<style scoped>\n",
       "    .dataframe tbody tr th:only-of-type {\n",
       "        vertical-align: middle;\n",
       "    }\n",
       "\n",
       "    .dataframe tbody tr th {\n",
       "        vertical-align: top;\n",
       "    }\n",
       "\n",
       "    .dataframe thead th {\n",
       "        text-align: right;\n",
       "    }\n",
       "</style>\n",
       "<table border=\"1\" class=\"dataframe\">\n",
       "  <thead>\n",
       "    <tr style=\"text-align: right;\">\n",
       "      <th></th>\n",
       "      <th>id</th>\n",
       "      <th>breath_id</th>\n",
       "      <th>R</th>\n",
       "      <th>C</th>\n",
       "      <th>time_step</th>\n",
       "      <th>u_out</th>\n",
       "      <th>u_in_lag</th>\n",
       "      <th>dt</th>\n",
       "      <th>d_u_in</th>\n",
       "    </tr>\n",
       "  </thead>\n",
       "  <tbody>\n",
       "    <tr>\n",
       "      <th>0</th>\n",
       "      <td>1</td>\n",
       "      <td>0</td>\n",
       "      <td>5</td>\n",
       "      <td>20</td>\n",
       "      <td>0.000000</td>\n",
       "      <td>0</td>\n",
       "      <td>0.000000</td>\n",
       "      <td>0.031904</td>\n",
       "      <td>0.000000</td>\n",
       "    </tr>\n",
       "    <tr>\n",
       "      <th>1</th>\n",
       "      <td>2</td>\n",
       "      <td>0</td>\n",
       "      <td>5</td>\n",
       "      <td>20</td>\n",
       "      <td>0.031904</td>\n",
       "      <td>0</td>\n",
       "      <td>0.000000</td>\n",
       "      <td>0.031924</td>\n",
       "      <td>0.000000</td>\n",
       "    </tr>\n",
       "    <tr>\n",
       "      <th>2</th>\n",
       "      <td>3</td>\n",
       "      <td>0</td>\n",
       "      <td>5</td>\n",
       "      <td>20</td>\n",
       "      <td>0.063827</td>\n",
       "      <td>0</td>\n",
       "      <td>0.000000</td>\n",
       "      <td>0.031924</td>\n",
       "      <td>0.000000</td>\n",
       "    </tr>\n",
       "    <tr>\n",
       "      <th>3</th>\n",
       "      <td>4</td>\n",
       "      <td>0</td>\n",
       "      <td>5</td>\n",
       "      <td>20</td>\n",
       "      <td>0.095751</td>\n",
       "      <td>0</td>\n",
       "      <td>0.000000</td>\n",
       "      <td>0.031893</td>\n",
       "      <td>7.515046</td>\n",
       "    </tr>\n",
       "    <tr>\n",
       "      <th>4</th>\n",
       "      <td>5</td>\n",
       "      <td>0</td>\n",
       "      <td>5</td>\n",
       "      <td>20</td>\n",
       "      <td>0.127644</td>\n",
       "      <td>0</td>\n",
       "      <td>7.515046</td>\n",
       "      <td>0.031914</td>\n",
       "      <td>7.136630</td>\n",
       "    </tr>\n",
       "  </tbody>\n",
       "</table>\n",
       "</div>"
      ],
      "text/plain": [
       "   id  breath_id  R   C  time_step  u_out  u_in_lag        dt    d_u_in\n",
       "0   1          0  5  20   0.000000      0  0.000000  0.031904  0.000000\n",
       "1   2          0  5  20   0.031904      0  0.000000  0.031924  0.000000\n",
       "2   3          0  5  20   0.063827      0  0.000000  0.031924  0.000000\n",
       "3   4          0  5  20   0.095751      0  0.000000  0.031893  7.515046\n",
       "4   5          0  5  20   0.127644      0  7.515046  0.031914  7.136630"
      ]
     },
     "execution_count": 14,
     "metadata": {},
     "output_type": "execute_result"
    }
   ],
   "source": [
    "test_in.head()"
   ]
  },
  {
   "cell_type": "markdown",
   "metadata": {},
   "source": [
    "10/17/21 New in this run:\n",
    "* Shifted by time lag 0f 2\n",
    "* Added two new features:\n",
    "    * dt\n",
    "    * du_in\n"
   ]
  },
  {
   "cell_type": "markdown",
   "metadata": {},
   "source": [
    "# Model"
   ]
  },
  {
   "cell_type": "code",
   "execution_count": 15,
   "metadata": {
    "execution": {
     "iopub.execute_input": "2021-10-18T14:29:30.415208Z",
     "iopub.status.busy": "2021-10-18T14:29:30.414394Z",
     "iopub.status.idle": "2021-10-18T14:29:30.651768Z",
     "shell.execute_reply": "2021-10-18T14:29:30.650918Z",
     "shell.execute_reply.started": "2021-10-18T14:29:30.415170Z"
    }
   },
   "outputs": [],
   "source": [
    "from sklearn.metrics import mean_absolute_error # ,confusion_matrix, classification_report"
   ]
  },
  {
   "cell_type": "code",
   "execution_count": 16,
   "metadata": {
    "execution": {
     "iopub.execute_input": "2021-10-18T14:29:30.653946Z",
     "iopub.status.busy": "2021-10-18T14:29:30.653692Z",
     "iopub.status.idle": "2021-10-18T14:29:31.100418Z",
     "shell.execute_reply": "2021-10-18T14:29:31.099278Z",
     "shell.execute_reply.started": "2021-10-18T14:29:30.653919Z"
    }
   },
   "outputs": [
    {
     "name": "stderr",
     "output_type": "stream",
     "text": [
      "C:\\Anaconda3\\lib\\site-packages\\pandas\\core\\frame.py:4163: SettingWithCopyWarning: \n",
      "A value is trying to be set on a copy of a slice from a DataFrame\n",
      "\n",
      "See the caveats in the documentation: https://pandas.pydata.org/pandas-docs/stable/user_guide/indexing.html#returning-a-view-versus-a-copy\n",
      "  return super().drop(\n"
     ]
    }
   ],
   "source": [
    "# Split data - after all analysis is done\n",
    "from sklearn.model_selection import train_test_split\n",
    "\n",
    "train_in.drop(columns = ['pressure','id','breath_id'], inplace = True)\n",
    "#test = test.drop(columns = 'id', inplace = True)\n",
    "\n",
    "X_train, X_valid, y_train, y_valid = train_test_split(train_in, y_in, train_size=0.8, test_size=0.2,\n",
    "                                                      random_state=12)\n",
    "X_test_in = test_in.copy().drop(columns=['id','breath_id'])"
   ]
  },
  {
   "cell_type": "code",
   "execution_count": 17,
   "metadata": {
    "execution": {
     "iopub.execute_input": "2021-10-18T14:29:31.101918Z",
     "iopub.status.busy": "2021-10-18T14:29:31.101672Z",
     "iopub.status.idle": "2021-10-18T14:29:31.110045Z",
     "shell.execute_reply": "2021-10-18T14:29:31.109078Z",
     "shell.execute_reply.started": "2021-10-18T14:29:31.101889Z"
    }
   },
   "outputs": [],
   "source": [
    "# from sklearn.tree import DecisionTreeRegressor\n",
    "\n",
    "# for i in range(100,200,20): \n",
    "#     model_dt = DecisionTreeRegressor(n_estimators = i, max_depth=16, random_state=12)\n",
    "#     model_dt.fit(X_train, y_train)\n",
    "#     pred_dt = model_dt.predict(X_valid)\n",
    "\n",
    "#     #dt = roc_auc_score(y_valid,pred_dt)\n",
    "#     dt_mae_score = mean_absolute_error(pred_dt, y_valid)\n",
    "#     print(f'Decision Tree MAE Score for max_depth={i} is : {dt_mae_score}')\n",
    "# with default params, score = 2.413, but lb = 4.791.  Why the large difference?\n",
    "# 11/17/21 changed to inhale only and my scores are matching better\n",
    "    \n",
    "# Decision Tree MAE Score for max_depth=2 is : 6.3443955300614405\n",
    "# Decision Tree MAE Score for max_depth=3 is : 6.028395026290743\n",
    "# Decision Tree MAE Score for max_depth=4 is : 5.678540615661189\n",
    "# Decision Tree MAE Score for max_depth=5 is : 5.3517588341023155\n",
    "# Decision Tree MAE Score for max_depth=6 is : 4.952135011724083\n",
    "# Decision Tree MAE Score for max_depth=7 is : 4.669474094251829\n",
    "# Decision Tree MAE Score for max_depth=8 is : 4.430497791001828\n",
    "# Decision Tree MAE Score for max_depth=9 is : 4.235200007248183\n",
    "# Decision Tree MAE Score for max_depth=10 is : 4.111949020503175\n",
    "# Decision Tree MAE Score for max_depth=11 is : 4.002433270178995\n",
    "# Decision Tree MAE Score for max_depth=12 is : 3.9195341438467897\n",
    "# Decision Tree MAE Score for max_depth=13 is : 3.84778054263597\n",
    "# Decision Tree MAE Score for max_depth=14 is : 3.79583210088494\n",
    "# Decision Tree MAE Score for max_depth=15 is : 3.75439201392607\n",
    "# Decision Tree MAE Score for max_depth=16 is : 3.7410021329185414\n",
    "# Decision Tree MAE Score for max_depth=17 is : 3.744247688109701\n",
    "# Decision Tree MAE Score for max_depth=18 is : 3.7645064417036505\n",
    "# Decision Tree MAE Score for max_depth=19 is : 3.800083196701423\n",
    "# Decision Tree MAE Score for max_depth=20 is : 3.852334638461889\n",
    "# Decision Tree MAE Score for max_depth=21 is : 3.911532812448746\n",
    "# Decision Tree MAE Score for max_depth=22 is : 3.9779119228181203\n",
    "# Decision Tree MAE Score for max_depth=23 is : 4.044951907548471\n",
    "# Decision Tree MAE Score for max_depth=24 is : 4.112202068631238\n",
    "# min at max_depth=16 (3.741)\n"
   ]
  },
  {
   "cell_type": "code",
   "execution_count": 18,
   "metadata": {
    "execution": {
     "iopub.execute_input": "2021-10-18T14:29:31.112034Z",
     "iopub.status.busy": "2021-10-18T14:29:31.111630Z",
     "iopub.status.idle": "2021-10-18T14:58:04.547625Z",
     "shell.execute_reply": "2021-10-18T14:58:04.546283Z",
     "shell.execute_reply.started": "2021-10-18T14:29:31.111906Z"
    }
   },
   "outputs": [
    {
     "name": "stdout",
     "output_type": "stream",
     "text": [
      "Random Forest MAE Score: 2.03014981349922\n",
      "Wall time: 18min 30s\n"
     ]
    }
   ],
   "source": [
    "%%time\n",
    "#random forest\n",
    "from sklearn.ensemble import RandomForestRegressor\n",
    "model_rf = RandomForestRegressor()\n",
    "model_rf.fit(X_train, y_train)\n",
    "pred_rf = model_rf.predict(X_valid)\n",
    "rf_mae = mean_absolute_error(pred_rf,y_valid)\n",
    "print(f'Random Forest MAE Score: {rf_mae}')\n",
    "\n",
    "# (n_estimators=100, max_depth=7,min_samples_leaf=0.06, random_state=12), mae=3.12775, lb score = 6.431(?)\n",
    "# Why is random forest worse?  \n",
    "# 10/17/21: Still worse after using only inhales\n",
    "# defaults: runs out of memory!!!???\n",
    "# (n_estimators=100, max_depth=7,min_samples_leaf=0.06, random_state=12) = 5.867\n",
    "# reduced dtype sizes on ints: \n",
    "# 3.627 default, lb = 3.710\n",
    "# changed criterion to mae...doesn't work...removed\n",
    "\n",
    "# with dt and du_in, shift=1, 2.364 vs. lb of 2.37.  Beats catboost (400,.6)\n",
    "# with dt and du_in, shift=2, Random Forest MAE Score: 2.058162936194095\n",
    "# with dt and du_in, shift=3, Random Forest MAE Score: 2.03014981349922\n",
    "# interesting shift 3 is a little better.\n"
   ]
  },
  {
   "cell_type": "code",
   "execution_count": 19,
   "metadata": {},
   "outputs": [
    {
     "name": "stdout",
     "output_type": "stream",
     "text": [
      "CatBoost MAE Score: 2.2637883266795598\n",
      "Wall time: 2min 26s\n"
     ]
    }
   ],
   "source": [
    "%%time\n",
    "from catboost import CatBoostRegressor\n",
    "# loop for manual type cv\n",
    "#preds = []\n",
    "#for i in np.arange(1,2):\n",
    "#     X_train, X_valid, y_train, y_valid = train_test_split(train, y, train_size=0.8, test_size=0.2,\n",
    "#                                                       random_state=i)\n",
    "model_cat = CatBoostRegressor(loss_function=\"MAE\",\n",
    "                               eval_metric=\"MAE\",\n",
    "                               task_type=\"GPU\",\n",
    "                               learning_rate=.6,\n",
    "                               iterations=8000,\n",
    "                               l2_leaf_reg=50,\n",
    "                               random_seed=12,\n",
    "                               od_type=\"Iter\",\n",
    "                               depth=5,\n",
    "                               #early_stopping_rounds=6500,\n",
    "                               border_count=64,\n",
    "                               verbose=False\n",
    "                              )\n",
    "model_cat.fit(X_train,y_train)\n",
    "pred_cat = model_cat.predict(X_valid)\n",
    "score_cat = mean_absolute_error(y_valid,pred_cat)\n",
    "#print(f'iters={i}, lr={j}, CatBoost MAE Score: {score_cat}')\n",
    "print(f'CatBoost MAE Score: {score_cat}')\n",
    "#preds.append(model_cat.predict_proba(X_test)[:,1])\n",
    "# 400, .6 = 3.976\n",
    "# 400, .6 with shift=1 and dt, duin = 2.97\n",
    "# 1000, .6, \" \" = 2.79\n",
    "# 4000, .6  \"\" = 2.64\n",
    "# 8000 same = 2.59\n",
    "# 8000 with shift=2: 2.26299, still worse than rf = 2.058\n",
    "# repeat with shift=3, 2.263788"
   ]
  },
  {
   "cell_type": "code",
   "execution_count": 20,
   "metadata": {
    "execution": {
     "iopub.execute_input": "2021-10-18T14:58:04.550458Z",
     "iopub.status.busy": "2021-10-18T14:58:04.550115Z",
     "iopub.status.idle": "2021-10-18T14:58:04.558181Z",
     "shell.execute_reply": "2021-10-18T14:58:04.557445Z",
     "shell.execute_reply.started": "2021-10-18T14:58:04.550412Z"
    }
   },
   "outputs": [
    {
     "data": {
      "text/plain": [
       "{'bootstrap': True,\n",
       " 'ccp_alpha': 0.0,\n",
       " 'criterion': 'mse',\n",
       " 'max_depth': None,\n",
       " 'max_features': 'auto',\n",
       " 'max_leaf_nodes': None,\n",
       " 'max_samples': None,\n",
       " 'min_impurity_decrease': 0.0,\n",
       " 'min_impurity_split': None,\n",
       " 'min_samples_leaf': 1,\n",
       " 'min_samples_split': 2,\n",
       " 'min_weight_fraction_leaf': 0.0,\n",
       " 'n_estimators': 100,\n",
       " 'n_jobs': None,\n",
       " 'oob_score': False,\n",
       " 'random_state': None,\n",
       " 'verbose': 0,\n",
       " 'warm_start': False}"
      ]
     },
     "execution_count": 20,
     "metadata": {},
     "output_type": "execute_result"
    }
   ],
   "source": [
    "model_rf.get_params()"
   ]
  },
  {
   "cell_type": "markdown",
   "metadata": {},
   "source": [
    "### Final Model"
   ]
  },
  {
   "cell_type": "code",
   "execution_count": 21,
   "metadata": {
    "execution": {
     "iopub.execute_input": "2021-10-18T14:58:04.559549Z",
     "iopub.status.busy": "2021-10-18T14:58:04.559259Z",
     "iopub.status.idle": "2021-10-18T14:58:05.838566Z",
     "shell.execute_reply": "2021-10-18T14:58:05.837678Z",
     "shell.execute_reply.started": "2021-10-18T14:58:04.559522Z"
    }
   },
   "outputs": [
    {
     "data": {
      "text/plain": [
       "32         1.0\n",
       "33         1.0\n",
       "34         1.0\n",
       "35         1.0\n",
       "36         1.0\n",
       "          ... \n",
       "4023996    1.0\n",
       "4023997    1.0\n",
       "4023998    1.0\n",
       "4023999    1.0\n",
       "4024000    1.0\n",
       "Length: 2496435, dtype: float64"
      ]
     },
     "execution_count": 21,
     "metadata": {},
     "output_type": "execute_result"
    }
   ],
   "source": [
    "# create outpreds = average out value\n",
    "out_preds = np.ones(len(test_out))\n",
    "i = list(test_out.id)\n",
    "out_preds_s = pd.Series(out_preds,index = i)\n",
    "out_preds_s"
   ]
  },
  {
   "cell_type": "code",
   "execution_count": 22,
   "metadata": {
    "execution": {
     "iopub.execute_input": "2021-10-18T14:58:05.840048Z",
     "iopub.status.busy": "2021-10-18T14:58:05.839592Z",
     "iopub.status.idle": "2021-10-18T15:00:45.331618Z",
     "shell.execute_reply": "2021-10-18T15:00:45.330750Z",
     "shell.execute_reply.started": "2021-10-18T14:58:05.840017Z"
    }
   },
   "outputs": [
    {
     "data": {
      "text/plain": [
       "1    6.280360\n",
       "2    6.371085\n",
       "3    9.871429\n",
       "4    6.703614\n",
       "5    8.351496\n",
       "dtype: float64"
      ]
     },
     "execution_count": 22,
     "metadata": {},
     "output_type": "execute_result"
    }
   ],
   "source": [
    "pred_final = model_rf.predict(X_test_in)\n",
    "# add indexs to recombine with out preds\n",
    "pred_final_s = pd.Series(pred_final,index=list(test_in.id))\n",
    "pred_final_s.head()"
   ]
  },
  {
   "cell_type": "code",
   "execution_count": 23,
   "metadata": {
    "execution": {
     "iopub.execute_input": "2021-10-18T15:00:45.334080Z",
     "iopub.status.busy": "2021-10-18T15:00:45.333777Z",
     "iopub.status.idle": "2021-10-18T15:00:46.298293Z",
     "shell.execute_reply": "2021-10-18T15:00:46.297480Z",
     "shell.execute_reply.started": "2021-10-18T15:00:45.334050Z"
    }
   },
   "outputs": [
    {
     "data": {
      "text/plain": [
       "array([6.28036007, 6.37108499, 9.87142881, ..., 1.        , 1.        ,\n",
       "       1.        ])"
      ]
     },
     "execution_count": 23,
     "metadata": {},
     "output_type": "execute_result"
    }
   ],
   "source": [
    "both = pred_final_s.append(out_preds_s).sort_index()\n",
    "both.values"
   ]
  },
  {
   "cell_type": "code",
   "execution_count": 24,
   "metadata": {
    "execution": {
     "iopub.execute_input": "2021-10-18T15:00:46.301314Z",
     "iopub.status.busy": "2021-10-18T15:00:46.300914Z",
     "iopub.status.idle": "2021-10-18T15:00:53.642995Z",
     "shell.execute_reply": "2021-10-18T15:00:53.642311Z",
     "shell.execute_reply.started": "2021-10-18T15:00:46.301280Z"
    }
   },
   "outputs": [
    {
     "name": "stdout",
     "output_type": "stream",
     "text": [
      "Submission saved!\n"
     ]
    }
   ],
   "source": [
    "output = pd.DataFrame({'id': test.id, 'pressure': both.values})\n",
    "output.to_csv('submission.csv', index=False)\n",
    "print(\"Submission saved!\")"
   ]
  },
  {
   "cell_type": "code",
   "execution_count": null,
   "metadata": {},
   "outputs": [],
   "source": []
  }
 ],
 "metadata": {
  "kernelspec": {
   "display_name": "Python 3",
   "language": "python",
   "name": "python3"
  },
  "language_info": {
   "codemirror_mode": {
    "name": "ipython",
    "version": 3
   },
   "file_extension": ".py",
   "mimetype": "text/x-python",
   "name": "python",
   "nbconvert_exporter": "python",
   "pygments_lexer": "ipython3",
   "version": "3.8.5"
  }
 },
 "nbformat": 4,
 "nbformat_minor": 4
}
