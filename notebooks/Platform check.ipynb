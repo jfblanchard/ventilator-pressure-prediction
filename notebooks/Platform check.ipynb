{
 "cells": [
  {
   "cell_type": "code",
   "execution_count": 13,
   "id": "7b23697c",
   "metadata": {},
   "outputs": [],
   "source": [
    "import platform\n",
    "from IPython.display import Audio\n",
    "#sound_file = './sound/beep.wav'"
   ]
  },
  {
   "cell_type": "code",
   "execution_count": 14,
   "id": "6dc65c4c",
   "metadata": {},
   "outputs": [
    {
     "data": {
      "text/plain": [
       "'7'"
      ]
     },
     "execution_count": 14,
     "metadata": {},
     "output_type": "execute_result"
    }
   ],
   "source": [
    "platform.system()\n",
    "platform.release()\n",
    "\n",
    "#Audio(sound_file, rate=30,autoplay=True)"
   ]
  },
  {
   "cell_type": "code",
   "execution_count": 18,
   "id": "5a502f88",
   "metadata": {},
   "outputs": [],
   "source": [
    "if platform.system() == 'Windows' and platform.release() == '7':\n",
    "    drive = 'F'\n",
    "elif platform.system() == 'Windows' and platform.release() == '10':\n",
    "    drive = 'C'\n",
    "elif platform.system() == 'Linux':\n",
    "    # unimplemented\n",
    "    pass   \n"
   ]
  },
  {
   "cell_type": "code",
   "execution_count": 19,
   "id": "39b0b975",
   "metadata": {},
   "outputs": [
    {
     "data": {
      "text/plain": [
       "'F'"
      ]
     },
     "execution_count": 19,
     "metadata": {},
     "output_type": "execute_result"
    }
   ],
   "source": [
    "drive"
   ]
  },
  {
   "cell_type": "code",
   "execution_count": null,
   "id": "81cfcb42",
   "metadata": {},
   "outputs": [],
   "source": []
  }
 ],
 "metadata": {
  "kernelspec": {
   "display_name": "Python 3 (ipykernel)",
   "language": "python",
   "name": "python3"
  },
  "language_info": {
   "codemirror_mode": {
    "name": "ipython",
    "version": 3
   },
   "file_extension": ".py",
   "mimetype": "text/x-python",
   "name": "python",
   "nbconvert_exporter": "python",
   "pygments_lexer": "ipython3",
   "version": "3.8.8"
  }
 },
 "nbformat": 4,
 "nbformat_minor": 5
}
