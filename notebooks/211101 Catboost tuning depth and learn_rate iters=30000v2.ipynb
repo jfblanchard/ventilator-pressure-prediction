{
 "cells": [
  {
   "cell_type": "markdown",
   "metadata": {},
   "source": [
    "### This notebook is derived from forkv1-of-ventilator-24oct-baseline-v7\n",
    "\n",
    "### v7:\n",
    "    \n",
    "        * Result of \n",
    "            * CatBoost MAE Score, i = 400: 0.9797924232229948\n",
    "            * CatBoost MAE Score, i = 4000: 0.7013653955979511\n",
    "            * LGBM MAE Score, i = 0: 0.4675285363435313\n",
    "            * Random Forest MAE Score: 0.4449081970704603\n",
    "            * LB score: .5586 (rf) and .6421 (lgbm)\n",
    "        * Run equation parameter investigation on laptop\n",
    "        * R(1-e**-M*time/tot_time), where -M could be multiples of R and C\n",
    "        * initial test with varying exponential values didn't produce much change.  Save\n",
    "        * lots more trials on 10/26 to try and optimize the spring functions with no luck.\n",
    "        * added lightgbm model, which gives lower scores than catboost, but submissions are whacked.\n",
    "        * saving this version in a buggy state, but refactor on next iteration.\n",
    "        \n",
    "        * maybe delta from mean\n",
    "        * derivative squared?\n",
    "        * Need to ensure starting values are right...shift breath_id also...start with that\n",
    "\n",
    "### v6:\n",
    "    * add u_in exponential R(1-e**-1uin/max_uin.)\n",
    "        * maybe use C as multiplier instead of R and experiment with e ratios\n",
    "        * didn't get great improvement. Maybe relook at physics.\n",
    "    * next, add log of u_in feature? Had issues with zeros.  \n",
    "\n",
    "### v5:\n",
    "\n",
    "   * Add RC feature (with spring above at .5): 1.0432, .780\n",
    "   * Add R/C feature (with eqn above at .5): 1.027, .7752\n",
    "   * Add C/R feature also (with eqn above at .5):  1.0276, .7743\n",
    "   * added breath_id back: 1.0316, .77345\n",
    "   * with second deriv = 1.013, .741  some improvement!  But why doesn't the corr reflect this?\n",
    "   * catboost 10000 iterations: .677 !!! It is starting to increase better at higher iterations\n",
    "   * 20000 iterations: .637 approaching the RF score (.61)\n",
    "   * 30000 iterations! depth=6, .5887!!  But leaderboard was .70!  \n",
    "       * **I guess that means overfitting!\n",
    "   * with 3rd deriv and u_in_squared added: 1.0117, .7363, try rf: .50277 vs. .5846 lb...best so far\n",
    "     * baselining for v5\n",
    "\n",
    "### Previous Versions\n",
    "\n",
    "Adding max u_in feature helped score from  ~.75 to ~.65.\n",
    "\n",
    "Pipeline is:\n",
    "* reduce memory\n",
    "* split into two sets\n",
    "* add features: max_time, max_u_in, dt, u_in_slope, u_in_area\n",
    "\n",
    "Fork v1 adds u_in_ratio feature\n",
    "* catboost drops a little 1.09 to ~1.065 ,didnt run rf.\n",
    "\n",
    "Add 1/area feature since R decreases with increasing lung volume\n",
    "   * helps a little, not much\n",
    "   * with 1/R*area: 1.0727, .808181 \n",
    " \n",
    "v4?\n",
    "Add R(1-np.exp(-1*t/t_max)\n",
    "   * spring R(1-np.exp(-1*time/time_max)): 1.0661, .7899\n",
    "   * spring R(1-np.exp(-2*time/time_max)): 1.0612, .7857\n",
    "   * spring R(1-np.exp(-3*time/time_max)): 1.0551, .7868\n",
    "   * spring R(1-np.exp(-5*time/time_max)): 1.0575, .7847\n",
    "   * spring R(1-np.exp(-R*time/time_max)): 1.0529, .7877\n",
    "   * spring R(1-np.exp(-.5*R*time/time_max)): 1.0541, .7842\n",
    "   * spring R(1-np.exp(-.2*R*time/time_max)): 1.0549, .7854\n"
   ]
  },
  {
   "cell_type": "markdown",
   "metadata": {},
   "source": [
    "# Libraries"
   ]
  },
  {
   "cell_type": "code",
   "execution_count": 1,
   "metadata": {
    "execution": {
     "iopub.execute_input": "2021-10-22T16:59:47.653466Z",
     "iopub.status.busy": "2021-10-22T16:59:47.652792Z",
     "iopub.status.idle": "2021-10-22T16:59:47.658457Z",
     "shell.execute_reply": "2021-10-22T16:59:47.657596Z",
     "shell.execute_reply.started": "2021-10-22T16:59:47.653426Z"
    }
   },
   "outputs": [],
   "source": [
    "import pandas as pd\n",
    "import numpy as np\n",
    "import matplotlib.pyplot as plt\n",
    "import seaborn as sns\n",
    "sns.set_style('whitegrid')\n",
    "import platform\n",
    "pd.options.mode.chained_assignment = None"
   ]
  },
  {
   "cell_type": "markdown",
   "metadata": {},
   "source": [
    "# Functions"
   ]
  },
  {
   "cell_type": "markdown",
   "metadata": {},
   "source": [
    "# Load Files"
   ]
  },
  {
   "cell_type": "code",
   "execution_count": 2,
   "metadata": {
    "execution": {
     "iopub.execute_input": "2021-10-22T16:59:54.066724Z",
     "iopub.status.busy": "2021-10-22T16:59:54.064146Z",
     "iopub.status.idle": "2021-10-22T17:00:01.672161Z",
     "shell.execute_reply": "2021-10-22T17:00:01.670519Z",
     "shell.execute_reply.started": "2021-10-22T16:59:54.066680Z"
    }
   },
   "outputs": [
    {
     "name": "stdout",
     "output_type": "stream",
     "text": [
      "Wall time: 2.2 s\n"
     ]
    }
   ],
   "source": [
    "%%time\n",
    "# Load files\n",
    "if platform.system() == 'Windows' and platform.release() == '7':\n",
    "    drive = 'F'\n",
    "elif platform.system() == 'Windows' and platform.release() == '10':\n",
    "    drive = 'C'\n",
    "    \n",
    "train = pd.read_csv(drive + r':\\Sync\\Work\\Kaggle Competitions\\Ventilator Pressure Prediction\\Data\\train.csv',nrows=80*10000)\n",
    "test = pd.read_csv(drive + r':\\Sync\\Work\\Kaggle Competitions\\Ventilator Pressure Prediction\\Data\\test.csv')\n",
    "    \n",
    "#train = pd.read_csv('../input/ventilator-pressure-prediction/train.csv')\n",
    "#test = pd.read_csv('../input/ventilator-pressure-prediction/test.csv')\n",
    "\n",
    "#sample data\n",
    "y = train['pressure']\n"
   ]
  },
  {
   "cell_type": "markdown",
   "metadata": {},
   "source": [
    "# Memory Reduction"
   ]
  },
  {
   "cell_type": "code",
   "execution_count": 3,
   "metadata": {
    "execution": {
     "iopub.execute_input": "2021-10-22T17:00:01.674284Z",
     "iopub.status.busy": "2021-10-22T17:00:01.673976Z",
     "iopub.status.idle": "2021-10-22T17:00:01.681060Z",
     "shell.execute_reply": "2021-10-22T17:00:01.680097Z",
     "shell.execute_reply.started": "2021-10-22T17:00:01.674231Z"
    }
   },
   "outputs": [],
   "source": [
    "# down convert columns to save memory...\n",
    "def reduce_memory(df):\n",
    "    \n",
    "    print(f'Initial memory usage: {df.memory_usage().sum()/1024**2:0.1f}MB')\n",
    "    df['id'] = df['id'].astype(np.int32)\n",
    "    df['breath_id'] = df['breath_id'].astype(np.int32)\n",
    "    df['R'] = df['R'].astype(np.int8)  #or OHC?\n",
    "    df['C'] = df['C'].astype(np.int8)\n",
    "    df['u_out'] = df['u_out'].astype(np.int8)\n",
    "    df['u_in'] = df['u_in'].astype(np.float32)\n",
    "    df['time_step'] = df['time_step'].astype(np.float32)\n",
    "    print(f'New memory usage: {df.memory_usage().sum()/1024**2:0.1f}MB')\n",
    "    \n",
    "    # somewhere else I printed out a reduction as well.\n",
    "    \n",
    "#     for col in test.columns:\n",
    "#         print(test[col].dtype)"
   ]
  },
  {
   "cell_type": "code",
   "execution_count": 4,
   "metadata": {
    "execution": {
     "iopub.execute_input": "2021-10-22T17:00:01.682980Z",
     "iopub.status.busy": "2021-10-22T17:00:01.682685Z",
     "iopub.status.idle": "2021-10-22T17:00:02.170266Z",
     "shell.execute_reply": "2021-10-22T17:00:02.169426Z",
     "shell.execute_reply.started": "2021-10-22T17:00:01.682946Z"
    }
   },
   "outputs": [
    {
     "name": "stdout",
     "output_type": "stream",
     "text": [
      "Train:\n",
      "Initial memory usage: 48.8MB\n",
      "New memory usage: 20.6MB\n",
      "Test:\n",
      "Initial memory usage: 214.9MB\n",
      "New memory usage: 72.9MB\n"
     ]
    }
   ],
   "source": [
    "print('Train:')\n",
    "reduce_memory(train)\n",
    "print('Test:')\n",
    "reduce_memory(test)\n"
   ]
  },
  {
   "cell_type": "markdown",
   "metadata": {},
   "source": [
    "# Split data into inhalitory and exhalitory phase (only scored on inhale)"
   ]
  },
  {
   "cell_type": "code",
   "execution_count": 107,
   "metadata": {
    "execution": {
     "iopub.execute_input": "2021-10-22T17:15:32.578055Z",
     "iopub.status.busy": "2021-10-22T17:15:32.577801Z",
     "iopub.status.idle": "2021-10-22T17:15:32.814947Z",
     "shell.execute_reply": "2021-10-22T17:15:32.814202Z",
     "shell.execute_reply.started": "2021-10-22T17:15:32.578027Z"
    }
   },
   "outputs": [],
   "source": [
    "train_in = train[train.u_out == 0]\n",
    "test_in = test[test.u_out == 0]\n",
    "y_in = train_in['pressure']\n",
    "\n",
    "train_out = train[train.u_out == 1]\n",
    "test_out = test[test.u_out == 1]"
   ]
  },
  {
   "cell_type": "markdown",
   "metadata": {},
   "source": [
    "### Get indicies of valid breaths, and indicies of transition"
   ]
  },
  {
   "cell_type": "code",
   "execution_count": 108,
   "metadata": {
    "execution": {
     "iopub.execute_input": "2021-10-22T17:15:33.267791Z",
     "iopub.status.busy": "2021-10-22T17:15:33.267022Z",
     "iopub.status.idle": "2021-10-22T17:15:33.313842Z",
     "shell.execute_reply": "2021-10-22T17:15:33.313140Z",
     "shell.execute_reply.started": "2021-10-22T17:15:33.267752Z"
    }
   },
   "outputs": [],
   "source": [
    "#check for infinite or nan values\n",
    "\n",
    "#train_in.inv_area.isinf().sum()\n",
    "#np.isinf(train_in).values.sum()"
   ]
  },
  {
   "cell_type": "markdown",
   "metadata": {},
   "source": [
    "#  Add Features\n",
    "\n",
    "    1. Apply lag shift (tested shift =1 ) \n",
    "        Shift = 2 performs better (2.37 vs. 2.0x)\n",
    "    2. Add differentials for dt and du_in\n",
    "    3. Add integral column for d_uin\n",
    "\n"
   ]
  },
  {
   "cell_type": "markdown",
   "metadata": {},
   "source": [
    "### Apply lag shift, Add Differential, Integral, and other Features"
   ]
  },
  {
   "cell_type": "code",
   "execution_count": 109,
   "metadata": {
    "execution": {
     "iopub.execute_input": "2021-10-22T17:15:34.835678Z",
     "iopub.status.busy": "2021-10-22T17:15:34.834969Z",
     "iopub.status.idle": "2021-10-22T17:15:35.611227Z",
     "shell.execute_reply": "2021-10-22T17:15:35.610439Z",
     "shell.execute_reply.started": "2021-10-22T17:15:34.835635Z"
    }
   },
   "outputs": [],
   "source": [
    "# def apply_features(df,ushift):\n",
    "    \n",
    "#     # apply lag shift\n",
    "#     shift = ushift\n",
    "#     u_in_lag = df.u_in.shift(shift,fill_value=0)\n",
    "#     df.loc[:,'u_in_lag'] = u_in_lag.copy()\n",
    "\n",
    "#     # max/min features\n",
    "#     df[\"max_u_in\"] = df.groupby(\"breath_id\")[\"u_in\"].transform(\"max\")\n",
    "#     df[\"max_time\"] = df.groupby(\"breath_id\")[\"time_step\"].transform(\"max\")\n",
    "    \n",
    "#     # ratios\n",
    "#     df[\"u_in_ratio\"] = df.u_in/df.max_u_in\n",
    "#     df[\"u_in_ratio\"] = df.u_in_ratio.fillna(0)\n",
    "#     df['RC'] = df.R * df.C\n",
    "#     df['RoverC'] = df.R/df.C\n",
    "#     df['CoverR'] = df.C/df.R\n",
    "    \n",
    "#     # dt\n",
    "#     df['dt'] = df['time_step'].diff()\n",
    "#     df['dt'].fillna(0, inplace=True)  # no na values so not needed\n",
    "#     df['dt'].mask(df['dt'] < 0,0,inplace=True) #df.groupby('breath_id')['dt'].mean(), inplace=True)  #makes\n",
    "    \n",
    "#     # derivatives   \n",
    "#     df['du_in'] = df['u_in_lag'].diff()  # then look where time delta is 0 and make this 0 also\n",
    "#     df['du_in'].mask(df['dt'] == 0, 0, inplace=True)\n",
    "#     #df['dt'].fillna(0, inplace=True)\n",
    "#     df['du2_in'] = df['du_in'].diff()\n",
    "#     df['du2_in'].mask(df['dt'] == 0, 0, inplace=True)\n",
    "#     df['du3_in'] = df['du2_in'].diff()\n",
    "#     df['du3_in'].mask(df['dt'] == 0, 0, inplace=True)\n",
    "\n",
    "#     # integration\n",
    "#     df['d_area'] = np.sqrt(df['dt'] * df['u_in_lag'])\n",
    "#     df['u_in_area'] = df.groupby('breath_id')['d_area'].cumsum()#.shift(1,fill_value=0)\n",
    "#     df['inv_area'] = train_in.C/df['u_in_area']\n",
    "#     df.replace([np.inf, -np.inf], np.nan, inplace=True)\n",
    "#     df['inv_area'].fillna(0, inplace=True)\n",
    "#     df['u_in_sq'] = df.u_in_lag * df.u_in_lag\n",
    "#     df['u_in_cube'] = df.u_in_lag**3/1000\n",
    "#     df['u_in_ts'] = df.u_in_lag*df.time_step\n",
    "\n",
    "#     # formulas\n",
    "#     df['R_spring'] = df.R*(1-np.exp((-.32*df.R*df.time_step)/(df.max_time)))\n",
    "#     df['U_spring'] = df.C*(1-np.exp((-.08*df.C*df.u_in_lag)/(df.max_u_in)))\n",
    "#     df.replace([np.inf, -np.inf], np.nan, inplace=True)\n",
    "#     df['R_spring'].fillna(0, inplace=True)\n",
    "#     df['U_spring'].fillna(0, inplace=True)\n",
    "\n",
    "#     # Drop unused axes\n",
    "#     #df.drop(['d_area'],axis=1,inplace=True)\n",
    "#     df.drop(['u_in'],axis=1,inplace=True)\n"
   ]
  },
  {
   "cell_type": "code",
   "execution_count": 110,
   "metadata": {},
   "outputs": [],
   "source": [
    "# older version - is this the culprit?\n",
    "def apply_features(df,ushift):\n",
    "    \n",
    "    # apply lag shift\n",
    "    shift = ushift\n",
    "    u_in_lag = df.u_in.shift(shift,fill_value=0)\n",
    "    df.loc[:,'u_in_lag'] = u_in_lag.copy()\n",
    "\n",
    "    # max/min/mean features\n",
    "    df[\"max_u_in\"] = df.groupby(\"breath_id\")[\"u_in\"].transform(\"max\")\n",
    "    df[\"max_time\"] = df.groupby(\"breath_id\")[\"time_step\"].transform(\"max\")\n",
    "    df['mean_u_in'] = df.groupby(\"breath_id\")[\"u_in\"].transform(\"mean\")\n",
    "    \n",
    "    # ratios\n",
    "    df[\"u_in_ratio\"] = df.u_in/df.max_u_in\n",
    "    df[\"u_in_ratio\"] = df.u_in_ratio.fillna(0)\n",
    "    df['RC'] = df.R * df.C\n",
    "    df['RoverC'] = df.R/df.C\n",
    "    df['CoverR'] = df.C/df.R\n",
    "    \n",
    "    # dt\n",
    "    df['dt'] = df['time_step'].diff()\n",
    "    df['dt'].fillna(0, inplace=True)  # no na values so not needed\n",
    "    df['dt'].mask(df['dt'] < 0,0,inplace=True) #df.groupby('breath_id')['dt'].mean(), inplace=True)  #makes\n",
    "    \n",
    "    # derivatives   \n",
    "    df['du_in'] = df['u_in_lag'].diff()  # then look where time delta is 0 and make this 0 also\n",
    "    df['du_in'].mask(df['dt'] == 0, 0, inplace=True)\n",
    "    #df['dt'].fillna(0, inplace=True)\n",
    "    df['du2_in'] = df['du_in'].diff()\n",
    "    df['du2_in'].mask(df['dt'] == 0, 0, inplace=True)\n",
    "    df['du3_in'] = df['du2_in'].diff()\n",
    "    df['du3_in'].mask(df['dt'] == 0, 0, inplace=True)\n",
    "    df['log_u_in'] = df['u_in_lag'].map(lambda i: np.log(i) if i > 0 else 0)\n",
    "\n",
    "    # integration\n",
    "    df['d_area'] = df['dt'] * df['u_in_lag']\n",
    "    df['u_in_area'] = df.groupby('breath_id')['d_area'].cumsum()#.shift(1,fill_value=0)\n",
    "    df['inv_area'] = 1/(df.C*df['u_in_area'])\n",
    "    df.replace([np.inf, -np.inf], np.nan, inplace=True)\n",
    "    df['inv_area'].fillna(0, inplace=True)\n",
    "    df['u_in_sq'] = df.u_in_lag * df.u_in_lag\n",
    "    df['u_in_cube'] = df.u_in_lag**3/1000\n",
    "    df['u_in_ts'] = df.u_in_lag*df.time_step\n",
    "    \n",
    "    # formulas\n",
    "    df['R_spring'] = df.R*(1-np.exp((-.5*df.R*df.time_step)/df.max_time))\n",
    "    df['U_spring'] = df.C*(1-np.exp((-.05*df.C*df.u_in_lag)/df.max_u_in))\n",
    "    df['R_spring'].fillna(0, inplace=True)\n",
    "    df['U_spring'].fillna(0, inplace=True)\n",
    "\n",
    "    # Drop unused axes\n",
    "    df.drop(['d_area'],axis=1,inplace=True)\n",
    "    df.drop(['u_in'],axis=1,inplace=True)\n"
   ]
  },
  {
   "cell_type": "code",
   "execution_count": 111,
   "metadata": {},
   "outputs": [],
   "source": [
    "apply_features(train_in,1)\n",
    "apply_features(test_in,1)"
   ]
  },
  {
   "cell_type": "code",
   "execution_count": 112,
   "metadata": {},
   "outputs": [
    {
     "data": {
      "text/plain": [
       "id            0\n",
       "breath_id     0\n",
       "R             0\n",
       "C             0\n",
       "time_step     0\n",
       "u_out         0\n",
       "pressure      0\n",
       "u_in_lag      0\n",
       "max_u_in      0\n",
       "max_time      0\n",
       "mean_u_in     0\n",
       "u_in_ratio    0\n",
       "RC            0\n",
       "RoverC        0\n",
       "CoverR        0\n",
       "dt            0\n",
       "du_in         0\n",
       "du2_in        0\n",
       "du3_in        0\n",
       "log_u_in      0\n",
       "u_in_area     0\n",
       "inv_area      0\n",
       "u_in_sq       0\n",
       "u_in_cube     0\n",
       "u_in_ts       0\n",
       "R_spring      0\n",
       "U_spring      0\n",
       "dtype: int64"
      ]
     },
     "execution_count": 112,
     "metadata": {},
     "output_type": "execute_result"
    }
   ],
   "source": [
    "np.isinf(train_in).values.sum()\n",
    "train_in.isna().sum()"
   ]
  },
  {
   "cell_type": "code",
   "execution_count": 113,
   "metadata": {},
   "outputs": [
    {
     "data": {
      "text/plain": [
       "pressure      1.000000\n",
       "u_in_area     0.582699\n",
       "max_u_in      0.480606\n",
       "time_step     0.421155\n",
       "u_in_ts       0.393051\n",
       "mean_u_in     0.358833\n",
       "log_u_in      0.237758\n",
       "u_in_lag      0.233817\n",
       "dt            0.210131\n",
       "u_in_ratio    0.204533\n",
       "du_in         0.177298\n",
       "u_in_sq       0.168797\n",
       "R_spring      0.153793\n",
       "du2_in        0.137766\n",
       "u_in_cube     0.126819\n",
       "CoverR        0.124600\n",
       "C             0.095665\n",
       "du3_in        0.077374\n",
       "U_spring      0.054347\n",
       "R             0.051295\n",
       "max_time      0.050382\n",
       "RoverC        0.035814\n",
       "RC            0.033545\n",
       "inv_area      0.005415\n",
       "breath_id     0.003186\n",
       "id            0.003172\n",
       "u_out              NaN\n",
       "dtype: float64"
      ]
     },
     "execution_count": 113,
     "metadata": {},
     "output_type": "execute_result"
    }
   ],
   "source": [
    "# this doesn't seem to be useful in selecting features.\n",
    "#plt.figure(figsize=(17,15))\n",
    "#sns.heatmap(train_in.corr(),annot=True)\n",
    "#plt.savefig('heatmap',dpi=300)\n",
    "np.abs(train_in.corrwith(y_in)).sort_values(ascending=False)"
   ]
  },
  {
   "cell_type": "code",
   "execution_count": 114,
   "metadata": {},
   "outputs": [],
   "source": [
    "#test_in.u_out.isna().sum()"
   ]
  },
  {
   "cell_type": "markdown",
   "metadata": {},
   "source": [
    "Visualize features"
   ]
  },
  {
   "cell_type": "code",
   "execution_count": 115,
   "metadata": {
    "execution": {
     "iopub.execute_input": "2021-10-22T17:15:37.380770Z",
     "iopub.status.busy": "2021-10-22T17:15:37.380359Z",
     "iopub.status.idle": "2021-10-22T17:15:37.452890Z",
     "shell.execute_reply": "2021-10-22T17:15:37.452146Z",
     "shell.execute_reply.started": "2021-10-22T17:15:37.380742Z"
    }
   },
   "outputs": [
    {
     "data": {
      "text/plain": [
       "[<matplotlib.lines.Line2D at 0x1ddfeed1550>]"
      ]
     },
     "execution_count": 115,
     "metadata": {},
     "output_type": "execute_result"
    },
    {
     "data": {
      "image/png": "[encoded data removed]",
      "text/plain": [
       "<Figure size 576x396 with 1 Axes>"
      ]
     },
     "metadata": {},
     "output_type": "display_data"
    }
   ],
   "source": [
    "\n",
    "plt.plot(train_in.R_spring[0:100])\n"
   ]
  },
  {
   "cell_type": "code",
   "execution_count": 116,
   "metadata": {},
   "outputs": [
    {
     "data": {
      "text/plain": [
       "[<matplotlib.lines.Line2D at 0x1de004ccac0>]"
      ]
     },
     "execution_count": 116,
     "metadata": {},
     "output_type": "execute_result"
    },
    {
     "data": {
      "image/png": "[encoded data removed]",
      "text/plain": [
       "<Figure size 576x396 with 1 Axes>"
      ]
     },
     "metadata": {},
     "output_type": "display_data"
    }
   ],
   "source": [
    "plt.plot(train_in.u_in_area[0:100])"
   ]
  },
  {
   "cell_type": "code",
   "execution_count": 117,
   "metadata": {},
   "outputs": [
    {
     "data": {
      "text/plain": [
       "[<matplotlib.lines.Line2D at 0x1dd93f58c10>]"
      ]
     },
     "execution_count": 117,
     "metadata": {},
     "output_type": "execute_result"
    },
    {
     "data": {
      "image/png": "[encoded data removed]",
      "text/plain": [
       "<Figure size 576x396 with 1 Axes>"
      ]
     },
     "metadata": {},
     "output_type": "display_data"
    }
   ],
   "source": [
    "plt.plot(train_in.du3_in[0:200])"
   ]
  },
  {
   "cell_type": "code",
   "execution_count": 118,
   "metadata": {},
   "outputs": [
    {
     "data": {
      "text/plain": [
       "[<matplotlib.lines.Line2D at 0x1dd87f7cca0>]"
      ]
     },
     "execution_count": 118,
     "metadata": {},
     "output_type": "execute_result"
    },
    {
     "data": {
      "image/png": "[encoded data removed]",
      "text/plain": [
       "<Figure size 576x396 with 1 Axes>"
      ]
     },
     "metadata": {},
     "output_type": "display_data"
    }
   ],
   "source": [
    "plt.plot(train_in.u_in_ts[0:100])"
   ]
  },
  {
   "cell_type": "code",
   "execution_count": 119,
   "metadata": {},
   "outputs": [
    {
     "data": {
      "text/plain": [
       "[<matplotlib.lines.Line2D at 0x1dd87fda190>]"
      ]
     },
     "execution_count": 119,
     "metadata": {},
     "output_type": "execute_result"
    },
    {
     "data": {
      "image/png": "[encoded data removed]",
      "text/plain": [
       "<Figure size 576x396 with 1 Axes>"
      ]
     },
     "metadata": {},
     "output_type": "display_data"
    }
   ],
   "source": [
    "plt.plot(train_in.U_spring[0:100])"
   ]
  },
  {
   "cell_type": "code",
   "execution_count": 120,
   "metadata": {
    "execution": {
     "iopub.execute_input": "2021-10-22T17:15:38.222994Z",
     "iopub.status.busy": "2021-10-22T17:15:38.222144Z",
     "iopub.status.idle": "2021-10-22T17:15:38.239969Z",
     "shell.execute_reply": "2021-10-22T17:15:38.239192Z",
     "shell.execute_reply.started": "2021-10-22T17:15:38.222956Z"
    }
   },
   "outputs": [],
   "source": [
    "train_in.drop(columns = ['pressure'], inplace = True)"
   ]
  },
  {
   "cell_type": "code",
   "execution_count": 121,
   "metadata": {},
   "outputs": [],
   "source": [
    "from sklearn.preprocessing import StandardScaler  #OrdinalEncoder,MinMaxScaler,\n",
    "scaler = StandardScaler()\n",
    "train_in = scaler.fit_transform(train_in)\n",
    "test_in= scaler.transform(test_in)"
   ]
  },
  {
   "cell_type": "markdown",
   "metadata": {},
   "source": [
    "# Model"
   ]
  },
  {
   "cell_type": "code",
   "execution_count": 122,
   "metadata": {
    "execution": {
     "iopub.execute_input": "2021-10-22T17:15:39.802719Z",
     "iopub.status.busy": "2021-10-22T17:15:39.802214Z",
     "iopub.status.idle": "2021-10-22T17:15:39.808086Z",
     "shell.execute_reply": "2021-10-22T17:15:39.807304Z",
     "shell.execute_reply.started": "2021-10-22T17:15:39.802683Z"
    }
   },
   "outputs": [],
   "source": [
    "from sklearn.metrics import mean_absolute_error  #confusion_matrix, classification_report"
   ]
  },
  {
   "cell_type": "markdown",
   "metadata": {},
   "source": [
    "## Need to ditch split and go to cross validation"
   ]
  },
  {
   "cell_type": "code",
   "execution_count": 123,
   "metadata": {
    "execution": {
     "iopub.execute_input": "2021-10-22T17:15:42.047580Z",
     "iopub.status.busy": "2021-10-22T17:15:42.046938Z",
     "iopub.status.idle": "2021-10-22T17:15:42.640235Z",
     "shell.execute_reply": "2021-10-22T17:15:42.639476Z",
     "shell.execute_reply.started": "2021-10-22T17:15:42.047549Z"
    }
   },
   "outputs": [
    {
     "ename": "AttributeError",
     "evalue": "'numpy.ndarray' object has no attribute 'drop'",
     "output_type": "error",
     "traceback": [
      "\u001b[1;31m---------------------------------------------------------------------------\u001b[0m",
      "\u001b[1;31mAttributeError\u001b[0m                            Traceback (most recent call last)",
      "\u001b[1;32m<ipython-input-123-d3995c9ea1f5>\u001b[0m in \u001b[0;36m<module>\u001b[1;34m\u001b[0m\n\u001b[0;32m      2\u001b[0m \u001b[1;32mfrom\u001b[0m \u001b[0msklearn\u001b[0m\u001b[1;33m.\u001b[0m\u001b[0mmodel_selection\u001b[0m \u001b[1;32mimport\u001b[0m \u001b[0mtrain_test_split\u001b[0m\u001b[1;33m\u001b[0m\u001b[1;33m\u001b[0m\u001b[0m\n\u001b[0;32m      3\u001b[0m \u001b[1;33m\u001b[0m\u001b[0m\n\u001b[1;32m----> 4\u001b[1;33m \u001b[0mtrain_in\u001b[0m\u001b[1;33m.\u001b[0m\u001b[0mdrop\u001b[0m\u001b[1;33m(\u001b[0m\u001b[0mcolumns\u001b[0m \u001b[1;33m=\u001b[0m \u001b[1;33m[\u001b[0m\u001b[1;34m'id'\u001b[0m\u001b[1;33m,\u001b[0m\u001b[1;34m'u_out'\u001b[0m\u001b[1;33m]\u001b[0m\u001b[1;33m,\u001b[0m \u001b[0minplace\u001b[0m \u001b[1;33m=\u001b[0m \u001b[1;32mTrue\u001b[0m\u001b[1;33m)\u001b[0m\u001b[1;33m\u001b[0m\u001b[1;33m\u001b[0m\u001b[0m\n\u001b[0m\u001b[0;32m      5\u001b[0m \u001b[1;31m#test = test.drop(columns = 'id', inplace = True)\u001b[0m\u001b[1;33m\u001b[0m\u001b[1;33m\u001b[0m\u001b[1;33m\u001b[0m\u001b[0m\n\u001b[0;32m      6\u001b[0m \u001b[1;33m\u001b[0m\u001b[0m\n",
      "\u001b[1;31mAttributeError\u001b[0m: 'numpy.ndarray' object has no attribute 'drop'"
     ]
    }
   ],
   "source": [
    "# Split data - after all analysis is done\n",
    "from sklearn.model_selection import train_test_split\n",
    "\n",
    "train_in.drop(columns = ['id','u_out'], inplace = True)\n",
    "#test = test.drop(columns = 'id', inplace = True)\n",
    "\n",
    "X_train, X_valid, y_train, y_valid = train_test_split(train_in, y_in, train_size=0.8, test_size=0.2,\n",
    "                                                      random_state=12)\n",
    "X_test_in = test_in.drop(columns=['id','u_out'],inplace=False)"
   ]
  },
  {
   "cell_type": "code",
   "execution_count": null,
   "metadata": {},
   "outputs": [],
   "source": [
    "train_inds, test_inds = next(GroupShuffleSplit(test_size=.20, n_splits=2, random_state = 7).split(df, groups=df['Group_Id']))\n",
    "\n",
    "X_train = df.iloc[train_inds]\n",
    "X_test = df.iloc[test_inds]\n"
   ]
  },
  {
   "cell_type": "code",
   "execution_count": 59,
   "metadata": {},
   "outputs": [
    {
     "data": {
      "text/html": [
       "<div>\n",
       "<style scoped>\n",
       "    .dataframe tbody tr th:only-of-type {\n",
       "        vertical-align: middle;\n",
       "    }\n",
       "\n",
       "    .dataframe tbody tr th {\n",
       "        vertical-align: top;\n",
       "    }\n",
       "\n",
       "    .dataframe thead th {\n",
       "        text-align: right;\n",
       "    }\n",
       "</style>\n",
       "<table border=\"1\" class=\"dataframe\">\n",
       "  <thead>\n",
       "    <tr style=\"text-align: right;\">\n",
       "      <th></th>\n",
       "      <th>breath_id</th>\n",
       "      <th>R</th>\n",
       "      <th>C</th>\n",
       "      <th>time_step</th>\n",
       "      <th>u_in_lag</th>\n",
       "      <th>max_u_in</th>\n",
       "      <th>max_time</th>\n",
       "      <th>mean_u_in</th>\n",
       "      <th>u_in_ratio</th>\n",
       "      <th>RC</th>\n",
       "      <th>...</th>\n",
       "      <th>du2_in</th>\n",
       "      <th>du3_in</th>\n",
       "      <th>log_u_in</th>\n",
       "      <th>u_in_area</th>\n",
       "      <th>inv_area</th>\n",
       "      <th>u_in_sq</th>\n",
       "      <th>u_in_cube</th>\n",
       "      <th>u_in_ts</th>\n",
       "      <th>R_spring</th>\n",
       "      <th>U_spring</th>\n",
       "    </tr>\n",
       "  </thead>\n",
       "  <tbody>\n",
       "    <tr>\n",
       "      <th>0</th>\n",
       "      <td>0</td>\n",
       "      <td>5</td>\n",
       "      <td>20</td>\n",
       "      <td>0.000000</td>\n",
       "      <td>0.000000</td>\n",
       "      <td>37.542217</td>\n",
       "      <td>0.957189</td>\n",
       "      <td>19.702023</td>\n",
       "      <td>0.000000</td>\n",
       "      <td>100</td>\n",
       "      <td>...</td>\n",
       "      <td>0.000000</td>\n",
       "      <td>0.000000</td>\n",
       "      <td>0.000000</td>\n",
       "      <td>0.000000</td>\n",
       "      <td>0.000000</td>\n",
       "      <td>0.000000</td>\n",
       "      <td>0.000000</td>\n",
       "      <td>0.000000</td>\n",
       "      <td>0.000000</td>\n",
       "      <td>0.000000</td>\n",
       "    </tr>\n",
       "    <tr>\n",
       "      <th>1</th>\n",
       "      <td>0</td>\n",
       "      <td>5</td>\n",
       "      <td>20</td>\n",
       "      <td>0.031904</td>\n",
       "      <td>0.000000</td>\n",
       "      <td>37.542217</td>\n",
       "      <td>0.957189</td>\n",
       "      <td>19.702023</td>\n",
       "      <td>0.200176</td>\n",
       "      <td>100</td>\n",
       "      <td>...</td>\n",
       "      <td>0.000000</td>\n",
       "      <td>0.000000</td>\n",
       "      <td>0.000000</td>\n",
       "      <td>0.000000</td>\n",
       "      <td>0.000000</td>\n",
       "      <td>0.000000</td>\n",
       "      <td>0.000000</td>\n",
       "      <td>0.000000</td>\n",
       "      <td>0.399747</td>\n",
       "      <td>0.000000</td>\n",
       "    </tr>\n",
       "    <tr>\n",
       "      <th>2</th>\n",
       "      <td>0</td>\n",
       "      <td>5</td>\n",
       "      <td>20</td>\n",
       "      <td>0.063827</td>\n",
       "      <td>7.515046</td>\n",
       "      <td>37.542217</td>\n",
       "      <td>0.957189</td>\n",
       "      <td>19.702023</td>\n",
       "      <td>0.390272</td>\n",
       "      <td>100</td>\n",
       "      <td>...</td>\n",
       "      <td>7.515046</td>\n",
       "      <td>7.515046</td>\n",
       "      <td>2.016907</td>\n",
       "      <td>0.239907</td>\n",
       "      <td>0.208414</td>\n",
       "      <td>56.475910</td>\n",
       "      <td>0.424419</td>\n",
       "      <td>0.479665</td>\n",
       "      <td>0.767754</td>\n",
       "      <td>3.628264</td>\n",
       "    </tr>\n",
       "    <tr>\n",
       "      <th>3</th>\n",
       "      <td>0</td>\n",
       "      <td>5</td>\n",
       "      <td>20</td>\n",
       "      <td>0.095751</td>\n",
       "      <td>14.651675</td>\n",
       "      <td>37.542217</td>\n",
       "      <td>0.957189</td>\n",
       "      <td>19.702023</td>\n",
       "      <td>0.565513</td>\n",
       "      <td>100</td>\n",
       "      <td>...</td>\n",
       "      <td>-0.378416</td>\n",
       "      <td>-7.893462</td>\n",
       "      <td>2.684555</td>\n",
       "      <td>0.707644</td>\n",
       "      <td>0.070657</td>\n",
       "      <td>214.671585</td>\n",
       "      <td>3.145298</td>\n",
       "      <td>1.402913</td>\n",
       "      <td>1.106323</td>\n",
       "      <td>6.462545</td>\n",
       "    </tr>\n",
       "    <tr>\n",
       "      <th>4</th>\n",
       "      <td>0</td>\n",
       "      <td>5</td>\n",
       "      <td>20</td>\n",
       "      <td>0.127644</td>\n",
       "      <td>21.230610</td>\n",
       "      <td>37.542217</td>\n",
       "      <td>0.957189</td>\n",
       "      <td>19.702023</td>\n",
       "      <td>0.701103</td>\n",
       "      <td>100</td>\n",
       "      <td>...</td>\n",
       "      <td>-0.557695</td>\n",
       "      <td>-0.179279</td>\n",
       "      <td>3.055444</td>\n",
       "      <td>1.384742</td>\n",
       "      <td>0.036108</td>\n",
       "      <td>450.738800</td>\n",
       "      <td>9.569460</td>\n",
       "      <td>2.709951</td>\n",
       "      <td>1.417515</td>\n",
       "      <td>8.638626</td>\n",
       "    </tr>\n",
       "    <tr>\n",
       "      <th>...</th>\n",
       "      <td>...</td>\n",
       "      <td>...</td>\n",
       "      <td>...</td>\n",
       "      <td>...</td>\n",
       "      <td>...</td>\n",
       "      <td>...</td>\n",
       "      <td>...</td>\n",
       "      <td>...</td>\n",
       "      <td>...</td>\n",
       "      <td>...</td>\n",
       "      <td>...</td>\n",
       "      <td>...</td>\n",
       "      <td>...</td>\n",
       "      <td>...</td>\n",
       "      <td>...</td>\n",
       "      <td>...</td>\n",
       "      <td>...</td>\n",
       "      <td>...</td>\n",
       "      <td>...</td>\n",
       "      <td>...</td>\n",
       "      <td>...</td>\n",
       "    </tr>\n",
       "    <tr>\n",
       "      <th>4023945</th>\n",
       "      <td>125748</td>\n",
       "      <td>20</td>\n",
       "      <td>10</td>\n",
       "      <td>0.842145</td>\n",
       "      <td>0.000000</td>\n",
       "      <td>35.151390</td>\n",
       "      <td>0.976815</td>\n",
       "      <td>2.298701</td>\n",
       "      <td>0.000000</td>\n",
       "      <td>-56</td>\n",
       "      <td>...</td>\n",
       "      <td>0.000000</td>\n",
       "      <td>0.000000</td>\n",
       "      <td>0.000000</td>\n",
       "      <td>2.319345</td>\n",
       "      <td>0.043116</td>\n",
       "      <td>0.000000</td>\n",
       "      <td>0.000000</td>\n",
       "      <td>0.000000</td>\n",
       "      <td>19.996396</td>\n",
       "      <td>0.000000</td>\n",
       "    </tr>\n",
       "    <tr>\n",
       "      <th>4023946</th>\n",
       "      <td>125748</td>\n",
       "      <td>20</td>\n",
       "      <td>10</td>\n",
       "      <td>0.875648</td>\n",
       "      <td>0.000000</td>\n",
       "      <td>35.151390</td>\n",
       "      <td>0.976815</td>\n",
       "      <td>2.298701</td>\n",
       "      <td>0.000000</td>\n",
       "      <td>-56</td>\n",
       "      <td>...</td>\n",
       "      <td>0.000000</td>\n",
       "      <td>0.000000</td>\n",
       "      <td>0.000000</td>\n",
       "      <td>2.319345</td>\n",
       "      <td>0.043116</td>\n",
       "      <td>0.000000</td>\n",
       "      <td>0.000000</td>\n",
       "      <td>0.000000</td>\n",
       "      <td>19.997442</td>\n",
       "      <td>0.000000</td>\n",
       "    </tr>\n",
       "    <tr>\n",
       "      <th>4023947</th>\n",
       "      <td>125748</td>\n",
       "      <td>20</td>\n",
       "      <td>10</td>\n",
       "      <td>0.909185</td>\n",
       "      <td>0.000000</td>\n",
       "      <td>35.151390</td>\n",
       "      <td>0.976815</td>\n",
       "      <td>2.298701</td>\n",
       "      <td>0.003453</td>\n",
       "      <td>-56</td>\n",
       "      <td>...</td>\n",
       "      <td>0.000000</td>\n",
       "      <td>0.000000</td>\n",
       "      <td>0.000000</td>\n",
       "      <td>2.319345</td>\n",
       "      <td>0.043116</td>\n",
       "      <td>0.000000</td>\n",
       "      <td>0.000000</td>\n",
       "      <td>0.000000</td>\n",
       "      <td>19.998185</td>\n",
       "      <td>0.000000</td>\n",
       "    </tr>\n",
       "    <tr>\n",
       "      <th>4023948</th>\n",
       "      <td>125748</td>\n",
       "      <td>20</td>\n",
       "      <td>10</td>\n",
       "      <td>0.943148</td>\n",
       "      <td>0.121375</td>\n",
       "      <td>35.151390</td>\n",
       "      <td>0.976815</td>\n",
       "      <td>2.298701</td>\n",
       "      <td>0.000000</td>\n",
       "      <td>-56</td>\n",
       "      <td>...</td>\n",
       "      <td>0.121375</td>\n",
       "      <td>0.121375</td>\n",
       "      <td>-2.108874</td>\n",
       "      <td>2.323468</td>\n",
       "      <td>0.043039</td>\n",
       "      <td>0.014732</td>\n",
       "      <td>0.000002</td>\n",
       "      <td>0.114474</td>\n",
       "      <td>19.998718</td>\n",
       "      <td>0.017250</td>\n",
       "    </tr>\n",
       "    <tr>\n",
       "      <th>4023949</th>\n",
       "      <td>125748</td>\n",
       "      <td>20</td>\n",
       "      <td>10</td>\n",
       "      <td>0.976815</td>\n",
       "      <td>0.000000</td>\n",
       "      <td>35.151390</td>\n",
       "      <td>0.976815</td>\n",
       "      <td>2.298701</td>\n",
       "      <td>0.000000</td>\n",
       "      <td>-56</td>\n",
       "      <td>...</td>\n",
       "      <td>-0.242749</td>\n",
       "      <td>-0.364124</td>\n",
       "      <td>0.000000</td>\n",
       "      <td>2.323468</td>\n",
       "      <td>0.043039</td>\n",
       "      <td>0.000000</td>\n",
       "      <td>0.000000</td>\n",
       "      <td>0.000000</td>\n",
       "      <td>19.999092</td>\n",
       "      <td>0.000000</td>\n",
       "    </tr>\n",
       "  </tbody>\n",
       "</table>\n",
       "<p>1527565 rows × 24 columns</p>\n",
       "</div>"
      ],
      "text/plain": [
       "         breath_id   R   C  time_step   u_in_lag   max_u_in  max_time  \\\n",
       "0                0   5  20   0.000000   0.000000  37.542217  0.957189   \n",
       "1                0   5  20   0.031904   0.000000  37.542217  0.957189   \n",
       "2                0   5  20   0.063827   7.515046  37.542217  0.957189   \n",
       "3                0   5  20   0.095751  14.651675  37.542217  0.957189   \n",
       "4                0   5  20   0.127644  21.230610  37.542217  0.957189   \n",
       "...            ...  ..  ..        ...        ...        ...       ...   \n",
       "4023945     125748  20  10   0.842145   0.000000  35.151390  0.976815   \n",
       "4023946     125748  20  10   0.875648   0.000000  35.151390  0.976815   \n",
       "4023947     125748  20  10   0.909185   0.000000  35.151390  0.976815   \n",
       "4023948     125748  20  10   0.943148   0.121375  35.151390  0.976815   \n",
       "4023949     125748  20  10   0.976815   0.000000  35.151390  0.976815   \n",
       "\n",
       "         mean_u_in  u_in_ratio   RC  ...    du2_in    du3_in  log_u_in  \\\n",
       "0        19.702023    0.000000  100  ...  0.000000  0.000000  0.000000   \n",
       "1        19.702023    0.200176  100  ...  0.000000  0.000000  0.000000   \n",
       "2        19.702023    0.390272  100  ...  7.515046  7.515046  2.016907   \n",
       "3        19.702023    0.565513  100  ... -0.378416 -7.893462  2.684555   \n",
       "4        19.702023    0.701103  100  ... -0.557695 -0.179279  3.055444   \n",
       "...            ...         ...  ...  ...       ...       ...       ...   \n",
       "4023945   2.298701    0.000000  -56  ...  0.000000  0.000000  0.000000   \n",
       "4023946   2.298701    0.000000  -56  ...  0.000000  0.000000  0.000000   \n",
       "4023947   2.298701    0.003453  -56  ...  0.000000  0.000000  0.000000   \n",
       "4023948   2.298701    0.000000  -56  ...  0.121375  0.121375 -2.108874   \n",
       "4023949   2.298701    0.000000  -56  ... -0.242749 -0.364124  0.000000   \n",
       "\n",
       "         u_in_area  inv_area     u_in_sq  u_in_cube   u_in_ts   R_spring  \\\n",
       "0         0.000000  0.000000    0.000000   0.000000  0.000000   0.000000   \n",
       "1         0.000000  0.000000    0.000000   0.000000  0.000000   0.399747   \n",
       "2         0.239907  0.208414   56.475910   0.424419  0.479665   0.767754   \n",
       "3         0.707644  0.070657  214.671585   3.145298  1.402913   1.106323   \n",
       "4         1.384742  0.036108  450.738800   9.569460  2.709951   1.417515   \n",
       "...            ...       ...         ...        ...       ...        ...   \n",
       "4023945   2.319345  0.043116    0.000000   0.000000  0.000000  19.996396   \n",
       "4023946   2.319345  0.043116    0.000000   0.000000  0.000000  19.997442   \n",
       "4023947   2.319345  0.043116    0.000000   0.000000  0.000000  19.998185   \n",
       "4023948   2.323468  0.043039    0.014732   0.000002  0.114474  19.998718   \n",
       "4023949   2.323468  0.043039    0.000000   0.000000  0.000000  19.999092   \n",
       "\n",
       "         U_spring  \n",
       "0        0.000000  \n",
       "1        0.000000  \n",
       "2        3.628264  \n",
       "3        6.462545  \n",
       "4        8.638626  \n",
       "...           ...  \n",
       "4023945  0.000000  \n",
       "4023946  0.000000  \n",
       "4023947  0.000000  \n",
       "4023948  0.017250  \n",
       "4023949  0.000000  \n",
       "\n",
       "[1527565 rows x 24 columns]"
      ]
     },
     "execution_count": 59,
     "metadata": {},
     "output_type": "execute_result"
    }
   ],
   "source": [
    "X_test_in"
   ]
  },
  {
   "cell_type": "code",
   "execution_count": 27,
   "metadata": {},
   "outputs": [
    {
     "name": "stdout",
     "output_type": "stream",
     "text": [
      "Catboost CV scores: [-0.38611291 -0.3807639  -0.38101612]\n",
      "Catboost CV mean: -0.3826309765303269\n"
     ]
    }
   ],
   "source": [
    "# cross validation\n",
    "from catboost import CatBoostRegressor\n",
    "from sklearn.model_selection import cross_val_score\n",
    "\n",
    "model_cat = CatBoostRegressor(loss_function=\"MAE\",\n",
    "                               eval_metric=\"MAE\",\n",
    "                               task_type=\"GPU\",\n",
    "                               learning_rate=.25,\n",
    "                               iterations=4000,\n",
    "                               l2_leaf_reg=60,\n",
    "                               random_seed=12,\n",
    "                               #od_type=\"Iter\",\n",
    "                               depth=8,\n",
    "                               #early_stopping_rounds=6500,\n",
    "                               #border_count=64,\n",
    "                               verbose=False\n",
    "                              )\n",
    "\n",
    "scores_cbcv = cross_val_score(model_cat, X_train, y_train, cv=3, scoring='neg_median_absolute_error')\n",
    "print(f'Catboost CV scores: {scores_cbcv}')\n",
    "print(f'Catboost CV mean: {scores_cbcv.mean()}')\n",
    "\n",
    "#400 literations, .25,60,8\n",
    "#Catboost CV scores: [-0.52191966 -0.52389751 -0.52226288]\n",
    "#Catboost CV mean: -0.5226933519733302\n",
    "# 4000 iterations: \n",
    "#Catboost CV scores: [-0.38611291 -0.3807639  -0.38101612]\n",
    "#Catboost CV mean: -0.3826309765303269\n",
    "#I dont really understnd this.  Not using cv, mae = ...\n",
    "# iterations=400:  0.8206063709193067\n",
    "# iterations=4000: 0.5566809151075147   ...this is with reduced data set"
   ]
  },
  {
   "cell_type": "code",
   "execution_count": 24,
   "metadata": {},
   "outputs": [
    {
     "name": "stdout",
     "output_type": "stream",
     "text": [
      "Catboost CV scores: [-0.52191966 -0.52389751 -0.52226288]\n",
      "Catboost CV mean: -0.5226933519733302\n"
     ]
    }
   ],
   "source": [
    "print(f'Catboost CV scores: {scores_cbcv}')\n",
    "print(f'Catboost CV mean: {scores_cbcv.mean()}')\n",
    "\n",
    "# from sklearn.model_selection import cross_val_score\n",
    "\n",
    "# cbc = CatBoostClassifier(max_depth=3)\n",
    "# cvs = cross_val_score(cbc, X, y, cv=5, scoring='accuracy')\n",
    "# print (f 'The mean value of cross val score is {cvs.mean()}')"
   ]
  },
  {
   "cell_type": "code",
   "execution_count": null,
   "metadata": {
    "execution": {
     "iopub.execute_input": "2021-10-22T17:15:43.186994Z",
     "iopub.status.busy": "2021-10-22T17:15:43.186439Z",
     "iopub.status.idle": "2021-10-22T17:15:43.201790Z",
     "shell.execute_reply": "2021-10-22T17:15:43.201027Z",
     "shell.execute_reply.started": "2021-10-22T17:15:43.186958Z"
    }
   },
   "outputs": [],
   "source": [
    "#test_in[\"u_in_ratio\"] = test_in.u_in_ratio.fillna(0)\n",
    "test_in.isna().sum()"
   ]
  },
  {
   "cell_type": "code",
   "execution_count": 60,
   "metadata": {
    "execution": {
     "iopub.execute_input": "2021-10-22T17:15:45.470607Z",
     "iopub.status.busy": "2021-10-22T17:15:45.470357Z",
     "iopub.status.idle": "2021-10-22T17:17:01.758174Z",
     "shell.execute_reply": "2021-10-22T17:17:01.757304Z",
     "shell.execute_reply.started": "2021-10-22T17:15:45.470581Z"
    }
   },
   "outputs": [
    {
     "name": "stderr",
     "output_type": "stream",
     "text": [
      "IOPub data rate exceeded.\n",
      "The notebook server will temporarily stop sending output\n",
      "to the client in order to avoid crashing it.\n",
      "To change this limit, set the config variable\n",
      "`--NotebookApp.iopub_data_rate_limit`.\n",
      "\n",
      "Current values:\n",
      "NotebookApp.iopub_data_rate_limit=1000000.0 (bytes/sec)\n",
      "NotebookApp.rate_limit_window=3.0 (secs)\n",
      "\n"
     ]
    }
   ],
   "source": [
    "%%time\n",
    "from catboost import CatBoostRegressor\n",
    "# loop for manual hyper-parameter tuning\n",
    "#for i in range(70,100,10):\n",
    "\n",
    "model_cat = CatBoostRegressor(loss_function=\"MAE\",\n",
    "                           eval_metric=\"MAE\",\n",
    "                           task_type=\"GPU\",\n",
    "                           learning_rate=.25,\n",
    "                           iterations=30000,\n",
    "                           l2_leaf_reg=60,\n",
    "                           random_seed=12,\n",
    "                           #od_type=\"Iter\",\n",
    "                           depth=8,\n",
    "                           #early_stopping_rounds=6500,\n",
    "                           #border_count=64,\n",
    "                           verbose=False\n",
    "                          )\n",
    "model_cat.fit(X_train,y_train)\n",
    "pred_cat = model_cat.predict(X_valid)\n",
    "score_cat = mean_absolute_error(y_valid,pred_cat)\n",
    "#print(f'iters={i}, lr={j}, CatBoost MAE Score: {score_cat}')\n",
    "print(f'CatBoost MAE Score, l2leafreg = {i}: {score_cat}')\n",
    "\n",
    "# squared d_area (coor .17), 1.112, .8163.  This made things quite a bit worse...should be able to make better too!\n",
    "# sqrt(d_area) (corr better .26): .726 (best so far), try rf I guess\n",
    "# fixed u_in_ratio: get .9898, .7266 which is about the best so far, maybe try rf also \n",
    "# now .982, .7299\n",
    "# add u_in_mean: best so far!  Check others: \n",
    "# CatBoost MAE Score, i = 400: 0.9797924232229948\n",
    "# CatBoost MAE Score, i = 4000: 0.7013653955979511\n",
    "# 24000, 30000: \n",
    "# CatBoost MAE Score, i = 24000: 0.5682470168611197\n",
    "# CatBoost MAE Score, i = 30000: 0.5556862188534233\n",
    "# set iterations to 30000, and vary depth\n",
    "# CatBoost MAE Score, i = 3: 0.685390995463435\n",
    "# CatBoost MAE Score, i = 4: 0.6050742278308203\n",
    "# CatBoost MAE Score, i = 5: 0.5559855205707835\n",
    "# CatBoost MAE Score, i = 6: 0.5246105311618575\n",
    "# CatBoost MAE Score, i = 7: 0.5080718197763687\n",
    "# CatBoost MAE Score, i = 8: 0.49928271392505474\n",
    "# CatBoost MAE Score, i = 9: 0.516987320740242\n",
    "# 8 looks like the best depth.  at 30000,8, vary learn rate\n",
    "# CatBoost MAE Score, i = 0.01: 0.6498819475321668\n",
    "# CatBoost MAE Score, i = 0.05: 0.5152475207161409\n",
    "# CatBoost MAE Score, i = 0.1: 0.47572122198720496\n",
    "# CatBoost MAE Score, i = 0.15: 0.4611122799735114\n",
    "# CatBoost MAE Score, i = 0.2: 0.45492635320889013\n",
    "# CatBoost MAE Score, i = 0.25: 0.45403070636220405\n",
    "# CatBoost MAE Score, i = 0.3: 0.45729824531293445\n",
    "# CatBoost MAE Score, i = 0.35: 0.4594907300273575\n",
    "# CatBoost MAE Score, i = 0.4: 0.468537754427922\n",
    "# CatBoost MAE Score, i = 0.45: 0.4741410550440582\n",
    "# checkpoint, plot this, continue \n",
    "# 30000, 8, .25,  vary leaf_reg\n",
    "# CatBoost MAE Score, l2leafreg = 10: 0.4586096233335787\n",
    "# CatBoost MAE Score, l2leafreg = 20: 0.45747895689123014\n",
    "# CatBoost MAE Score, l2leafreg = 30: 0.4550317585462768\n",
    "# CatBoost MAE Score, l2leafreg = 40: 0.45503666180538077\n",
    "# CatBoost MAE Score, l2leafreg = 50: 0.4550218737494876\n",
    "# CatBoost MAE Score, l2leafreg = 60: 0.4544535398076451 - submit this last one and see how it looks .6046 lb :(\n",
    "\n",
    "# with 10000 (sampled) breaths, \n",
    "# CatBoost MAE Score, iterations=400:   0.8206063709193067\n",
    "# CatBoost MAE Score, iterations=4000:  0.5566809151075147\n",
    "# CatBoost MAE Score, iterations=30000: 0.4824402629695751   ...this is vs. .455 with all data\n",
    "# CatBoost MAE Score, iterations=40000: 0.4777799409793641\n",
    "\n"
   ]
  },
  {
   "cell_type": "code",
   "execution_count": 70,
   "metadata": {},
   "outputs": [
    {
     "data": {
      "image/png": "[encoded data removed]",
      "text/plain": [
       "<Figure size 576x396 with 1 Axes>"
      ]
     },
     "metadata": {},
     "output_type": "display_data"
    }
   ],
   "source": [
    "model_cat.feature_importances_\n",
    "indices = np.argsort(model_cat.feature_importances_)[::-1]\n",
    "g = sns.barplot(y=X_train.columns[indices],x = model_cat.feature_importances_[indices] , orient='h')"
   ]
  },
  {
   "cell_type": "code",
   "execution_count": 31,
   "metadata": {},
   "outputs": [
    {
     "name": "stdout",
     "output_type": "stream",
     "text": [
      "LGBM MAE Score, i = 0: 0.4994122092458648\n",
      "Wall time: 3min 57s\n"
     ]
    }
   ],
   "source": [
    "%%time\n",
    "from lightgbm import LGBMRegressor\n",
    "\n",
    "\n",
    "model_lgbm = LGBMRegressor(objective='regression_l1',n_jobs=-1,n_estimators=30000,learning_rate=0.2)\n",
    "model_lgbm.fit(X_train,y_train)\n",
    "pred_lgbm = model_lgbm.predict(X_valid)\n",
    "score_lgbm = mean_absolute_error(y_valid,pred_lgbm)\n",
    "print(f'LGBM MAE Score, i = {0}: {score_lgbm}')\n",
    "\n",
    "#4000 iters: .642\n",
    "#20000 iters: .570197, try submitting\n",
    "#20000 after fixing bug, .55596\n",
    "# again, .55093, .67xx on lb :(\n",
    "# with u_in mean feature:  .467!  Try rf, maybe try submitting this too.  rf got lb .55xx, this is .64xx, saving anyways\n",
    "#.467 with 30k iterations as well.\n",
    "# with 10000 rows: \n",
    "# LGBM MAE Score, i = 0: 0.4994122092458648"
   ]
  },
  {
   "cell_type": "code",
   "execution_count": 71,
   "metadata": {},
   "outputs": [
    {
     "data": {
      "image/png": "[encoded data removed]",
      "text/plain": [
       "<Figure size 576x396 with 1 Axes>"
      ]
     },
     "metadata": {},
     "output_type": "display_data"
    }
   ],
   "source": [
    "model_lgbm.feature_importances_\n",
    "indices = np.argsort(model_lgbm.feature_importances_)[::-1]\n",
    "g = sns.barplot(y=X_train.columns[indices],x = model_lgbm.feature_importances_[indices] , orient='h')"
   ]
  },
  {
   "cell_type": "code",
   "execution_count": 72,
   "metadata": {},
   "outputs": [],
   "source": [
    "# doesn't work...just with catboost?\n",
    "# from yellowbrick.model_selection import ValidationCurve\n",
    "\n",
    "# fig,ax = plt.subplots(figsize=(10,6))\n",
    "# vc_viz = ValidationCurve(\n",
    "#                         CatBoostRegressor(),\n",
    "#                         param_name='iterations',\n",
    "#                         param_range=np.arange(500,20000,2000),\n",
    "#                         cv=5,\n",
    "#                         n_jobs=-1,\n",
    "#                         )\n",
    "# vc_viz.fit(X,y)\n",
    "# vc_viz.poof()"
   ]
  },
  {
   "cell_type": "code",
   "execution_count": null,
   "metadata": {},
   "outputs": [],
   "source": [
    "# from sklearn.ensemble import BaggingClassifier\n",
    "\n",
    "# bag_clf = "
   ]
  },
  {
   "cell_type": "code",
   "execution_count": 125,
   "metadata": {},
   "outputs": [
    {
     "name": "stdout",
     "output_type": "stream",
     "text": [
      "<catboost.core.CatBoostRegressor object at 0x000001DD880068E0>\n",
      "-0.7858067935438783\n",
      "{'max_depth': 11, 'n_estimators': 4000}\n"
     ]
    }
   ],
   "source": [
    "# grid search - this one works, yes?\n",
    "from catboost import CatBoostRegressor\n",
    "from sklearn.model_selection import GridSearchCV\n",
    "\n",
    "#instantiate the model\n",
    "model_cbcv = CatBoostRegressor(verbose=False, task_type='GPU')\n",
    "model_lgbm = LGBMRegressor()\n",
    "#create the grid\n",
    "grid = {'max_depth': [9,10,11],'n_estimators':[1000, 2000, 4000]}\n",
    "# instantiate gridsearchcv\n",
    "gscv = GridSearchCV (estimator = model_cbcv, param_grid = grid, scoring =\"neg_mean_absolute_error\", cv = 5)\n",
    "gscv.fit(train_in,y_in)\n",
    "\n",
    "#print(gscv.best_estimator_)\n",
    "#print(gscv.best_score_)\n",
    "print(f'best params: {gscv.best_params_}, score = {gscv.best_score_}')\n",
    "\n",
    "# best score shows -.7165, but lb shows .79xx\n",
    "#{'max_depth': 8, 'n_estimators': 2000}: -0.8436575768171275  (6,7,8 dpth, 500,100,2000 iter)\n",
    "#{'max_depth': 11, 'n_estimators': 4000}: -0.7858067935438783"
   ]
  },
  {
   "cell_type": "code",
   "execution_count": 88,
   "metadata": {},
   "outputs": [
    {
     "data": {
      "text/plain": [
       "303514"
      ]
     },
     "execution_count": 88,
     "metadata": {},
     "output_type": "execute_result"
    }
   ],
   "source": [
    "# gscv.cv_results_\n",
    "\n",
    "# 303514"
   ]
  },
  {
   "cell_type": "code",
   "execution_count": 89,
   "metadata": {},
   "outputs": [
    {
     "name": "stdout",
     "output_type": "stream",
     "text": [
      "GroupKFold(n_splits=5)\n",
      "Train [     0      1      2 ... 303511 303512 303513] Valid: [    91     92     93 ... 303391 303392 303393]\n"
     ]
    },
    {
     "ename": "KeyError",
     "evalue": "\"None of [Int64Index([     0,      1,      2,      3,      4,      5,      6,      7,\\n                 8,      9,\\n            ...\\n            303504, 303505, 303506, 303507, 303508, 303509, 303510, 303511,\\n            303512, 303513],\\n           dtype='int64', length=242811)] are in the [columns]\"",
     "output_type": "error",
     "traceback": [
      "\u001b[1;31m---------------------------------------------------------------------------\u001b[0m",
      "\u001b[1;31mKeyError\u001b[0m                                  Traceback (most recent call last)",
      "\u001b[1;32m<ipython-input-89-407ad76250f6>\u001b[0m in \u001b[0;36m<module>\u001b[1;34m\u001b[0m\n\u001b[0;32m     12\u001b[0m \u001b[1;32mfor\u001b[0m \u001b[0mtrain_index\u001b[0m\u001b[1;33m,\u001b[0m \u001b[0mvalid_index\u001b[0m \u001b[1;32min\u001b[0m \u001b[0mgroup_kfold\u001b[0m\u001b[1;33m.\u001b[0m\u001b[0msplit\u001b[0m\u001b[1;33m(\u001b[0m\u001b[0mtrain_in\u001b[0m\u001b[1;33m,\u001b[0m \u001b[0my_in\u001b[0m\u001b[1;33m,\u001b[0m \u001b[0mgroups\u001b[0m\u001b[1;33m)\u001b[0m\u001b[1;33m:\u001b[0m\u001b[1;33m\u001b[0m\u001b[1;33m\u001b[0m\u001b[0m\n\u001b[0;32m     13\u001b[0m     \u001b[0mprint\u001b[0m\u001b[1;33m(\u001b[0m\u001b[1;34m\"Train\"\u001b[0m\u001b[1;33m,\u001b[0m \u001b[0mtrain_index\u001b[0m\u001b[1;33m,\u001b[0m \u001b[1;34m\"Valid:\"\u001b[0m\u001b[1;33m,\u001b[0m \u001b[0mvalid_index\u001b[0m\u001b[1;33m)\u001b[0m\u001b[1;33m\u001b[0m\u001b[1;33m\u001b[0m\u001b[0m\n\u001b[1;32m---> 14\u001b[1;33m     \u001b[0mX_train\u001b[0m\u001b[1;33m,\u001b[0m \u001b[0mX_valid\u001b[0m \u001b[1;33m=\u001b[0m \u001b[0mtrain_in\u001b[0m\u001b[1;33m[\u001b[0m\u001b[0mtrain_index\u001b[0m\u001b[1;33m]\u001b[0m\u001b[1;33m,\u001b[0m \u001b[0mtrain_in\u001b[0m\u001b[1;33m[\u001b[0m\u001b[0mValid_index\u001b[0m\u001b[1;33m]\u001b[0m\u001b[1;33m\u001b[0m\u001b[1;33m\u001b[0m\u001b[0m\n\u001b[0m\u001b[0;32m     15\u001b[0m     \u001b[0my_train\u001b[0m\u001b[1;33m,\u001b[0m \u001b[0my_valid\u001b[0m \u001b[1;33m=\u001b[0m \u001b[0my_in\u001b[0m\u001b[1;33m[\u001b[0m\u001b[0mtrain_index\u001b[0m\u001b[1;33m]\u001b[0m\u001b[1;33m,\u001b[0m \u001b[0my_in\u001b[0m\u001b[1;33m[\u001b[0m\u001b[0mvalid_index\u001b[0m\u001b[1;33m]\u001b[0m\u001b[1;33m\u001b[0m\u001b[1;33m\u001b[0m\u001b[0m\n\u001b[0;32m     16\u001b[0m     \u001b[0mprint\u001b[0m\u001b[1;33m(\u001b[0m\u001b[0mX_train\u001b[0m\u001b[1;33m,\u001b[0m \u001b[0mX_valid\u001b[0m\u001b[1;33m,\u001b[0m \u001b[0my_train\u001b[0m\u001b[1;33m,\u001b[0m \u001b[0my_valid\u001b[0m\u001b[1;33m)\u001b[0m\u001b[1;33m\u001b[0m\u001b[1;33m\u001b[0m\u001b[0m\n",
      "\u001b[1;32mC:\\Anaconda3\\lib\\site-packages\\pandas\\core\\frame.py\u001b[0m in \u001b[0;36m__getitem__\u001b[1;34m(self, key)\u001b[0m\n\u001b[0;32m   2906\u001b[0m             \u001b[1;32mif\u001b[0m \u001b[0mis_iterator\u001b[0m\u001b[1;33m(\u001b[0m\u001b[0mkey\u001b[0m\u001b[1;33m)\u001b[0m\u001b[1;33m:\u001b[0m\u001b[1;33m\u001b[0m\u001b[1;33m\u001b[0m\u001b[0m\n\u001b[0;32m   2907\u001b[0m                 \u001b[0mkey\u001b[0m \u001b[1;33m=\u001b[0m \u001b[0mlist\u001b[0m\u001b[1;33m(\u001b[0m\u001b[0mkey\u001b[0m\u001b[1;33m)\u001b[0m\u001b[1;33m\u001b[0m\u001b[1;33m\u001b[0m\u001b[0m\n\u001b[1;32m-> 2908\u001b[1;33m             \u001b[0mindexer\u001b[0m \u001b[1;33m=\u001b[0m \u001b[0mself\u001b[0m\u001b[1;33m.\u001b[0m\u001b[0mloc\u001b[0m\u001b[1;33m.\u001b[0m\u001b[0m_get_listlike_indexer\u001b[0m\u001b[1;33m(\u001b[0m\u001b[0mkey\u001b[0m\u001b[1;33m,\u001b[0m \u001b[0maxis\u001b[0m\u001b[1;33m=\u001b[0m\u001b[1;36m1\u001b[0m\u001b[1;33m,\u001b[0m \u001b[0mraise_missing\u001b[0m\u001b[1;33m=\u001b[0m\u001b[1;32mTrue\u001b[0m\u001b[1;33m)\u001b[0m\u001b[1;33m[\u001b[0m\u001b[1;36m1\u001b[0m\u001b[1;33m]\u001b[0m\u001b[1;33m\u001b[0m\u001b[1;33m\u001b[0m\u001b[0m\n\u001b[0m\u001b[0;32m   2909\u001b[0m \u001b[1;33m\u001b[0m\u001b[0m\n\u001b[0;32m   2910\u001b[0m         \u001b[1;31m# take() does not accept boolean indexers\u001b[0m\u001b[1;33m\u001b[0m\u001b[1;33m\u001b[0m\u001b[1;33m\u001b[0m\u001b[0m\n",
      "\u001b[1;32mC:\\Anaconda3\\lib\\site-packages\\pandas\\core\\indexing.py\u001b[0m in \u001b[0;36m_get_listlike_indexer\u001b[1;34m(self, key, axis, raise_missing)\u001b[0m\n\u001b[0;32m   1252\u001b[0m             \u001b[0mkeyarr\u001b[0m\u001b[1;33m,\u001b[0m \u001b[0mindexer\u001b[0m\u001b[1;33m,\u001b[0m \u001b[0mnew_indexer\u001b[0m \u001b[1;33m=\u001b[0m \u001b[0max\u001b[0m\u001b[1;33m.\u001b[0m\u001b[0m_reindex_non_unique\u001b[0m\u001b[1;33m(\u001b[0m\u001b[0mkeyarr\u001b[0m\u001b[1;33m)\u001b[0m\u001b[1;33m\u001b[0m\u001b[1;33m\u001b[0m\u001b[0m\n\u001b[0;32m   1253\u001b[0m \u001b[1;33m\u001b[0m\u001b[0m\n\u001b[1;32m-> 1254\u001b[1;33m         \u001b[0mself\u001b[0m\u001b[1;33m.\u001b[0m\u001b[0m_validate_read_indexer\u001b[0m\u001b[1;33m(\u001b[0m\u001b[0mkeyarr\u001b[0m\u001b[1;33m,\u001b[0m \u001b[0mindexer\u001b[0m\u001b[1;33m,\u001b[0m \u001b[0maxis\u001b[0m\u001b[1;33m,\u001b[0m \u001b[0mraise_missing\u001b[0m\u001b[1;33m=\u001b[0m\u001b[0mraise_missing\u001b[0m\u001b[1;33m)\u001b[0m\u001b[1;33m\u001b[0m\u001b[1;33m\u001b[0m\u001b[0m\n\u001b[0m\u001b[0;32m   1255\u001b[0m         \u001b[1;32mreturn\u001b[0m \u001b[0mkeyarr\u001b[0m\u001b[1;33m,\u001b[0m \u001b[0mindexer\u001b[0m\u001b[1;33m\u001b[0m\u001b[1;33m\u001b[0m\u001b[0m\n\u001b[0;32m   1256\u001b[0m \u001b[1;33m\u001b[0m\u001b[0m\n",
      "\u001b[1;32mC:\\Anaconda3\\lib\\site-packages\\pandas\\core\\indexing.py\u001b[0m in \u001b[0;36m_validate_read_indexer\u001b[1;34m(self, key, indexer, axis, raise_missing)\u001b[0m\n\u001b[0;32m   1296\u001b[0m             \u001b[1;32mif\u001b[0m \u001b[0mmissing\u001b[0m \u001b[1;33m==\u001b[0m \u001b[0mlen\u001b[0m\u001b[1;33m(\u001b[0m\u001b[0mindexer\u001b[0m\u001b[1;33m)\u001b[0m\u001b[1;33m:\u001b[0m\u001b[1;33m\u001b[0m\u001b[1;33m\u001b[0m\u001b[0m\n\u001b[0;32m   1297\u001b[0m                 \u001b[0maxis_name\u001b[0m \u001b[1;33m=\u001b[0m \u001b[0mself\u001b[0m\u001b[1;33m.\u001b[0m\u001b[0mobj\u001b[0m\u001b[1;33m.\u001b[0m\u001b[0m_get_axis_name\u001b[0m\u001b[1;33m(\u001b[0m\u001b[0maxis\u001b[0m\u001b[1;33m)\u001b[0m\u001b[1;33m\u001b[0m\u001b[1;33m\u001b[0m\u001b[0m\n\u001b[1;32m-> 1298\u001b[1;33m                 \u001b[1;32mraise\u001b[0m \u001b[0mKeyError\u001b[0m\u001b[1;33m(\u001b[0m\u001b[1;34mf\"None of [{key}] are in the [{axis_name}]\"\u001b[0m\u001b[1;33m)\u001b[0m\u001b[1;33m\u001b[0m\u001b[1;33m\u001b[0m\u001b[0m\n\u001b[0m\u001b[0;32m   1299\u001b[0m \u001b[1;33m\u001b[0m\u001b[0m\n\u001b[0;32m   1300\u001b[0m             \u001b[1;31m# We (temporarily) allow for some missing keys with .loc, except in\u001b[0m\u001b[1;33m\u001b[0m\u001b[1;33m\u001b[0m\u001b[1;33m\u001b[0m\u001b[0m\n",
      "\u001b[1;31mKeyError\u001b[0m: \"None of [Int64Index([     0,      1,      2,      3,      4,      5,      6,      7,\\n                 8,      9,\\n            ...\\n            303504, 303505, 303506, 303507, 303508, 303509, 303510, 303511,\\n            303512, 303513],\\n           dtype='int64', length=242811)] are in the [columns]\""
     ]
    }
   ],
   "source": [
    "# try again later\n",
    "# import numpy as np\n",
    "# from sklearn.model_selection import GroupKFold\n",
    "# #X = np.array([[1, 2], [3, 4], [5, 6], [7, 8]])\n",
    "# #y = np.array([1, 2, 3, 4])\n",
    "# #groups = np.array([0, 0, 2, 2])\n",
    "# groups = train_in['breath_id']\n",
    "# group_kfold = GroupKFold(n_splits=5)\n",
    "# group_kfold.get_n_splits(train_in, y_in, groups)\n",
    "\n",
    "# print(group_kfold)\n",
    "\n",
    "# for train_index, valid_index in group_kfold.split(train_in, y_in, groups):\n",
    "#     print(\"Train\", train_index, \"Valid:\", valid_index)\n",
    "#     X_train, X_valid = train_in[train_index], train_in[Valid_index]\n",
    "#     y_train, y_valid = y_in[train_index], y_in[valid_index]\n",
    "#     print(X_train, X_valid, y_train, y_valid)"
   ]
  },
  {
   "cell_type": "code",
   "execution_count": 81,
   "metadata": {},
   "outputs": [
    {
     "name": "stdout",
     "output_type": "stream",
     "text": [
      "Fitting 5 folds for each of 54 candidates, totalling 270 fits\n"
     ]
    },
    {
     "name": "stderr",
     "output_type": "stream",
     "text": [
      "[Parallel(n_jobs=-1)]: Using backend LokyBackend with 12 concurrent workers.\n",
      "[Parallel(n_jobs=-1)]: Done  26 tasks      | elapsed:    3.0s\n",
      "[Parallel(n_jobs=-1)]: Done 176 tasks      | elapsed:    7.0s\n",
      "[Parallel(n_jobs=-1)]: Done 270 out of 270 | elapsed:    9.4s finished\n"
     ]
    },
    {
     "ename": "KeyError",
     "evalue": "'gini'",
     "output_type": "error",
     "traceback": [
      "\u001b[1;31m---------------------------------------------------------------------------\u001b[0m",
      "\u001b[1;31mKeyError\u001b[0m                                  Traceback (most recent call last)",
      "\u001b[1;32m<ipython-input-81-dc04481e6066>\u001b[0m in \u001b[0;36m<module>\u001b[1;34m\u001b[0m\n\u001b[0;32m     19\u001b[0m \u001b[0mgsRFC\u001b[0m \u001b[1;33m=\u001b[0m \u001b[0mGridSearchCV\u001b[0m\u001b[1;33m(\u001b[0m\u001b[0mmodel_rf\u001b[0m\u001b[1;33m,\u001b[0m\u001b[0mparam_grid\u001b[0m \u001b[1;33m=\u001b[0m \u001b[0mrf_param_grid\u001b[0m\u001b[1;33m,\u001b[0m \u001b[0mscoring\u001b[0m\u001b[1;33m=\u001b[0m\u001b[1;34m\"accuracy\"\u001b[0m\u001b[1;33m,\u001b[0m \u001b[0mn_jobs\u001b[0m\u001b[1;33m=\u001b[0m \u001b[1;33m-\u001b[0m\u001b[1;36m1\u001b[0m\u001b[1;33m,\u001b[0m \u001b[0mverbose\u001b[0m \u001b[1;33m=\u001b[0m \u001b[1;36m1\u001b[0m\u001b[1;33m)\u001b[0m \u001b[1;31m# removed cv\u001b[0m\u001b[1;33m\u001b[0m\u001b[1;33m\u001b[0m\u001b[0m\n\u001b[0;32m     20\u001b[0m \u001b[1;33m\u001b[0m\u001b[0m\n\u001b[1;32m---> 21\u001b[1;33m \u001b[0mgsRFC\u001b[0m\u001b[1;33m.\u001b[0m\u001b[0mfit\u001b[0m\u001b[1;33m(\u001b[0m\u001b[0mX_train\u001b[0m\u001b[1;33m,\u001b[0m\u001b[0my_train\u001b[0m\u001b[1;33m)\u001b[0m\u001b[1;33m\u001b[0m\u001b[1;33m\u001b[0m\u001b[0m\n\u001b[0m\u001b[0;32m     22\u001b[0m \u001b[1;33m\u001b[0m\u001b[0m\n\u001b[0;32m     23\u001b[0m \u001b[0mRFC_best\u001b[0m \u001b[1;33m=\u001b[0m \u001b[0mgsRFC\u001b[0m\u001b[1;33m.\u001b[0m\u001b[0mbest_estimator_\u001b[0m\u001b[1;33m\u001b[0m\u001b[1;33m\u001b[0m\u001b[0m\n",
      "\u001b[1;32mC:\\Anaconda3\\lib\\site-packages\\sklearn\\utils\\validation.py\u001b[0m in \u001b[0;36minner_f\u001b[1;34m(*args, **kwargs)\u001b[0m\n\u001b[0;32m     70\u001b[0m                           FutureWarning)\n\u001b[0;32m     71\u001b[0m         \u001b[0mkwargs\u001b[0m\u001b[1;33m.\u001b[0m\u001b[0mupdate\u001b[0m\u001b[1;33m(\u001b[0m\u001b[1;33m{\u001b[0m\u001b[0mk\u001b[0m\u001b[1;33m:\u001b[0m \u001b[0marg\u001b[0m \u001b[1;32mfor\u001b[0m \u001b[0mk\u001b[0m\u001b[1;33m,\u001b[0m \u001b[0marg\u001b[0m \u001b[1;32min\u001b[0m \u001b[0mzip\u001b[0m\u001b[1;33m(\u001b[0m\u001b[0msig\u001b[0m\u001b[1;33m.\u001b[0m\u001b[0mparameters\u001b[0m\u001b[1;33m,\u001b[0m \u001b[0margs\u001b[0m\u001b[1;33m)\u001b[0m\u001b[1;33m}\u001b[0m\u001b[1;33m)\u001b[0m\u001b[1;33m\u001b[0m\u001b[1;33m\u001b[0m\u001b[0m\n\u001b[1;32m---> 72\u001b[1;33m         \u001b[1;32mreturn\u001b[0m \u001b[0mf\u001b[0m\u001b[1;33m(\u001b[0m\u001b[1;33m**\u001b[0m\u001b[0mkwargs\u001b[0m\u001b[1;33m)\u001b[0m\u001b[1;33m\u001b[0m\u001b[1;33m\u001b[0m\u001b[0m\n\u001b[0m\u001b[0;32m     73\u001b[0m     \u001b[1;32mreturn\u001b[0m \u001b[0minner_f\u001b[0m\u001b[1;33m\u001b[0m\u001b[1;33m\u001b[0m\u001b[0m\n\u001b[0;32m     74\u001b[0m \u001b[1;33m\u001b[0m\u001b[0m\n",
      "\u001b[1;32mC:\\Anaconda3\\lib\\site-packages\\sklearn\\model_selection\\_search.py\u001b[0m in \u001b[0;36mfit\u001b[1;34m(self, X, y, groups, **fit_params)\u001b[0m\n\u001b[0;32m    763\u001b[0m             \u001b[0mrefit_start_time\u001b[0m \u001b[1;33m=\u001b[0m \u001b[0mtime\u001b[0m\u001b[1;33m.\u001b[0m\u001b[0mtime\u001b[0m\u001b[1;33m(\u001b[0m\u001b[1;33m)\u001b[0m\u001b[1;33m\u001b[0m\u001b[1;33m\u001b[0m\u001b[0m\n\u001b[0;32m    764\u001b[0m             \u001b[1;32mif\u001b[0m \u001b[0my\u001b[0m \u001b[1;32mis\u001b[0m \u001b[1;32mnot\u001b[0m \u001b[1;32mNone\u001b[0m\u001b[1;33m:\u001b[0m\u001b[1;33m\u001b[0m\u001b[1;33m\u001b[0m\u001b[0m\n\u001b[1;32m--> 765\u001b[1;33m                 \u001b[0mself\u001b[0m\u001b[1;33m.\u001b[0m\u001b[0mbest_estimator_\u001b[0m\u001b[1;33m.\u001b[0m\u001b[0mfit\u001b[0m\u001b[1;33m(\u001b[0m\u001b[0mX\u001b[0m\u001b[1;33m,\u001b[0m \u001b[0my\u001b[0m\u001b[1;33m,\u001b[0m \u001b[1;33m**\u001b[0m\u001b[0mfit_params\u001b[0m\u001b[1;33m)\u001b[0m\u001b[1;33m\u001b[0m\u001b[1;33m\u001b[0m\u001b[0m\n\u001b[0m\u001b[0;32m    766\u001b[0m             \u001b[1;32melse\u001b[0m\u001b[1;33m:\u001b[0m\u001b[1;33m\u001b[0m\u001b[1;33m\u001b[0m\u001b[0m\n\u001b[0;32m    767\u001b[0m                 \u001b[0mself\u001b[0m\u001b[1;33m.\u001b[0m\u001b[0mbest_estimator_\u001b[0m\u001b[1;33m.\u001b[0m\u001b[0mfit\u001b[0m\u001b[1;33m(\u001b[0m\u001b[0mX\u001b[0m\u001b[1;33m,\u001b[0m \u001b[1;33m**\u001b[0m\u001b[0mfit_params\u001b[0m\u001b[1;33m)\u001b[0m\u001b[1;33m\u001b[0m\u001b[1;33m\u001b[0m\u001b[0m\n",
      "\u001b[1;32mC:\\Anaconda3\\lib\\site-packages\\sklearn\\ensemble\\_forest.py\u001b[0m in \u001b[0;36mfit\u001b[1;34m(self, X, y, sample_weight)\u001b[0m\n\u001b[0;32m    384\u001b[0m             \u001b[1;31m# parallel_backend contexts set at a higher level,\u001b[0m\u001b[1;33m\u001b[0m\u001b[1;33m\u001b[0m\u001b[1;33m\u001b[0m\u001b[0m\n\u001b[0;32m    385\u001b[0m             \u001b[1;31m# since correctness does not rely on using threads.\u001b[0m\u001b[1;33m\u001b[0m\u001b[1;33m\u001b[0m\u001b[1;33m\u001b[0m\u001b[0m\n\u001b[1;32m--> 386\u001b[1;33m             trees = Parallel(n_jobs=self.n_jobs, verbose=self.verbose,\n\u001b[0m\u001b[0;32m    387\u001b[0m                              \u001b[1;33m**\u001b[0m\u001b[0m_joblib_parallel_args\u001b[0m\u001b[1;33m(\u001b[0m\u001b[0mprefer\u001b[0m\u001b[1;33m=\u001b[0m\u001b[1;34m'threads'\u001b[0m\u001b[1;33m)\u001b[0m\u001b[1;33m)\u001b[0m\u001b[1;33m(\u001b[0m\u001b[1;33m\u001b[0m\u001b[1;33m\u001b[0m\u001b[0m\n\u001b[0;32m    388\u001b[0m                 delayed(_parallel_build_trees)(\n",
      "\u001b[1;32mC:\\Anaconda3\\lib\\site-packages\\joblib\\parallel.py\u001b[0m in \u001b[0;36m__call__\u001b[1;34m(self, iterable)\u001b[0m\n\u001b[0;32m   1046\u001b[0m             \u001b[1;31m# remaining jobs.\u001b[0m\u001b[1;33m\u001b[0m\u001b[1;33m\u001b[0m\u001b[1;33m\u001b[0m\u001b[0m\n\u001b[0;32m   1047\u001b[0m             \u001b[0mself\u001b[0m\u001b[1;33m.\u001b[0m\u001b[0m_iterating\u001b[0m \u001b[1;33m=\u001b[0m \u001b[1;32mFalse\u001b[0m\u001b[1;33m\u001b[0m\u001b[1;33m\u001b[0m\u001b[0m\n\u001b[1;32m-> 1048\u001b[1;33m             \u001b[1;32mif\u001b[0m \u001b[0mself\u001b[0m\u001b[1;33m.\u001b[0m\u001b[0mdispatch_one_batch\u001b[0m\u001b[1;33m(\u001b[0m\u001b[0miterator\u001b[0m\u001b[1;33m)\u001b[0m\u001b[1;33m:\u001b[0m\u001b[1;33m\u001b[0m\u001b[1;33m\u001b[0m\u001b[0m\n\u001b[0m\u001b[0;32m   1049\u001b[0m                 \u001b[0mself\u001b[0m\u001b[1;33m.\u001b[0m\u001b[0m_iterating\u001b[0m \u001b[1;33m=\u001b[0m \u001b[0mself\u001b[0m\u001b[1;33m.\u001b[0m\u001b[0m_original_iterator\u001b[0m \u001b[1;32mis\u001b[0m \u001b[1;32mnot\u001b[0m \u001b[1;32mNone\u001b[0m\u001b[1;33m\u001b[0m\u001b[1;33m\u001b[0m\u001b[0m\n\u001b[0;32m   1050\u001b[0m \u001b[1;33m\u001b[0m\u001b[0m\n",
      "\u001b[1;32mC:\\Anaconda3\\lib\\site-packages\\joblib\\parallel.py\u001b[0m in \u001b[0;36mdispatch_one_batch\u001b[1;34m(self, iterator)\u001b[0m\n\u001b[0;32m    864\u001b[0m                 \u001b[1;32mreturn\u001b[0m \u001b[1;32mFalse\u001b[0m\u001b[1;33m\u001b[0m\u001b[1;33m\u001b[0m\u001b[0m\n\u001b[0;32m    865\u001b[0m             \u001b[1;32melse\u001b[0m\u001b[1;33m:\u001b[0m\u001b[1;33m\u001b[0m\u001b[1;33m\u001b[0m\u001b[0m\n\u001b[1;32m--> 866\u001b[1;33m                 \u001b[0mself\u001b[0m\u001b[1;33m.\u001b[0m\u001b[0m_dispatch\u001b[0m\u001b[1;33m(\u001b[0m\u001b[0mtasks\u001b[0m\u001b[1;33m)\u001b[0m\u001b[1;33m\u001b[0m\u001b[1;33m\u001b[0m\u001b[0m\n\u001b[0m\u001b[0;32m    867\u001b[0m                 \u001b[1;32mreturn\u001b[0m \u001b[1;32mTrue\u001b[0m\u001b[1;33m\u001b[0m\u001b[1;33m\u001b[0m\u001b[0m\n\u001b[0;32m    868\u001b[0m \u001b[1;33m\u001b[0m\u001b[0m\n",
      "\u001b[1;32mC:\\Anaconda3\\lib\\site-packages\\joblib\\parallel.py\u001b[0m in \u001b[0;36m_dispatch\u001b[1;34m(self, batch)\u001b[0m\n\u001b[0;32m    782\u001b[0m         \u001b[1;32mwith\u001b[0m \u001b[0mself\u001b[0m\u001b[1;33m.\u001b[0m\u001b[0m_lock\u001b[0m\u001b[1;33m:\u001b[0m\u001b[1;33m\u001b[0m\u001b[1;33m\u001b[0m\u001b[0m\n\u001b[0;32m    783\u001b[0m             \u001b[0mjob_idx\u001b[0m \u001b[1;33m=\u001b[0m \u001b[0mlen\u001b[0m\u001b[1;33m(\u001b[0m\u001b[0mself\u001b[0m\u001b[1;33m.\u001b[0m\u001b[0m_jobs\u001b[0m\u001b[1;33m)\u001b[0m\u001b[1;33m\u001b[0m\u001b[1;33m\u001b[0m\u001b[0m\n\u001b[1;32m--> 784\u001b[1;33m             \u001b[0mjob\u001b[0m \u001b[1;33m=\u001b[0m \u001b[0mself\u001b[0m\u001b[1;33m.\u001b[0m\u001b[0m_backend\u001b[0m\u001b[1;33m.\u001b[0m\u001b[0mapply_async\u001b[0m\u001b[1;33m(\u001b[0m\u001b[0mbatch\u001b[0m\u001b[1;33m,\u001b[0m \u001b[0mcallback\u001b[0m\u001b[1;33m=\u001b[0m\u001b[0mcb\u001b[0m\u001b[1;33m)\u001b[0m\u001b[1;33m\u001b[0m\u001b[1;33m\u001b[0m\u001b[0m\n\u001b[0m\u001b[0;32m    785\u001b[0m             \u001b[1;31m# A job can complete so quickly than its callback is\u001b[0m\u001b[1;33m\u001b[0m\u001b[1;33m\u001b[0m\u001b[1;33m\u001b[0m\u001b[0m\n\u001b[0;32m    786\u001b[0m             \u001b[1;31m# called before we get here, causing self._jobs to\u001b[0m\u001b[1;33m\u001b[0m\u001b[1;33m\u001b[0m\u001b[1;33m\u001b[0m\u001b[0m\n",
      "\u001b[1;32mC:\\Anaconda3\\lib\\site-packages\\joblib\\_parallel_backends.py\u001b[0m in \u001b[0;36mapply_async\u001b[1;34m(self, func, callback)\u001b[0m\n\u001b[0;32m    206\u001b[0m     \u001b[1;32mdef\u001b[0m \u001b[0mapply_async\u001b[0m\u001b[1;33m(\u001b[0m\u001b[0mself\u001b[0m\u001b[1;33m,\u001b[0m \u001b[0mfunc\u001b[0m\u001b[1;33m,\u001b[0m \u001b[0mcallback\u001b[0m\u001b[1;33m=\u001b[0m\u001b[1;32mNone\u001b[0m\u001b[1;33m)\u001b[0m\u001b[1;33m:\u001b[0m\u001b[1;33m\u001b[0m\u001b[1;33m\u001b[0m\u001b[0m\n\u001b[0;32m    207\u001b[0m         \u001b[1;34m\"\"\"Schedule a func to be run\"\"\"\u001b[0m\u001b[1;33m\u001b[0m\u001b[1;33m\u001b[0m\u001b[0m\n\u001b[1;32m--> 208\u001b[1;33m         \u001b[0mresult\u001b[0m \u001b[1;33m=\u001b[0m \u001b[0mImmediateResult\u001b[0m\u001b[1;33m(\u001b[0m\u001b[0mfunc\u001b[0m\u001b[1;33m)\u001b[0m\u001b[1;33m\u001b[0m\u001b[1;33m\u001b[0m\u001b[0m\n\u001b[0m\u001b[0;32m    209\u001b[0m         \u001b[1;32mif\u001b[0m \u001b[0mcallback\u001b[0m\u001b[1;33m:\u001b[0m\u001b[1;33m\u001b[0m\u001b[1;33m\u001b[0m\u001b[0m\n\u001b[0;32m    210\u001b[0m             \u001b[0mcallback\u001b[0m\u001b[1;33m(\u001b[0m\u001b[0mresult\u001b[0m\u001b[1;33m)\u001b[0m\u001b[1;33m\u001b[0m\u001b[1;33m\u001b[0m\u001b[0m\n",
      "\u001b[1;32mC:\\Anaconda3\\lib\\site-packages\\joblib\\_parallel_backends.py\u001b[0m in \u001b[0;36m__init__\u001b[1;34m(self, batch)\u001b[0m\n\u001b[0;32m    570\u001b[0m         \u001b[1;31m# Don't delay the application, to avoid keeping the input\u001b[0m\u001b[1;33m\u001b[0m\u001b[1;33m\u001b[0m\u001b[1;33m\u001b[0m\u001b[0m\n\u001b[0;32m    571\u001b[0m         \u001b[1;31m# arguments in memory\u001b[0m\u001b[1;33m\u001b[0m\u001b[1;33m\u001b[0m\u001b[1;33m\u001b[0m\u001b[0m\n\u001b[1;32m--> 572\u001b[1;33m         \u001b[0mself\u001b[0m\u001b[1;33m.\u001b[0m\u001b[0mresults\u001b[0m \u001b[1;33m=\u001b[0m \u001b[0mbatch\u001b[0m\u001b[1;33m(\u001b[0m\u001b[1;33m)\u001b[0m\u001b[1;33m\u001b[0m\u001b[1;33m\u001b[0m\u001b[0m\n\u001b[0m\u001b[0;32m    573\u001b[0m \u001b[1;33m\u001b[0m\u001b[0m\n\u001b[0;32m    574\u001b[0m     \u001b[1;32mdef\u001b[0m \u001b[0mget\u001b[0m\u001b[1;33m(\u001b[0m\u001b[0mself\u001b[0m\u001b[1;33m)\u001b[0m\u001b[1;33m:\u001b[0m\u001b[1;33m\u001b[0m\u001b[1;33m\u001b[0m\u001b[0m\n",
      "\u001b[1;32mC:\\Anaconda3\\lib\\site-packages\\joblib\\parallel.py\u001b[0m in \u001b[0;36m__call__\u001b[1;34m(self)\u001b[0m\n\u001b[0;32m    260\u001b[0m         \u001b[1;31m# change the default number of processes to -1\u001b[0m\u001b[1;33m\u001b[0m\u001b[1;33m\u001b[0m\u001b[1;33m\u001b[0m\u001b[0m\n\u001b[0;32m    261\u001b[0m         \u001b[1;32mwith\u001b[0m \u001b[0mparallel_backend\u001b[0m\u001b[1;33m(\u001b[0m\u001b[0mself\u001b[0m\u001b[1;33m.\u001b[0m\u001b[0m_backend\u001b[0m\u001b[1;33m,\u001b[0m \u001b[0mn_jobs\u001b[0m\u001b[1;33m=\u001b[0m\u001b[0mself\u001b[0m\u001b[1;33m.\u001b[0m\u001b[0m_n_jobs\u001b[0m\u001b[1;33m)\u001b[0m\u001b[1;33m:\u001b[0m\u001b[1;33m\u001b[0m\u001b[1;33m\u001b[0m\u001b[0m\n\u001b[1;32m--> 262\u001b[1;33m             return [func(*args, **kwargs)\n\u001b[0m\u001b[0;32m    263\u001b[0m                     for func, args, kwargs in self.items]\n\u001b[0;32m    264\u001b[0m \u001b[1;33m\u001b[0m\u001b[0m\n",
      "\u001b[1;32mC:\\Anaconda3\\lib\\site-packages\\joblib\\parallel.py\u001b[0m in \u001b[0;36m<listcomp>\u001b[1;34m(.0)\u001b[0m\n\u001b[0;32m    260\u001b[0m         \u001b[1;31m# change the default number of processes to -1\u001b[0m\u001b[1;33m\u001b[0m\u001b[1;33m\u001b[0m\u001b[1;33m\u001b[0m\u001b[0m\n\u001b[0;32m    261\u001b[0m         \u001b[1;32mwith\u001b[0m \u001b[0mparallel_backend\u001b[0m\u001b[1;33m(\u001b[0m\u001b[0mself\u001b[0m\u001b[1;33m.\u001b[0m\u001b[0m_backend\u001b[0m\u001b[1;33m,\u001b[0m \u001b[0mn_jobs\u001b[0m\u001b[1;33m=\u001b[0m\u001b[0mself\u001b[0m\u001b[1;33m.\u001b[0m\u001b[0m_n_jobs\u001b[0m\u001b[1;33m)\u001b[0m\u001b[1;33m:\u001b[0m\u001b[1;33m\u001b[0m\u001b[1;33m\u001b[0m\u001b[0m\n\u001b[1;32m--> 262\u001b[1;33m             return [func(*args, **kwargs)\n\u001b[0m\u001b[0;32m    263\u001b[0m                     for func, args, kwargs in self.items]\n\u001b[0;32m    264\u001b[0m \u001b[1;33m\u001b[0m\u001b[0m\n",
      "\u001b[1;32mC:\\Anaconda3\\lib\\site-packages\\sklearn\\ensemble\\_forest.py\u001b[0m in \u001b[0;36m_parallel_build_trees\u001b[1;34m(tree, forest, X, y, sample_weight, tree_idx, n_trees, verbose, class_weight, n_samples_bootstrap)\u001b[0m\n\u001b[0;32m    168\u001b[0m         \u001b[0mtree\u001b[0m\u001b[1;33m.\u001b[0m\u001b[0mfit\u001b[0m\u001b[1;33m(\u001b[0m\u001b[0mX\u001b[0m\u001b[1;33m,\u001b[0m \u001b[0my\u001b[0m\u001b[1;33m,\u001b[0m \u001b[0msample_weight\u001b[0m\u001b[1;33m=\u001b[0m\u001b[0mcurr_sample_weight\u001b[0m\u001b[1;33m,\u001b[0m \u001b[0mcheck_input\u001b[0m\u001b[1;33m=\u001b[0m\u001b[1;32mFalse\u001b[0m\u001b[1;33m)\u001b[0m\u001b[1;33m\u001b[0m\u001b[1;33m\u001b[0m\u001b[0m\n\u001b[0;32m    169\u001b[0m     \u001b[1;32melse\u001b[0m\u001b[1;33m:\u001b[0m\u001b[1;33m\u001b[0m\u001b[1;33m\u001b[0m\u001b[0m\n\u001b[1;32m--> 170\u001b[1;33m         \u001b[0mtree\u001b[0m\u001b[1;33m.\u001b[0m\u001b[0mfit\u001b[0m\u001b[1;33m(\u001b[0m\u001b[0mX\u001b[0m\u001b[1;33m,\u001b[0m \u001b[0my\u001b[0m\u001b[1;33m,\u001b[0m \u001b[0msample_weight\u001b[0m\u001b[1;33m=\u001b[0m\u001b[0msample_weight\u001b[0m\u001b[1;33m,\u001b[0m \u001b[0mcheck_input\u001b[0m\u001b[1;33m=\u001b[0m\u001b[1;32mFalse\u001b[0m\u001b[1;33m)\u001b[0m\u001b[1;33m\u001b[0m\u001b[1;33m\u001b[0m\u001b[0m\n\u001b[0m\u001b[0;32m    171\u001b[0m \u001b[1;33m\u001b[0m\u001b[0m\n\u001b[0;32m    172\u001b[0m     \u001b[1;32mreturn\u001b[0m \u001b[0mtree\u001b[0m\u001b[1;33m\u001b[0m\u001b[1;33m\u001b[0m\u001b[0m\n",
      "\u001b[1;32mC:\\Anaconda3\\lib\\site-packages\\sklearn\\tree\\_classes.py\u001b[0m in \u001b[0;36mfit\u001b[1;34m(self, X, y, sample_weight, check_input, X_idx_sorted)\u001b[0m\n\u001b[0;32m   1240\u001b[0m         \"\"\"\n\u001b[0;32m   1241\u001b[0m \u001b[1;33m\u001b[0m\u001b[0m\n\u001b[1;32m-> 1242\u001b[1;33m         super().fit(\n\u001b[0m\u001b[0;32m   1243\u001b[0m             \u001b[0mX\u001b[0m\u001b[1;33m,\u001b[0m \u001b[0my\u001b[0m\u001b[1;33m,\u001b[0m\u001b[1;33m\u001b[0m\u001b[1;33m\u001b[0m\u001b[0m\n\u001b[0;32m   1244\u001b[0m             \u001b[0msample_weight\u001b[0m\u001b[1;33m=\u001b[0m\u001b[0msample_weight\u001b[0m\u001b[1;33m,\u001b[0m\u001b[1;33m\u001b[0m\u001b[1;33m\u001b[0m\u001b[0m\n",
      "\u001b[1;32mC:\\Anaconda3\\lib\\site-packages\\sklearn\\tree\\_classes.py\u001b[0m in \u001b[0;36mfit\u001b[1;34m(self, X, y, sample_weight, check_input, X_idx_sorted)\u001b[0m\n\u001b[0;32m    334\u001b[0m                                                          self.n_classes_)\n\u001b[0;32m    335\u001b[0m             \u001b[1;32melse\u001b[0m\u001b[1;33m:\u001b[0m\u001b[1;33m\u001b[0m\u001b[1;33m\u001b[0m\u001b[0m\n\u001b[1;32m--> 336\u001b[1;33m                 criterion = CRITERIA_REG[self.criterion](self.n_outputs_,\n\u001b[0m\u001b[0;32m    337\u001b[0m                                                          n_samples)\n\u001b[0;32m    338\u001b[0m \u001b[1;33m\u001b[0m\u001b[0m\n",
      "\u001b[1;31mKeyError\u001b[0m: 'gini'"
     ]
    }
   ],
   "source": [
    "# RFC Parameters tunning \n",
    "from sklearn.ensemble import RandomForestRegressor\n",
    "from sklearn.model_selection import GridSearchCV, cross_val_score, StratifiedKFold, learning_curve\n",
    "kfold = StratifiedKFold(n_splits=5)\n",
    "\n",
    "model_rf = RandomForestRegressor()\n",
    "\n",
    "\n",
    "## Search grid for optimal parameters\n",
    "rf_param_grid = {\"max_depth\": [None],\n",
    "              \"max_features\": [1, 3, 10],\n",
    "              \"min_samples_split\": [2, 3, 10],\n",
    "              \"min_samples_leaf\": [1, 3, 10],\n",
    "              \"bootstrap\": [False],\n",
    "              \"n_estimators\" :[100,300],\n",
    "              \"criterion\": [\"gini\"]}\n",
    "\n",
    "\n",
    "gsRFC = GridSearchCV(model_rf,param_grid = rf_param_grid, scoring=\"accuracy\", n_jobs= -1, verbose = 1) # removed cv\n",
    "\n",
    "gsRFC.fit(X_train,y_train)\n",
    "\n",
    "RFC_best = gsRFC.best_estimator_\n",
    "\n",
    "pred_rf = model_rf.predict(X_valid)\n",
    "rf_mae = mean_absolute_error(pred_rf,y_valid)\n",
    "\n",
    "# Best score\n",
    "#gsRFC.best_score_"
   ]
  },
  {
   "cell_type": "code",
   "execution_count": null,
   "metadata": {},
   "outputs": [],
   "source": [
    "# from sklearn.linear_model import LinearRegression\n",
    "\n",
    "# model_lr = LGBMRegressor()\n",
    "# model_lr.fit(X_train,y_train)\n",
    "# pred_lr = model_lr.predict(X_valid)\n",
    "# score_lr = mean_absolute_error(y_valid,pred_lr)\n",
    "# print(f'LR MAE Score, i = {0}: {score_lr}')\n",
    "# score = 1.223"
   ]
  },
  {
   "cell_type": "code",
   "execution_count": null,
   "metadata": {},
   "outputs": [],
   "source": [
    "# from sklearn.preprocessing import PolynomialFeatures\n",
    "\n",
    "# poly_reg=PolynomialFeatures(degree=2)\n",
    "\n",
    "# X_train_poly=poly_reg.fit_transform(X_train)\n",
    "# poly_reg.fit(X_train_poly,y_train)\n",
    "\n",
    "# lin_reg2=LinearRegression()\n",
    "# lin_reg2.fit(X_train_poly,y_train)\n",
    "# pred_lr2 = lin_reg2.predict(X_valid)\n",
    "# score_lr = mean_absolute_error(y_valid,pred_lr2)\n",
    "# print(f'LR MAE Score, i = {0}: {score_lr}')"
   ]
  },
  {
   "cell_type": "code",
   "execution_count": null,
   "metadata": {},
   "outputs": [],
   "source": [
    "# pred_cv_final = gscv.predict(test_in)"
   ]
  },
  {
   "cell_type": "code",
   "execution_count": 73,
   "metadata": {
    "execution": {
     "iopub.execute_input": "2021-10-22T17:20:16.844439Z",
     "iopub.status.busy": "2021-10-22T17:20:16.844161Z"
    }
   },
   "outputs": [
    {
     "name": "stdout",
     "output_type": "stream",
     "text": [
      "Random Forest MAE Score: 0.5736288982988603\n",
      "Wall time: 6min 3s\n"
     ]
    }
   ],
   "source": [
    "%%time\n",
    "#random forest - trying to convert to catboost\n",
    "from sklearn.ensemble import RandomForestRegressor\n",
    "model_rf = RandomForestRegressor()\n",
    "model_rf.fit(X_train, y_train)\n",
    "pred_rf = model_rf.predict(X_valid)\n",
    "rf_mae = mean_absolute_error(pred_rf,y_valid)\n",
    "print(f'Random Forest MAE Score: {rf_mae}')\n",
    "\n",
    "# (n_estimators=100, max_depth=7,min_samples_leaf=0.06, random_state=12), mae=3.12775, lb score = 6.431(?)\n",
    "# Why is random forest worse?  \n",
    "# 10/17/21: Still worse after using only inhales\n",
    "# defaults: runs out of memory!!!???\n",
    "#   - because random forests take a ton of memory.\n",
    "# (n_estimators=100, max_depth=7,min_samples_leaf=0.06, random_state=12) = 5.867\n",
    "# reduced dtype sizes on ints: \n",
    "# 3.627 default, lb = 3.710\n",
    "# changed criterion to mae...doesn't work...removed\n",
    "\n",
    "# with dt and du_in, shift=1, 2.364 vs. lb of 2.37.  Beats catboost (400,.6)\n",
    "# with dt and du_in, shift=2, Random Forest MAE Score: 2.058162936194095\n",
    "# with dt and du_in, shift=3, Random Forest MAE Score: 2.03014981349922\n",
    "# interesting shift 3 is a little better.\n",
    "\n",
    "# deriv and integral, shift=1, .7934!!!\n",
    "# but leaderboard was .8897\n",
    "# try shift = 2, = .934 (a little lower)\n",
    "# added max_time column, down to .6429!  \n",
    "# added d_area column - actually increased a little to .64394, but possible that lb is better...maybe try it.\n",
    "# added max_u_in (in addition to max_time), .55379\n",
    "# with ratio 1/R*area increase a little: .53347, lb score improved a bit to .61\n",
    "# with RC, etc... .53109, .61 lb .6105 vs .6144ish\n",
    "# with 3rd derivative and u_in squared:  .50277 vs. .5846 lb...best so far\n",
    "# with more features, and lower cb score: 0.522197 (worse).  Still, check lb.\n",
    "# withu_in_mean: .4449!!!, try lb: .5586 up from .58xx but was hoping for more.  Try lightgbm\n",
    "# with 10000 breath sampling: .573"
   ]
  },
  {
   "cell_type": "code",
   "execution_count": 74,
   "metadata": {},
   "outputs": [
    {
     "data": {
      "image/png": "[encoded data removed]",
      "text/plain": [
       "<Figure size 576x396 with 1 Axes>"
      ]
     },
     "metadata": {},
     "output_type": "display_data"
    }
   ],
   "source": [
    "model_rf.feature_importances_\n",
    "indices = np.argsort(model_rf.feature_importances_)[::-1]\n",
    "g = sns.barplot(y=X_train.columns[indices],x = model_rf.feature_importances_[indices] , orient='h')"
   ]
  },
  {
   "cell_type": "code",
   "execution_count": null,
   "metadata": {},
   "outputs": [],
   "source": [
    "X_test_in.shape"
   ]
  },
  {
   "cell_type": "code",
   "execution_count": null,
   "metadata": {},
   "outputs": [],
   "source": [
    "X_train.shape"
   ]
  },
  {
   "cell_type": "markdown",
   "metadata": {},
   "source": [
    "# Final Model Submission"
   ]
  },
  {
   "cell_type": "code",
   "execution_count": 36,
   "metadata": {},
   "outputs": [
    {
     "data": {
      "text/plain": [
       "array([ 6.40323111,  6.3771402 ,  7.51062143, ..., 10.39902541,\n",
       "       10.58561783, 10.855282  ])"
      ]
     },
     "execution_count": 36,
     "metadata": {},
     "output_type": "execute_result"
    }
   ],
   "source": [
    "#try summing the two predictions (both at 10%)\n",
    "pred_f1 = model_cat.predict(X_test_in)\n",
    "pred_f2 = model_lgbm.predict(X_test_in)\n",
    "pred_f1\n",
    "# not great, lb = ~.82xx vs .58xx best so far"
   ]
  },
  {
   "cell_type": "code",
   "execution_count": 38,
   "metadata": {},
   "outputs": [
    {
     "data": {
      "text/plain": [
       "array([ 6.64953954,  6.64073423,  7.54051464, ..., 10.34284044,\n",
       "       10.55418696, 10.71420903])"
      ]
     },
     "execution_count": 38,
     "metadata": {},
     "output_type": "execute_result"
    }
   ],
   "source": [
    "pred_final = (pred_f1 + pred_f2)/2\n",
    "pred_final"
   ]
  },
  {
   "cell_type": "code",
   "execution_count": null,
   "metadata": {
    "execution": {
     "iopub.execute_input": "2021-10-17T16:21:39.369534Z",
     "iopub.status.busy": "2021-10-17T16:21:39.369218Z",
     "iopub.status.idle": "2021-10-17T16:21:40.613930Z",
     "shell.execute_reply": "2021-10-17T16:21:40.612856Z",
     "shell.execute_reply.started": "2021-10-17T16:21:39.369494Z"
    }
   },
   "outputs": [],
   "source": [
    "pred_final = model_cat.predict(X_test_in)\n",
    "# add indexs to recombine with out preds\n",
    "pred_final_s = pd.Series(pred_final,index=list(test_in.id))\n",
    "pred_final_s.head()"
   ]
  },
  {
   "cell_type": "code",
   "execution_count": 39,
   "metadata": {},
   "outputs": [
    {
     "data": {
      "text/plain": [
       "1    6.649540\n",
       "2    6.640734\n",
       "3    7.540515\n",
       "4    8.222166\n",
       "5    9.656777\n",
       "dtype: float64"
      ]
     },
     "execution_count": 39,
     "metadata": {},
     "output_type": "execute_result"
    }
   ],
   "source": [
    "# add indexs to recombine with out preds\n",
    "pred_final_s = pd.Series(pred_final,index=list(test_in.id))\n",
    "pred_final_s.head()"
   ]
  },
  {
   "cell_type": "code",
   "execution_count": 40,
   "metadata": {
    "execution": {
     "iopub.execute_input": "2021-10-17T16:21:37.812399Z",
     "iopub.status.busy": "2021-10-17T16:21:37.812051Z",
     "iopub.status.idle": "2021-10-17T16:21:39.367887Z",
     "shell.execute_reply": "2021-10-17T16:21:39.366951Z",
     "shell.execute_reply.started": "2021-10-17T16:21:37.812356Z"
    }
   },
   "outputs": [
    {
     "data": {
      "text/plain": [
       "32         1.0\n",
       "33         1.0\n",
       "34         1.0\n",
       "35         1.0\n",
       "36         1.0\n",
       "          ... \n",
       "4023996    1.0\n",
       "4023997    1.0\n",
       "4023998    1.0\n",
       "4023999    1.0\n",
       "4024000    1.0\n",
       "Length: 2496435, dtype: float64"
      ]
     },
     "execution_count": 40,
     "metadata": {},
     "output_type": "execute_result"
    }
   ],
   "source": [
    "# create outpreds = just ones\n",
    "out_preds = np.ones(len(test_out))\n",
    "i = list(test_out.id)\n",
    "out_preds_s = pd.Series(out_preds,index = i)\n",
    "out_preds_s"
   ]
  },
  {
   "cell_type": "code",
   "execution_count": 41,
   "metadata": {
    "execution": {
     "iopub.execute_input": "2021-10-17T16:21:40.617155Z",
     "iopub.status.busy": "2021-10-17T16:21:40.616893Z",
     "iopub.status.idle": "2021-10-17T16:21:40.929002Z",
     "shell.execute_reply": "2021-10-17T16:21:40.928006Z",
     "shell.execute_reply.started": "2021-10-17T16:21:40.617128Z"
    }
   },
   "outputs": [
    {
     "data": {
      "text/plain": [
       "array([6.64953954, 6.64073423, 7.54051464, ..., 1.        , 1.        ,\n",
       "       1.        ])"
      ]
     },
     "execution_count": 41,
     "metadata": {},
     "output_type": "execute_result"
    }
   ],
   "source": [
    "both = pred_final_s.append(out_preds_s).sort_index()\n",
    "both.values"
   ]
  },
  {
   "cell_type": "code",
   "execution_count": 42,
   "metadata": {
    "execution": {
     "iopub.execute_input": "2021-10-17T16:21:40.930913Z",
     "iopub.status.busy": "2021-10-17T16:21:40.930585Z",
     "iopub.status.idle": "2021-10-17T16:21:52.673630Z",
     "shell.execute_reply": "2021-10-17T16:21:52.672996Z",
     "shell.execute_reply.started": "2021-10-17T16:21:40.930872Z"
    }
   },
   "outputs": [
    {
     "name": "stdout",
     "output_type": "stream",
     "text": [
      "Submission saved!\n"
     ]
    }
   ],
   "source": [
    "output = pd.DataFrame({'id': test.id, 'pressure': both.values})\n",
    "output.to_csv('submission.csv', index=False)\n",
    "print(\"Submission saved!\")"
   ]
  },
  {
   "cell_type": "code",
   "execution_count": null,
   "metadata": {},
   "outputs": [],
   "source": []
  },
  {
   "cell_type": "markdown",
   "metadata": {},
   "source": [
    "## Post Analyze prediction vs. actuals and look for trends"
   ]
  },
  {
   "cell_type": "code",
   "execution_count": null,
   "metadata": {},
   "outputs": [],
   "source": [
    "# function to get single breath (id must exist...there are some that are missing)\n",
    "# also once removed u_out=1, lengths are not always 30 (some 28, etc)\n",
    "def get_breath(df,my_id):\n",
    "    return df[df.breath_id == my_id] "
   ]
  },
  {
   "cell_type": "code",
   "execution_count": null,
   "metadata": {},
   "outputs": [],
   "source": [
    "# %%time\n",
    "# ### predictions vs. validation data\n",
    "pred_all = model_lgbm.predict(train_in)"
   ]
  },
  {
   "cell_type": "code",
   "execution_count": null,
   "metadata": {},
   "outputs": [],
   "source": [
    "y_in.values"
   ]
  },
  {
   "cell_type": "code",
   "execution_count": null,
   "metadata": {},
   "outputs": [],
   "source": [
    "#Create a dataframe with breath_id's to make plotting easier\n",
    "post_analysis = pd.DataFrame({'breath_id': train_in.breath_id, 'prediction': pred_all, 'acutal': y_in.values})\n",
    "post_analysis['residual'] = pred_all - y_in.values\n",
    "post_analysis['R'] = train_in.R\n",
    "post_analysis['C'] = train_in.C\n",
    "post_analysis['u_in_lag'] = train_in.u_in_lag\n"
   ]
  },
  {
   "cell_type": "code",
   "execution_count": null,
   "metadata": {},
   "outputs": [],
   "source": [
    "post_analysis.head()"
   ]
  },
  {
   "cell_type": "code",
   "execution_count": null,
   "metadata": {},
   "outputs": [],
   "source": [
    "# make this a function\n",
    "breath_idx = train_in.breath_id.unique()\n",
    "fig, ax = plt.subplots(6, 4, figsize=(25,30))\n",
    "ax = ax.flatten()\n",
    "for i in range(24):\n",
    "    b_id = get_breath(post_analysis,breath_idx[i])\n",
    "    r = b_id.R.iloc[0]\n",
    "    c = b_id.C.iloc[0]\n",
    "    ax[i].plot(b_id.prediction,label='prediction')\n",
    "    ax[i].plot(b_id.acutal,label='actual')\n",
    "    ax[i].set_title(f'RR Prediction and Actual: Shift=1, Breath id={i}, R={r}, C={c}')\n",
    "    ax[i].legend();\n",
    "    \n",
    "# plt.savefig('v6_shift=1_rf.png')\n"
   ]
  },
  {
   "cell_type": "code",
   "execution_count": null,
   "metadata": {},
   "outputs": [],
   "source": []
  },
  {
   "cell_type": "code",
   "execution_count": null,
   "metadata": {},
   "outputs": [],
   "source": []
  }
 ],
 "metadata": {
  "kernelspec": {
   "display_name": "Python 3 (ipykernel)",
   "language": "python",
   "name": "python3"
  },
  "language_info": {
   "codemirror_mode": {
    "name": "ipython",
    "version": 3
   },
   "file_extension": ".py",
   "mimetype": "text/x-python",
   "name": "python",
   "nbconvert_exporter": "python",
   "pygments_lexer": "ipython3",
   "version": "3.8.8"
  }
 },
 "nbformat": 4,
 "nbformat_minor": 4
}
