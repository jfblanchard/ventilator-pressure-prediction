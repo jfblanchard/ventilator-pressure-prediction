{
 "cells": [
  {
   "cell_type": "markdown",
   "metadata": {},
   "source": [
    "# Libraries"
   ]
  },
  {
   "cell_type": "code",
   "execution_count": 1,
   "metadata": {
    "execution": {
     "iopub.execute_input": "2021-10-17T16:21:13.667725Z",
     "iopub.status.busy": "2021-10-17T16:21:13.667448Z",
     "iopub.status.idle": "2021-10-17T16:21:13.672345Z",
     "shell.execute_reply": "2021-10-17T16:21:13.671704Z",
     "shell.execute_reply.started": "2021-10-17T16:21:13.667697Z"
    }
   },
   "outputs": [],
   "source": [
    "import pandas as pd\n",
    "import numpy as np\n",
    "import matplotlib.pyplot as plt\n",
    "import seaborn as sns\n",
    "sns.set_style('whitegrid')"
   ]
  },
  {
   "cell_type": "markdown",
   "metadata": {},
   "source": [
    "# Functions"
   ]
  },
  {
   "cell_type": "code",
   "execution_count": 144,
   "metadata": {},
   "outputs": [],
   "source": [
    "# function to get single breath (id must exist...there are some that are missing)\n",
    "# also once removed u_out=1, lengths are not always 30 (some 28, etc)\n",
    "def get_breath(df,my_id):\n",
    "    return df[df.breath_id == my_id] "
   ]
  },
  {
   "cell_type": "code",
   "execution_count": 145,
   "metadata": {},
   "outputs": [],
   "source": [
    "def plot_breath(df,my_id):\n",
    "    id1 = get_breath(df,my_id)\n",
    "    r = id1.R.iloc[0]\n",
    "    c = id1.C.iloc[0]\n",
    "    plt.figure(figsize=(8,5))\n",
    "    plt.plot(id1.pressure,label='pressure')\n",
    "    plt.plot(id1.u_in,label='u_in')\n",
    "    plt.title(f'Pressure and u_in for Breath id={my_id}, R={r}, C={c}')\n",
    "    plt.legend();"
   ]
  },
  {
   "cell_type": "markdown",
   "metadata": {},
   "source": [
    "# Load Files"
   ]
  },
  {
   "cell_type": "code",
   "execution_count": 5,
   "metadata": {
    "execution": {
     "iopub.execute_input": "2021-10-17T16:21:13.674559Z",
     "iopub.status.busy": "2021-10-17T16:21:13.673659Z",
     "iopub.status.idle": "2021-10-17T16:21:22.630827Z",
     "shell.execute_reply": "2021-10-17T16:21:22.629798Z",
     "shell.execute_reply.started": "2021-10-17T16:21:13.674523Z"
    }
   },
   "outputs": [
    {
     "name": "stdout",
     "output_type": "stream",
     "text": [
      "Wall time: 10.7 s\n"
     ]
    }
   ],
   "source": [
    "%%time\n",
    "# Load files\n",
    "train = pd.read_csv(r'F:\\Sync\\Work\\Kaggle Competitions\\Ventilator Pressure Prediction\\Data\\train.csv')\n",
    "test = pd.read_csv(r'F:\\Sync\\Work\\Kaggle Competitions\\Ventilator Pressure Prediction\\Data\\test.csv')\n",
    "\n",
    "y = train['pressure']\n"
   ]
  },
  {
   "cell_type": "code",
   "execution_count": 6,
   "metadata": {},
   "outputs": [
    {
     "name": "stdout",
     "output_type": "stream",
     "text": [
      "Train memory usage: 386304128\n",
      "Test memory usage: 225344128\n"
     ]
    }
   ],
   "source": [
    "print(f'Train memory usage: {train.memory_usage().sum()}')\n",
    "print(f'Test memory usage: {test.memory_usage().sum()}')"
   ]
  },
  {
   "cell_type": "markdown",
   "metadata": {},
   "source": [
    "# Memory Reduction"
   ]
  },
  {
   "cell_type": "code",
   "execution_count": 7,
   "metadata": {},
   "outputs": [
    {
     "name": "stdout",
     "output_type": "stream",
     "text": [
      "int32\n",
      "int32\n",
      "int8\n",
      "int8\n",
      "float32\n",
      "float32\n",
      "int8\n"
     ]
    }
   ],
   "source": [
    "# down convert columns to save memory...\n",
    "# probably do float64's too\n",
    "\n",
    "# train\n",
    "train['id'] = train['id'].astype(np.int32)\n",
    "train['breath_id'] = train['breath_id'].astype(np.int32)\n",
    "train['R'] = train['R'].astype(np.int8)  #or OHC?\n",
    "train['C'] = train['C'].astype(np.int8)\n",
    "train['u_out'] = train['u_out'].astype(np.int8)\n",
    "train['u_in'] = train['u_in'].astype(np.float32)\n",
    "train['time_step'] = train['time_step'].astype(np.float32)\n",
    "\n",
    "\n",
    "#test\n",
    "test['id'] = test['id'].astype(np.int32)\n",
    "test['breath_id'] = test['breath_id'].astype(np.int32)\n",
    "test['R'] = test['R'].astype(np.int8)  #or OHC?\n",
    "test['C'] = test['C'].astype(np.int8)\n",
    "test['u_out'] = test['u_out'].astype(np.int8)\n",
    "test['u_in'] = test['u_in'].astype(np.float32)\n",
    "test['time_step'] = test['time_step'].astype(np.float32)\n",
    "\n",
    "for col in test.columns:\n",
    "    print(test[col].dtype)"
   ]
  },
  {
   "cell_type": "code",
   "execution_count": 168,
   "metadata": {},
   "outputs": [
    {
     "name": "stdout",
     "output_type": "stream",
     "text": [
      "Train memory usage: 162972128\n",
      "Test memory usage: 76456128\n"
     ]
    }
   ],
   "source": [
    "print(f'Train memory usage: {train.memory_usage().sum()}')\n",
    "print(f'Test memory usage: {test.memory_usage().sum()}')\n"
   ]
  },
  {
   "cell_type": "markdown",
   "metadata": {},
   "source": [
    "# Split data into inhalitory and exhalitory phase (only scored on inhale)"
   ]
  },
  {
   "cell_type": "code",
   "execution_count": 9,
   "metadata": {
    "execution": {
     "iopub.execute_input": "2021-10-17T16:21:22.632247Z",
     "iopub.status.busy": "2021-10-17T16:21:22.631988Z",
     "iopub.status.idle": "2021-10-17T16:21:23.167768Z",
     "shell.execute_reply": "2021-10-17T16:21:23.166946Z",
     "shell.execute_reply.started": "2021-10-17T16:21:22.632219Z"
    }
   },
   "outputs": [],
   "source": [
    "train_in = train[train.u_out == 0]\n",
    "test_in = test[test.u_out == 0]\n",
    "y_in = train_in['pressure']\n",
    "\n",
    "train_out = train[train.u_out == 1]\n",
    "test_out = test[test.u_out == 1]"
   ]
  },
  {
   "cell_type": "code",
   "execution_count": 112,
   "metadata": {
    "execution": {
     "iopub.execute_input": "2021-10-17T16:21:23.170038Z",
     "iopub.status.busy": "2021-10-17T16:21:23.169721Z",
     "iopub.status.idle": "2021-10-17T16:21:23.183724Z",
     "shell.execute_reply": "2021-10-17T16:21:23.182855Z",
     "shell.execute_reply.started": "2021-10-17T16:21:23.170006Z"
    }
   },
   "outputs": [
    {
     "data": {
      "text/html": [
       "<div>\n",
       "<style scoped>\n",
       "    .dataframe tbody tr th:only-of-type {\n",
       "        vertical-align: middle;\n",
       "    }\n",
       "\n",
       "    .dataframe tbody tr th {\n",
       "        vertical-align: top;\n",
       "    }\n",
       "\n",
       "    .dataframe thead th {\n",
       "        text-align: right;\n",
       "    }\n",
       "</style>\n",
       "<table border=\"1\" class=\"dataframe\">\n",
       "  <thead>\n",
       "    <tr style=\"text-align: right;\">\n",
       "      <th></th>\n",
       "      <th>id</th>\n",
       "      <th>breath_id</th>\n",
       "      <th>R</th>\n",
       "      <th>C</th>\n",
       "      <th>time_step</th>\n",
       "      <th>u_in</th>\n",
       "      <th>u_out</th>\n",
       "      <th>pressure</th>\n",
       "    </tr>\n",
       "  </thead>\n",
       "  <tbody>\n",
       "    <tr>\n",
       "      <th>0</th>\n",
       "      <td>1</td>\n",
       "      <td>1</td>\n",
       "      <td>20</td>\n",
       "      <td>50</td>\n",
       "      <td>0.000000</td>\n",
       "      <td>0.083334</td>\n",
       "      <td>0</td>\n",
       "      <td>5.837492</td>\n",
       "    </tr>\n",
       "    <tr>\n",
       "      <th>1</th>\n",
       "      <td>2</td>\n",
       "      <td>1</td>\n",
       "      <td>20</td>\n",
       "      <td>50</td>\n",
       "      <td>0.033652</td>\n",
       "      <td>18.383041</td>\n",
       "      <td>0</td>\n",
       "      <td>5.907794</td>\n",
       "    </tr>\n",
       "    <tr>\n",
       "      <th>2</th>\n",
       "      <td>3</td>\n",
       "      <td>1</td>\n",
       "      <td>20</td>\n",
       "      <td>50</td>\n",
       "      <td>0.067514</td>\n",
       "      <td>22.509277</td>\n",
       "      <td>0</td>\n",
       "      <td>7.876254</td>\n",
       "    </tr>\n",
       "    <tr>\n",
       "      <th>3</th>\n",
       "      <td>4</td>\n",
       "      <td>1</td>\n",
       "      <td>20</td>\n",
       "      <td>50</td>\n",
       "      <td>0.101542</td>\n",
       "      <td>22.808823</td>\n",
       "      <td>0</td>\n",
       "      <td>11.742872</td>\n",
       "    </tr>\n",
       "    <tr>\n",
       "      <th>4</th>\n",
       "      <td>5</td>\n",
       "      <td>1</td>\n",
       "      <td>20</td>\n",
       "      <td>50</td>\n",
       "      <td>0.135756</td>\n",
       "      <td>25.355850</td>\n",
       "      <td>0</td>\n",
       "      <td>12.234987</td>\n",
       "    </tr>\n",
       "  </tbody>\n",
       "</table>\n",
       "</div>"
      ],
      "text/plain": [
       "   id  breath_id   R   C  time_step       u_in  u_out   pressure\n",
       "0   1          1  20  50   0.000000   0.083334      0   5.837492\n",
       "1   2          1  20  50   0.033652  18.383041      0   5.907794\n",
       "2   3          1  20  50   0.067514  22.509277      0   7.876254\n",
       "3   4          1  20  50   0.101542  22.808823      0  11.742872\n",
       "4   5          1  20  50   0.135756  25.355850      0  12.234987"
      ]
     },
     "execution_count": 112,
     "metadata": {},
     "output_type": "execute_result"
    }
   ],
   "source": [
    "train_in.head()"
   ]
  },
  {
   "cell_type": "markdown",
   "metadata": {},
   "source": [
    "### Add integral column"
   ]
  },
  {
   "cell_type": "code",
   "execution_count": 126,
   "metadata": {},
   "outputs": [
    {
     "data": {
      "text/plain": [
       "50300"
      ]
     },
     "execution_count": 126,
     "metadata": {},
     "output_type": "execute_result"
    }
   ],
   "source": [
    "# make an index of breaths\n",
    "train_breath_idx = train_in.breath_id.unique()\n",
    "test_breath_idx = test_in.breath_id.unique()\n",
    "len(test_breath_idx)\n"
   ]
  },
  {
   "cell_type": "code",
   "execution_count": 116,
   "metadata": {},
   "outputs": [
    {
     "name": "stdout",
     "output_type": "stream",
     "text": [
      "(2290968,)\n",
      "Wall time: 20min 35s\n"
     ]
    }
   ],
   "source": [
    "%%time\n",
    "# make integral column for train\n",
    "dt_vals = np.zeros(len(train_in))\n",
    "uin_integ = np.zeros(len(train_in))\n",
    "print(dt_vals.shape)\n",
    "start_idx = 0\n",
    "end_idx = 0\n",
    "\n",
    "for breath in train_breath_idx:\n",
    "    \n",
    "    num_vals = len(train_in.breath_id[train_in.breath_id == breath])\n",
    "    end_idx = start_idx + num_vals\n",
    "    u_in_vals = train_in.u_in[train_in.breath_id == breath]\n",
    "    time_vals = train_in.time_step[train_in.breath_id == breath]\n",
    "    #print('one')\n",
    "    dt = np.zeros(num_vals)\n",
    "    dt[0] = time_vals.iloc[1] - time_vals.iloc[0]\n",
    "    integ = np.zeros(num_vals)\n",
    "    #integ[0] = 0  # start with avg starting value of pressure?\n",
    "    #print('two')\n",
    "    #r = id1.R.iloc[0]\n",
    "    #c = id1.C.iloc[0]\n",
    "    for i in range(num_vals-1):\n",
    "        dt[i+1] = time_vals.iloc[i+1] - time_vals.iloc[i]\n",
    "        integ[i+1] = integ[i] + u_in_vals.iloc[i]*dt[i]#(id1.dt.iloc[0]*id1.lag.iloc[i+1] * (c/r)) *-.3*np.log(id1.time_step.iloc[i+1]*1)\n",
    "    #print('three')\n",
    "    dt_vals[start_idx:end_idx] = dt\n",
    "    uin_integ[start_idx:end_idx] = integ\n",
    "    start_idx = end_idx\n",
    "    "
   ]
  },
  {
   "cell_type": "code",
   "execution_count": 117,
   "metadata": {},
   "outputs": [],
   "source": [
    "np.save('dt_vals',dt_vals)\n",
    "np.save('uin_integ',uin_integ)"
   ]
  },
  {
   "cell_type": "code",
   "execution_count": 122,
   "metadata": {},
   "outputs": [
    {
     "data": {
      "text/plain": [
       "[<matplotlib.lines.Line2D at 0xabdf580>]"
      ]
     },
     "execution_count": 122,
     "metadata": {},
     "output_type": "execute_result"
    },
    {
     "data": {
      "image/png": "[encoded data removed]",
      "text/plain": [
       "<Figure size 432x288 with 1 Axes>"
      ]
     },
     "metadata": {},
     "output_type": "display_data"
    }
   ],
   "source": [
    "# dt seems one index point off\n",
    "plt.plot(dt_vals[0:400])\n",
    "plt.plot(uin_integ[0:200])"
   ]
  },
  {
   "cell_type": "code",
   "execution_count": 124,
   "metadata": {},
   "outputs": [
    {
     "name": "stderr",
     "output_type": "stream",
     "text": [
      "C:\\Users\\Jon\\AppData\\Local\\Temp/ipykernel_12104/617635610.py:1: SettingWithCopyWarning: \n",
      "A value is trying to be set on a copy of a slice from a DataFrame.\n",
      "Try using .loc[row_indexer,col_indexer] = value instead\n",
      "\n",
      "See the caveats in the documentation: https://pandas.pydata.org/pandas-docs/stable/user_guide/indexing.html#returning-a-view-versus-a-copy\n",
      "  train_in['dt'] = dt_vals\n",
      "C:\\Users\\Jon\\AppData\\Local\\Temp/ipykernel_12104/617635610.py:2: SettingWithCopyWarning: \n",
      "A value is trying to be set on a copy of a slice from a DataFrame.\n",
      "Try using .loc[row_indexer,col_indexer] = value instead\n",
      "\n",
      "See the caveats in the documentation: https://pandas.pydata.org/pandas-docs/stable/user_guide/indexing.html#returning-a-view-versus-a-copy\n",
      "  train_in['u_in_integ'] = uin_integ\n"
     ]
    }
   ],
   "source": [
    "train_in['dt'] = dt_vals\n",
    "train_in['u_in_integ'] = uin_integ"
   ]
  },
  {
   "cell_type": "code",
   "execution_count": 125,
   "metadata": {},
   "outputs": [
    {
     "data": {
      "text/html": [
       "<div>\n",
       "<style scoped>\n",
       "    .dataframe tbody tr th:only-of-type {\n",
       "        vertical-align: middle;\n",
       "    }\n",
       "\n",
       "    .dataframe tbody tr th {\n",
       "        vertical-align: top;\n",
       "    }\n",
       "\n",
       "    .dataframe thead th {\n",
       "        text-align: right;\n",
       "    }\n",
       "</style>\n",
       "<table border=\"1\" class=\"dataframe\">\n",
       "  <thead>\n",
       "    <tr style=\"text-align: right;\">\n",
       "      <th></th>\n",
       "      <th>id</th>\n",
       "      <th>breath_id</th>\n",
       "      <th>R</th>\n",
       "      <th>C</th>\n",
       "      <th>time_step</th>\n",
       "      <th>u_in</th>\n",
       "      <th>u_out</th>\n",
       "      <th>pressure</th>\n",
       "      <th>dt</th>\n",
       "      <th>u_in_integ</th>\n",
       "    </tr>\n",
       "  </thead>\n",
       "  <tbody>\n",
       "    <tr>\n",
       "      <th>0</th>\n",
       "      <td>1</td>\n",
       "      <td>1</td>\n",
       "      <td>20</td>\n",
       "      <td>50</td>\n",
       "      <td>0.000000</td>\n",
       "      <td>0.083334</td>\n",
       "      <td>0</td>\n",
       "      <td>5.837492</td>\n",
       "      <td>0.033652</td>\n",
       "      <td>0.000000</td>\n",
       "    </tr>\n",
       "    <tr>\n",
       "      <th>1</th>\n",
       "      <td>2</td>\n",
       "      <td>1</td>\n",
       "      <td>20</td>\n",
       "      <td>50</td>\n",
       "      <td>0.033652</td>\n",
       "      <td>18.383041</td>\n",
       "      <td>0</td>\n",
       "      <td>5.907794</td>\n",
       "      <td>0.033652</td>\n",
       "      <td>0.002804</td>\n",
       "    </tr>\n",
       "    <tr>\n",
       "      <th>2</th>\n",
       "      <td>3</td>\n",
       "      <td>1</td>\n",
       "      <td>20</td>\n",
       "      <td>50</td>\n",
       "      <td>0.067514</td>\n",
       "      <td>22.509277</td>\n",
       "      <td>0</td>\n",
       "      <td>7.876254</td>\n",
       "      <td>0.033862</td>\n",
       "      <td>0.621436</td>\n",
       "    </tr>\n",
       "    <tr>\n",
       "      <th>3</th>\n",
       "      <td>4</td>\n",
       "      <td>1</td>\n",
       "      <td>20</td>\n",
       "      <td>50</td>\n",
       "      <td>0.101542</td>\n",
       "      <td>22.808823</td>\n",
       "      <td>0</td>\n",
       "      <td>11.742872</td>\n",
       "      <td>0.034028</td>\n",
       "      <td>1.383648</td>\n",
       "    </tr>\n",
       "    <tr>\n",
       "      <th>4</th>\n",
       "      <td>5</td>\n",
       "      <td>1</td>\n",
       "      <td>20</td>\n",
       "      <td>50</td>\n",
       "      <td>0.135756</td>\n",
       "      <td>25.355850</td>\n",
       "      <td>0</td>\n",
       "      <td>12.234987</td>\n",
       "      <td>0.034213</td>\n",
       "      <td>2.159782</td>\n",
       "    </tr>\n",
       "  </tbody>\n",
       "</table>\n",
       "</div>"
      ],
      "text/plain": [
       "   id  breath_id   R   C  time_step       u_in  u_out   pressure        dt  \\\n",
       "0   1          1  20  50   0.000000   0.083334      0   5.837492  0.033652   \n",
       "1   2          1  20  50   0.033652  18.383041      0   5.907794  0.033652   \n",
       "2   3          1  20  50   0.067514  22.509277      0   7.876254  0.033862   \n",
       "3   4          1  20  50   0.101542  22.808823      0  11.742872  0.034028   \n",
       "4   5          1  20  50   0.135756  25.355850      0  12.234987  0.034213   \n",
       "\n",
       "   u_in_integ  \n",
       "0    0.000000  \n",
       "1    0.002804  \n",
       "2    0.621436  \n",
       "3    1.383648  \n",
       "4    2.159782  "
      ]
     },
     "execution_count": 125,
     "metadata": {},
     "output_type": "execute_result"
    }
   ],
   "source": [
    "train_in.head()"
   ]
  },
  {
   "cell_type": "code",
   "execution_count": 135,
   "metadata": {},
   "outputs": [
    {
     "name": "stdout",
     "output_type": "stream",
     "text": [
      "Wall time: 8min 48s\n"
     ]
    }
   ],
   "source": [
    "%%time\n",
    "# make integral column for test\n",
    "# should make a function that I can send either df to...\n",
    "dt_vals_test = np.zeros(len(test_in))\n",
    "u_in_integ_test = np.zeros(len(test_in))\n",
    "u_in_slope_test = np.zeros(len(test_in))\n",
    "\n",
    "start_idx = 0\n",
    "end_idx = 0\n",
    "\n",
    "for breath in test_breath_idx:\n",
    "    \n",
    "    num_vals = len(test_in.breath_id[test_in.breath_id == breath])\n",
    "    end_idx = start_idx + num_vals\n",
    "    \n",
    "    u_in_vals = test_in.u_in[test_in.breath_id == breath]\n",
    "    time_vals = test_in.time_step[test_in.breath_id == breath]\n",
    "    \n",
    "    #print('one')\n",
    "    \n",
    "    # create numpy arrays for derivative and integral values\n",
    "    dt = np.zeros(num_vals)\n",
    "    du_in = np.zeros(num_vals)\n",
    "    integ = np.zeros(num_vals)\n",
    "   \n",
    "    # fill in first value of arrays (post)\n",
    "    dt[0] = time_vals.iloc[1] - time_vals.iloc[0]\n",
    "    du_in[0] = 0  # extrapolate?\n",
    "    integ[0] = 0  # start with avg starting value of pressure?\n",
    "    \n",
    "    #print('two')\n",
    "    # loop over breaths\n",
    "    for i in range(num_vals-1):\n",
    "        dt[i+1] = time_vals.iloc[i+1] - time_vals.iloc[i]\n",
    "        du_in[i+1] = u_in_vals.iloc[i+1] - u_in_vals.iloc[i] \n",
    "        integ[i+1] = integ[i] + u_in_vals.iloc[i]*dt[i]#(id1.dt.iloc[0]*id1.lag.iloc[i+1] * (c/r)) *-.3*np.log(id1.time_step.iloc[i+1]*1)\n",
    "    \n",
    "    #print('three')\n",
    "\n",
    "    \n",
    "    dt_vals_test[start_idx:end_idx] = dt\n",
    "    u_in_slope_test[start_idx:end_idx] = du_in\n",
    "    u_in_integ_test[start_idx:end_idx] = integ\n",
    "    \n",
    "    start_idx = end_idx\n",
    "    \n",
    "    #r = id1.R.iloc[0]\n",
    "    #c = id1.C.iloc[0]\n",
    "    "
   ]
  },
  {
   "cell_type": "code",
   "execution_count": 138,
   "metadata": {},
   "outputs": [
    {
     "name": "stdout",
     "output_type": "stream",
     "text": [
      "Wall time: 0 ns\n"
     ]
    }
   ],
   "source": [
    "%%time\n",
    "# should make a function that creates the derivative and integral features\n",
    "# can send either test or train to...\n",
    "\n",
    "def make_deriv_int_features(df,prefix='train'):\n",
    "\n",
    "    dt_vals = np.zeros(len(df))\n",
    "    u_in_integ = np.zeros(len(df))\n",
    "    u_in_slope = np.zeros(len(df))\n",
    "\n",
    "    start_idx = 0\n",
    "    end_idx = 0\n",
    "    \n",
    "    # make an index of breaths\n",
    "    breath_idx = df.breath_id.unique()\n",
    "\n",
    "    for breath in breath_idx:\n",
    "    \n",
    "        num_vals = len(df.breath_id[df.breath_id == breath])\n",
    "        end_idx = start_idx + num_vals\n",
    "\n",
    "        u_in_vals = df.u_in[df.breath_id == breath]\n",
    "        time_vals = df.time_step[df.breath_id == breath]\n",
    "    \n",
    "        #print('one')\n",
    "\n",
    "        # create numpy arrays for derivative and integral values\n",
    "        dt = np.zeros(num_vals)\n",
    "        du_in = np.zeros(num_vals)\n",
    "        integ = np.zeros(num_vals)\n",
    "   \n",
    "        # fill in first value of arrays (post)\n",
    "        dt[0] = time_vals.iloc[1] - time_vals.iloc[0]\n",
    "        du_in[0] = 0  # extrapolate?\n",
    "        integ[0] = 0  # start with avg starting value of pressure?\n",
    "    \n",
    "        #print('two')\n",
    "        # loop over breaths\n",
    "        for i in range(num_vals-1):\n",
    "            dt[i+1] = time_vals.iloc[i+1] - time_vals.iloc[i]\n",
    "            du_in[i+1] = u_in_vals.iloc[i+1] - u_in_vals.iloc[i] \n",
    "            integ[i+1] = integ[i] + u_in_vals.iloc[i]*dt[i]#(id1.dt.iloc[0]*id1.lag.iloc[i+1] * (c/r)) *-.3*np.log(id1.time_step.iloc[i+1]*1)\n",
    "    \n",
    "        #print('three')\n",
    "        dt_vals[start_idx:end_idx] = dt\n",
    "        u_in_slope[start_idx:end_idx] = du_in\n",
    "        u_in_integ[start_idx:end_idx] = integ\n",
    "\n",
    "        start_idx = end_idx\n",
    "    \n",
    "    \n",
    "    df['dt'] = dt_vals\n",
    "    df['du_in'] = u_in_slope\n",
    "    df['u_in_integ'] = u_in_integ\n",
    "    \n",
    "    #np.save('dt_vals_'+label,dt_vals)\n",
    "    #np.save('u_in_slope_'+label,u_in_slope)\n",
    "    #np.save('u_in_integ_'+label,u_in_integ)\n",
    "    \n",
    "    #r = id1.R.iloc[0]\n",
    "    #c = id1.C.iloc[0]\n",
    "    "
   ]
  },
  {
   "cell_type": "code",
   "execution_count": 164,
   "metadata": {},
   "outputs": [
    {
     "name": "stderr",
     "output_type": "stream",
     "text": [
      "<timed exec>:51: SettingWithCopyWarning: \n",
      "A value is trying to be set on a copy of a slice from a DataFrame.\n",
      "Try using .loc[row_indexer,col_indexer] = value instead\n",
      "\n",
      "See the caveats in the documentation: https://pandas.pydata.org/pandas-docs/stable/user_guide/indexing.html#returning-a-view-versus-a-copy\n",
      "<timed exec>:52: SettingWithCopyWarning: \n",
      "A value is trying to be set on a copy of a slice from a DataFrame.\n",
      "Try using .loc[row_indexer,col_indexer] = value instead\n",
      "\n",
      "See the caveats in the documentation: https://pandas.pydata.org/pandas-docs/stable/user_guide/indexing.html#returning-a-view-versus-a-copy\n",
      "<timed exec>:53: SettingWithCopyWarning: \n",
      "A value is trying to be set on a copy of a slice from a DataFrame.\n",
      "Try using .loc[row_indexer,col_indexer] = value instead\n",
      "\n",
      "See the caveats in the documentation: https://pandas.pydata.org/pandas-docs/stable/user_guide/indexing.html#returning-a-view-versus-a-copy\n"
     ]
    },
    {
     "ename": "TypeError",
     "evalue": "_save_dispatcher() missing 2 required positional arguments: 'file' and 'arr'",
     "output_type": "error",
     "traceback": [
      "\u001b[1;31m---------------------------------------------------------------------------\u001b[0m",
      "\u001b[1;31mTypeError\u001b[0m                                 Traceback (most recent call last)",
      "\u001b[1;32m~\\AppData\\Local\\Temp/ipykernel_12104/2094661484.py\u001b[0m in \u001b[0;36m<module>\u001b[1;34m\u001b[0m\n\u001b[0;32m      1\u001b[0m \u001b[1;31m#make_deriv_int_features(test_in)\u001b[0m\u001b[1;33m\u001b[0m\u001b[1;33m\u001b[0m\u001b[1;33m\u001b[0m\u001b[0m\n\u001b[1;32m----> 2\u001b[1;33m \u001b[0mmake_deriv_int_features\u001b[0m\u001b[1;33m(\u001b[0m\u001b[0mtest_in\u001b[0m\u001b[1;33m)\u001b[0m\u001b[1;33m\u001b[0m\u001b[1;33m\u001b[0m\u001b[0m\n\u001b[0m",
      "\u001b[1;32m<timed exec>\u001b[0m in \u001b[0;36mmake_deriv_int_features\u001b[1;34m(df, prefix)\u001b[0m\n",
      "\u001b[1;32m<__array_function__ internals>\u001b[0m in \u001b[0;36msave\u001b[1;34m(*args, **kwargs)\u001b[0m\n",
      "\u001b[1;31mTypeError\u001b[0m: _save_dispatcher() missing 2 required positional arguments: 'file' and 'arr'"
     ]
    }
   ],
   "source": [
    "#make_deriv_int_features(test_in)\n",
    "make_deriv_int_features(test_in)\n"
   ]
  },
  {
   "cell_type": "code",
   "execution_count": 171,
   "metadata": {},
   "outputs": [
    {
     "data": {
      "text/html": [
       "<div>\n",
       "<style scoped>\n",
       "    .dataframe tbody tr th:only-of-type {\n",
       "        vertical-align: middle;\n",
       "    }\n",
       "\n",
       "    .dataframe tbody tr th {\n",
       "        vertical-align: top;\n",
       "    }\n",
       "\n",
       "    .dataframe thead th {\n",
       "        text-align: right;\n",
       "    }\n",
       "</style>\n",
       "<table border=\"1\" class=\"dataframe\">\n",
       "  <thead>\n",
       "    <tr style=\"text-align: right;\">\n",
       "      <th></th>\n",
       "      <th>id</th>\n",
       "      <th>breath_id</th>\n",
       "      <th>R</th>\n",
       "      <th>C</th>\n",
       "      <th>time_step</th>\n",
       "      <th>u_in</th>\n",
       "      <th>u_out</th>\n",
       "      <th>dt</th>\n",
       "      <th>du_in</th>\n",
       "      <th>u_in_integ</th>\n",
       "    </tr>\n",
       "  </thead>\n",
       "  <tbody>\n",
       "    <tr>\n",
       "      <th>0</th>\n",
       "      <td>1</td>\n",
       "      <td>0</td>\n",
       "      <td>5</td>\n",
       "      <td>20</td>\n",
       "      <td>0.000000</td>\n",
       "      <td>0.000000</td>\n",
       "      <td>0</td>\n",
       "      <td>0.031904</td>\n",
       "      <td>0.000000</td>\n",
       "      <td>0.000000</td>\n",
       "    </tr>\n",
       "    <tr>\n",
       "      <th>1</th>\n",
       "      <td>2</td>\n",
       "      <td>0</td>\n",
       "      <td>5</td>\n",
       "      <td>20</td>\n",
       "      <td>0.031904</td>\n",
       "      <td>7.515046</td>\n",
       "      <td>0</td>\n",
       "      <td>0.031904</td>\n",
       "      <td>7.515046</td>\n",
       "      <td>0.000000</td>\n",
       "    </tr>\n",
       "    <tr>\n",
       "      <th>2</th>\n",
       "      <td>3</td>\n",
       "      <td>0</td>\n",
       "      <td>5</td>\n",
       "      <td>20</td>\n",
       "      <td>0.063827</td>\n",
       "      <td>14.651675</td>\n",
       "      <td>0</td>\n",
       "      <td>0.031924</td>\n",
       "      <td>7.136630</td>\n",
       "      <td>0.239758</td>\n",
       "    </tr>\n",
       "    <tr>\n",
       "      <th>3</th>\n",
       "      <td>4</td>\n",
       "      <td>0</td>\n",
       "      <td>5</td>\n",
       "      <td>20</td>\n",
       "      <td>0.095751</td>\n",
       "      <td>21.230610</td>\n",
       "      <td>0</td>\n",
       "      <td>0.031924</td>\n",
       "      <td>6.578935</td>\n",
       "      <td>0.707491</td>\n",
       "    </tr>\n",
       "    <tr>\n",
       "      <th>4</th>\n",
       "      <td>5</td>\n",
       "      <td>0</td>\n",
       "      <td>5</td>\n",
       "      <td>20</td>\n",
       "      <td>0.127644</td>\n",
       "      <td>26.320955</td>\n",
       "      <td>0</td>\n",
       "      <td>0.031893</td>\n",
       "      <td>5.090345</td>\n",
       "      <td>1.385252</td>\n",
       "    </tr>\n",
       "    <tr>\n",
       "      <th>...</th>\n",
       "      <td>...</td>\n",
       "      <td>...</td>\n",
       "      <td>...</td>\n",
       "      <td>...</td>\n",
       "      <td>...</td>\n",
       "      <td>...</td>\n",
       "      <td>...</td>\n",
       "      <td>...</td>\n",
       "      <td>...</td>\n",
       "      <td>...</td>\n",
       "    </tr>\n",
       "    <tr>\n",
       "      <th>4023945</th>\n",
       "      <td>4023946</td>\n",
       "      <td>125748</td>\n",
       "      <td>20</td>\n",
       "      <td>10</td>\n",
       "      <td>0.842145</td>\n",
       "      <td>0.000000</td>\n",
       "      <td>0</td>\n",
       "      <td>0.033553</td>\n",
       "      <td>0.000000</td>\n",
       "      <td>2.302126</td>\n",
       "    </tr>\n",
       "    <tr>\n",
       "      <th>4023946</th>\n",
       "      <td>4023947</td>\n",
       "      <td>125748</td>\n",
       "      <td>20</td>\n",
       "      <td>10</td>\n",
       "      <td>0.875648</td>\n",
       "      <td>0.000000</td>\n",
       "      <td>0</td>\n",
       "      <td>0.033503</td>\n",
       "      <td>0.000000</td>\n",
       "      <td>2.302126</td>\n",
       "    </tr>\n",
       "    <tr>\n",
       "      <th>4023947</th>\n",
       "      <td>4023948</td>\n",
       "      <td>125748</td>\n",
       "      <td>20</td>\n",
       "      <td>10</td>\n",
       "      <td>0.909185</td>\n",
       "      <td>0.121375</td>\n",
       "      <td>0</td>\n",
       "      <td>0.033537</td>\n",
       "      <td>0.121375</td>\n",
       "      <td>2.302126</td>\n",
       "    </tr>\n",
       "    <tr>\n",
       "      <th>4023948</th>\n",
       "      <td>4023949</td>\n",
       "      <td>125748</td>\n",
       "      <td>20</td>\n",
       "      <td>10</td>\n",
       "      <td>0.943148</td>\n",
       "      <td>0.000000</td>\n",
       "      <td>0</td>\n",
       "      <td>0.033962</td>\n",
       "      <td>-0.121375</td>\n",
       "      <td>2.306197</td>\n",
       "    </tr>\n",
       "    <tr>\n",
       "      <th>4023949</th>\n",
       "      <td>4023950</td>\n",
       "      <td>125748</td>\n",
       "      <td>20</td>\n",
       "      <td>10</td>\n",
       "      <td>0.976815</td>\n",
       "      <td>0.000000</td>\n",
       "      <td>0</td>\n",
       "      <td>0.033667</td>\n",
       "      <td>0.000000</td>\n",
       "      <td>2.306197</td>\n",
       "    </tr>\n",
       "  </tbody>\n",
       "</table>\n",
       "<p>1527565 rows × 10 columns</p>\n",
       "</div>"
      ],
      "text/plain": [
       "              id  breath_id   R   C  time_step       u_in  u_out        dt  \\\n",
       "0              1          0   5  20   0.000000   0.000000      0  0.031904   \n",
       "1              2          0   5  20   0.031904   7.515046      0  0.031904   \n",
       "2              3          0   5  20   0.063827  14.651675      0  0.031924   \n",
       "3              4          0   5  20   0.095751  21.230610      0  0.031924   \n",
       "4              5          0   5  20   0.127644  26.320955      0  0.031893   \n",
       "...          ...        ...  ..  ..        ...        ...    ...       ...   \n",
       "4023945  4023946     125748  20  10   0.842145   0.000000      0  0.033553   \n",
       "4023946  4023947     125748  20  10   0.875648   0.000000      0  0.033503   \n",
       "4023947  4023948     125748  20  10   0.909185   0.121375      0  0.033537   \n",
       "4023948  4023949     125748  20  10   0.943148   0.000000      0  0.033962   \n",
       "4023949  4023950     125748  20  10   0.976815   0.000000      0  0.033667   \n",
       "\n",
       "            du_in  u_in_integ  \n",
       "0        0.000000    0.000000  \n",
       "1        7.515046    0.000000  \n",
       "2        7.136630    0.239758  \n",
       "3        6.578935    0.707491  \n",
       "4        5.090345    1.385252  \n",
       "...           ...         ...  \n",
       "4023945  0.000000    2.302126  \n",
       "4023946  0.000000    2.302126  \n",
       "4023947  0.121375    2.302126  \n",
       "4023948 -0.121375    2.306197  \n",
       "4023949  0.000000    2.306197  \n",
       "\n",
       "[1527565 rows x 10 columns]"
      ]
     },
     "execution_count": 171,
     "metadata": {},
     "output_type": "execute_result"
    }
   ],
   "source": [
    "test_in"
   ]
  },
  {
   "cell_type": "code",
   "execution_count": 177,
   "metadata": {},
   "outputs": [
    {
     "data": {
      "text/plain": [
       "array([     0,      8,     11, ..., 125746, 125747, 125748])"
      ]
     },
     "execution_count": 177,
     "metadata": {},
     "output_type": "execute_result"
    }
   ],
   "source": [
    "test_breath_idx"
   ]
  },
  {
   "cell_type": "code",
   "execution_count": 179,
   "metadata": {},
   "outputs": [
    {
     "data": {
      "text/plain": [
       "<matplotlib.legend.Legend at 0x5c718b20>"
      ]
     },
     "execution_count": 179,
     "metadata": {},
     "output_type": "execute_result"
    },
    {
     "data": {
      "image/png": "[encoded data removed]",
      "text/plain": [
       "<Figure size 432x288 with 1 Axes>"
      ]
     },
     "metadata": {},
     "output_type": "display_data"
    }
   ],
   "source": [
    "b1 = get_breath(test_in,0)\n",
    "plt.plot(b1.u_in_integ,label='u_in integ')\n",
    "plt.plot(b1.du_in,label = 'u_in slope')\n",
    "plt.plot(b1.u_in, label='u_in')\n",
    "#plt.plot(b1.pressure,label='pressure')\n",
    "plt.legend()"
   ]
  },
  {
   "cell_type": "code",
   "execution_count": 163,
   "metadata": {},
   "outputs": [
    {
     "data": {
      "text/html": [
       "<div>\n",
       "<style scoped>\n",
       "    .dataframe tbody tr th:only-of-type {\n",
       "        vertical-align: middle;\n",
       "    }\n",
       "\n",
       "    .dataframe tbody tr th {\n",
       "        vertical-align: top;\n",
       "    }\n",
       "\n",
       "    .dataframe thead th {\n",
       "        text-align: right;\n",
       "    }\n",
       "</style>\n",
       "<table border=\"1\" class=\"dataframe\">\n",
       "  <thead>\n",
       "    <tr style=\"text-align: right;\">\n",
       "      <th></th>\n",
       "      <th>id</th>\n",
       "      <th>breath_id</th>\n",
       "      <th>R</th>\n",
       "      <th>C</th>\n",
       "      <th>time_step</th>\n",
       "      <th>u_in</th>\n",
       "      <th>u_out</th>\n",
       "    </tr>\n",
       "  </thead>\n",
       "  <tbody>\n",
       "    <tr>\n",
       "      <th>0</th>\n",
       "      <td>1</td>\n",
       "      <td>0</td>\n",
       "      <td>5</td>\n",
       "      <td>20</td>\n",
       "      <td>0.000000</td>\n",
       "      <td>0.000000</td>\n",
       "      <td>0</td>\n",
       "    </tr>\n",
       "    <tr>\n",
       "      <th>1</th>\n",
       "      <td>2</td>\n",
       "      <td>0</td>\n",
       "      <td>5</td>\n",
       "      <td>20</td>\n",
       "      <td>0.031904</td>\n",
       "      <td>7.515046</td>\n",
       "      <td>0</td>\n",
       "    </tr>\n",
       "    <tr>\n",
       "      <th>2</th>\n",
       "      <td>3</td>\n",
       "      <td>0</td>\n",
       "      <td>5</td>\n",
       "      <td>20</td>\n",
       "      <td>0.063827</td>\n",
       "      <td>14.651675</td>\n",
       "      <td>0</td>\n",
       "    </tr>\n",
       "    <tr>\n",
       "      <th>3</th>\n",
       "      <td>4</td>\n",
       "      <td>0</td>\n",
       "      <td>5</td>\n",
       "      <td>20</td>\n",
       "      <td>0.095751</td>\n",
       "      <td>21.230610</td>\n",
       "      <td>0</td>\n",
       "    </tr>\n",
       "    <tr>\n",
       "      <th>4</th>\n",
       "      <td>5</td>\n",
       "      <td>0</td>\n",
       "      <td>5</td>\n",
       "      <td>20</td>\n",
       "      <td>0.127644</td>\n",
       "      <td>26.320955</td>\n",
       "      <td>0</td>\n",
       "    </tr>\n",
       "  </tbody>\n",
       "</table>\n",
       "</div>"
      ],
      "text/plain": [
       "   id  breath_id  R   C  time_step       u_in  u_out\n",
       "0   1          0  5  20   0.000000   0.000000      0\n",
       "1   2          0  5  20   0.031904   7.515046      0\n",
       "2   3          0  5  20   0.063827  14.651675      0\n",
       "3   4          0  5  20   0.095751  21.230610      0\n",
       "4   5          0  5  20   0.127644  26.320955      0"
      ]
     },
     "execution_count": 163,
     "metadata": {},
     "output_type": "execute_result"
    }
   ],
   "source": [
    "test_in.head()"
   ]
  },
  {
   "cell_type": "markdown",
   "metadata": {},
   "source": [
    "# Model"
   ]
  },
  {
   "cell_type": "code",
   "execution_count": 180,
   "metadata": {
    "execution": {
     "iopub.execute_input": "2021-10-17T16:21:23.185212Z",
     "iopub.status.busy": "2021-10-17T16:21:23.184954Z",
     "iopub.status.idle": "2021-10-17T16:21:23.195503Z",
     "shell.execute_reply": "2021-10-17T16:21:23.194612Z",
     "shell.execute_reply.started": "2021-10-17T16:21:23.185186Z"
    }
   },
   "outputs": [],
   "source": [
    "from sklearn.metrics import mean_absolute_error  #confusion_matrix, classification_report"
   ]
  },
  {
   "cell_type": "code",
   "execution_count": 181,
   "metadata": {
    "execution": {
     "iopub.execute_input": "2021-10-17T16:21:23.196961Z",
     "iopub.status.busy": "2021-10-17T16:21:23.196707Z",
     "iopub.status.idle": "2021-10-17T16:21:23.700236Z",
     "shell.execute_reply": "2021-10-17T16:21:23.699536Z",
     "shell.execute_reply.started": "2021-10-17T16:21:23.196921Z"
    }
   },
   "outputs": [
    {
     "name": "stderr",
     "output_type": "stream",
     "text": [
      "D:\\Anaconda3\\lib\\site-packages\\pandas\\core\\frame.py:4906: SettingWithCopyWarning: \n",
      "A value is trying to be set on a copy of a slice from a DataFrame\n",
      "\n",
      "See the caveats in the documentation: https://pandas.pydata.org/pandas-docs/stable/user_guide/indexing.html#returning-a-view-versus-a-copy\n",
      "  return super().drop(\n"
     ]
    }
   ],
   "source": [
    "# Split data - after all analysis is done\n",
    "from sklearn.model_selection import train_test_split\n",
    "\n",
    "train_in.drop(columns = ['pressure','id'], inplace = True)\n",
    "#test = test.drop(columns = 'id', inplace = True)\n",
    "\n",
    "X_train, X_valid, y_train, y_valid = train_test_split(train_in, y_in, train_size=0.8, test_size=0.2,\n",
    "                                                      random_state=12)\n",
    "X_test_in = test_in.drop(columns=['id'],inplace=False)"
   ]
  },
  {
   "cell_type": "code",
   "execution_count": 182,
   "metadata": {
    "execution": {
     "iopub.execute_input": "2021-10-17T16:21:23.702205Z",
     "iopub.status.busy": "2021-10-17T16:21:23.701680Z",
     "iopub.status.idle": "2021-10-17T16:21:23.706623Z",
     "shell.execute_reply": "2021-10-17T16:21:23.705533Z",
     "shell.execute_reply.started": "2021-10-17T16:21:23.702160Z"
    }
   },
   "outputs": [
    {
     "data": {
      "text/html": [
       "<div>\n",
       "<style scoped>\n",
       "    .dataframe tbody tr th:only-of-type {\n",
       "        vertical-align: middle;\n",
       "    }\n",
       "\n",
       "    .dataframe tbody tr th {\n",
       "        vertical-align: top;\n",
       "    }\n",
       "\n",
       "    .dataframe thead th {\n",
       "        text-align: right;\n",
       "    }\n",
       "</style>\n",
       "<table border=\"1\" class=\"dataframe\">\n",
       "  <thead>\n",
       "    <tr style=\"text-align: right;\">\n",
       "      <th></th>\n",
       "      <th>breath_id</th>\n",
       "      <th>R</th>\n",
       "      <th>C</th>\n",
       "      <th>time_step</th>\n",
       "      <th>u_in</th>\n",
       "      <th>u_out</th>\n",
       "      <th>dt</th>\n",
       "      <th>du_in</th>\n",
       "      <th>u_in_integ</th>\n",
       "    </tr>\n",
       "  </thead>\n",
       "  <tbody>\n",
       "    <tr>\n",
       "      <th>0</th>\n",
       "      <td>0</td>\n",
       "      <td>5</td>\n",
       "      <td>20</td>\n",
       "      <td>0.000000</td>\n",
       "      <td>0.000000</td>\n",
       "      <td>0</td>\n",
       "      <td>0.031904</td>\n",
       "      <td>0.000000</td>\n",
       "      <td>0.000000</td>\n",
       "    </tr>\n",
       "    <tr>\n",
       "      <th>1</th>\n",
       "      <td>0</td>\n",
       "      <td>5</td>\n",
       "      <td>20</td>\n",
       "      <td>0.031904</td>\n",
       "      <td>7.515046</td>\n",
       "      <td>0</td>\n",
       "      <td>0.031904</td>\n",
       "      <td>7.515046</td>\n",
       "      <td>0.000000</td>\n",
       "    </tr>\n",
       "    <tr>\n",
       "      <th>2</th>\n",
       "      <td>0</td>\n",
       "      <td>5</td>\n",
       "      <td>20</td>\n",
       "      <td>0.063827</td>\n",
       "      <td>14.651675</td>\n",
       "      <td>0</td>\n",
       "      <td>0.031924</td>\n",
       "      <td>7.136630</td>\n",
       "      <td>0.239758</td>\n",
       "    </tr>\n",
       "    <tr>\n",
       "      <th>3</th>\n",
       "      <td>0</td>\n",
       "      <td>5</td>\n",
       "      <td>20</td>\n",
       "      <td>0.095751</td>\n",
       "      <td>21.230610</td>\n",
       "      <td>0</td>\n",
       "      <td>0.031924</td>\n",
       "      <td>6.578935</td>\n",
       "      <td>0.707491</td>\n",
       "    </tr>\n",
       "    <tr>\n",
       "      <th>4</th>\n",
       "      <td>0</td>\n",
       "      <td>5</td>\n",
       "      <td>20</td>\n",
       "      <td>0.127644</td>\n",
       "      <td>26.320955</td>\n",
       "      <td>0</td>\n",
       "      <td>0.031893</td>\n",
       "      <td>5.090345</td>\n",
       "      <td>1.385252</td>\n",
       "    </tr>\n",
       "    <tr>\n",
       "      <th>...</th>\n",
       "      <td>...</td>\n",
       "      <td>...</td>\n",
       "      <td>...</td>\n",
       "      <td>...</td>\n",
       "      <td>...</td>\n",
       "      <td>...</td>\n",
       "      <td>...</td>\n",
       "      <td>...</td>\n",
       "      <td>...</td>\n",
       "    </tr>\n",
       "    <tr>\n",
       "      <th>4023945</th>\n",
       "      <td>125748</td>\n",
       "      <td>20</td>\n",
       "      <td>10</td>\n",
       "      <td>0.842145</td>\n",
       "      <td>0.000000</td>\n",
       "      <td>0</td>\n",
       "      <td>0.033553</td>\n",
       "      <td>0.000000</td>\n",
       "      <td>2.302126</td>\n",
       "    </tr>\n",
       "    <tr>\n",
       "      <th>4023946</th>\n",
       "      <td>125748</td>\n",
       "      <td>20</td>\n",
       "      <td>10</td>\n",
       "      <td>0.875648</td>\n",
       "      <td>0.000000</td>\n",
       "      <td>0</td>\n",
       "      <td>0.033503</td>\n",
       "      <td>0.000000</td>\n",
       "      <td>2.302126</td>\n",
       "    </tr>\n",
       "    <tr>\n",
       "      <th>4023947</th>\n",
       "      <td>125748</td>\n",
       "      <td>20</td>\n",
       "      <td>10</td>\n",
       "      <td>0.909185</td>\n",
       "      <td>0.121375</td>\n",
       "      <td>0</td>\n",
       "      <td>0.033537</td>\n",
       "      <td>0.121375</td>\n",
       "      <td>2.302126</td>\n",
       "    </tr>\n",
       "    <tr>\n",
       "      <th>4023948</th>\n",
       "      <td>125748</td>\n",
       "      <td>20</td>\n",
       "      <td>10</td>\n",
       "      <td>0.943148</td>\n",
       "      <td>0.000000</td>\n",
       "      <td>0</td>\n",
       "      <td>0.033962</td>\n",
       "      <td>-0.121375</td>\n",
       "      <td>2.306197</td>\n",
       "    </tr>\n",
       "    <tr>\n",
       "      <th>4023949</th>\n",
       "      <td>125748</td>\n",
       "      <td>20</td>\n",
       "      <td>10</td>\n",
       "      <td>0.976815</td>\n",
       "      <td>0.000000</td>\n",
       "      <td>0</td>\n",
       "      <td>0.033667</td>\n",
       "      <td>0.000000</td>\n",
       "      <td>2.306197</td>\n",
       "    </tr>\n",
       "  </tbody>\n",
       "</table>\n",
       "<p>1527565 rows × 9 columns</p>\n",
       "</div>"
      ],
      "text/plain": [
       "         breath_id   R   C  time_step       u_in  u_out        dt     du_in  \\\n",
       "0                0   5  20   0.000000   0.000000      0  0.031904  0.000000   \n",
       "1                0   5  20   0.031904   7.515046      0  0.031904  7.515046   \n",
       "2                0   5  20   0.063827  14.651675      0  0.031924  7.136630   \n",
       "3                0   5  20   0.095751  21.230610      0  0.031924  6.578935   \n",
       "4                0   5  20   0.127644  26.320955      0  0.031893  5.090345   \n",
       "...            ...  ..  ..        ...        ...    ...       ...       ...   \n",
       "4023945     125748  20  10   0.842145   0.000000      0  0.033553  0.000000   \n",
       "4023946     125748  20  10   0.875648   0.000000      0  0.033503  0.000000   \n",
       "4023947     125748  20  10   0.909185   0.121375      0  0.033537  0.121375   \n",
       "4023948     125748  20  10   0.943148   0.000000      0  0.033962 -0.121375   \n",
       "4023949     125748  20  10   0.976815   0.000000      0  0.033667  0.000000   \n",
       "\n",
       "         u_in_integ  \n",
       "0          0.000000  \n",
       "1          0.000000  \n",
       "2          0.239758  \n",
       "3          0.707491  \n",
       "4          1.385252  \n",
       "...             ...  \n",
       "4023945    2.302126  \n",
       "4023946    2.302126  \n",
       "4023947    2.302126  \n",
       "4023948    2.306197  \n",
       "4023949    2.306197  \n",
       "\n",
       "[1527565 rows x 9 columns]"
      ]
     },
     "execution_count": 182,
     "metadata": {},
     "output_type": "execute_result"
    }
   ],
   "source": [
    "# Logistic Regression - not working...yet.\n",
    "X_test_in"
   ]
  },
  {
   "cell_type": "code",
   "execution_count": 183,
   "metadata": {},
   "outputs": [
    {
     "ename": "CatBoostError",
     "evalue": "C:/Program Files (x86)/Go Agent/pipelines/BuildMaster/catboost.git/catboost/cuda/cuda_lib/cuda_base.h:281: CUDA error 35: CUDA driver version is insufficient for CUDA runtime version",
     "output_type": "error",
     "traceback": [
      "\u001b[1;31m---------------------------------------------------------------------------\u001b[0m",
      "\u001b[1;31mCatBoostError\u001b[0m                             Traceback (most recent call last)",
      "\u001b[1;32m<timed exec>\u001b[0m in \u001b[0;36m<module>\u001b[1;34m\u001b[0m\n",
      "\u001b[1;32mD:\\Anaconda3\\lib\\site-packages\\catboost\\core.py\u001b[0m in \u001b[0;36mfit\u001b[1;34m(self, X, y, cat_features, sample_weight, baseline, use_best_model, eval_set, verbose, logging_level, plot, column_description, verbose_eval, metric_period, silent, early_stopping_rounds, save_snapshot, snapshot_file, snapshot_interval, init_model, callbacks, log_cout, log_cerr)\u001b[0m\n\u001b[0;32m   5256\u001b[0m             \u001b[0mCatBoostRegressor\u001b[0m\u001b[1;33m.\u001b[0m\u001b[0m_check_is_compatible_loss\u001b[0m\u001b[1;33m(\u001b[0m\u001b[0mparams\u001b[0m\u001b[1;33m[\u001b[0m\u001b[1;34m'loss_function'\u001b[0m\u001b[1;33m]\u001b[0m\u001b[1;33m)\u001b[0m\u001b[1;33m\u001b[0m\u001b[1;33m\u001b[0m\u001b[0m\n\u001b[0;32m   5257\u001b[0m \u001b[1;33m\u001b[0m\u001b[0m\n\u001b[1;32m-> 5258\u001b[1;33m         return self._fit(X, y, cat_features, None, None, None, sample_weight, None, None, None, None, baseline,\n\u001b[0m\u001b[0;32m   5259\u001b[0m                          \u001b[0muse_best_model\u001b[0m\u001b[1;33m,\u001b[0m \u001b[0meval_set\u001b[0m\u001b[1;33m,\u001b[0m \u001b[0mverbose\u001b[0m\u001b[1;33m,\u001b[0m \u001b[0mlogging_level\u001b[0m\u001b[1;33m,\u001b[0m \u001b[0mplot\u001b[0m\u001b[1;33m,\u001b[0m \u001b[0mcolumn_description\u001b[0m\u001b[1;33m,\u001b[0m\u001b[1;33m\u001b[0m\u001b[1;33m\u001b[0m\u001b[0m\n\u001b[0;32m   5260\u001b[0m                          \u001b[0mverbose_eval\u001b[0m\u001b[1;33m,\u001b[0m \u001b[0mmetric_period\u001b[0m\u001b[1;33m,\u001b[0m \u001b[0msilent\u001b[0m\u001b[1;33m,\u001b[0m \u001b[0mearly_stopping_rounds\u001b[0m\u001b[1;33m,\u001b[0m\u001b[1;33m\u001b[0m\u001b[1;33m\u001b[0m\u001b[0m\n",
      "\u001b[1;32mD:\\Anaconda3\\lib\\site-packages\\catboost\\core.py\u001b[0m in \u001b[0;36m_fit\u001b[1;34m(self, X, y, cat_features, text_features, embedding_features, pairs, sample_weight, group_id, group_weight, subgroup_id, pairs_weight, baseline, use_best_model, eval_set, verbose, logging_level, plot, column_description, verbose_eval, metric_period, silent, early_stopping_rounds, save_snapshot, snapshot_file, snapshot_interval, init_model, callbacks, log_cout, log_cerr)\u001b[0m\n\u001b[0;32m   1995\u001b[0m         \u001b[1;32mwith\u001b[0m \u001b[0mlog_fixup\u001b[0m\u001b[1;33m(\u001b[0m\u001b[0mlog_cout\u001b[0m\u001b[1;33m,\u001b[0m \u001b[0mlog_cerr\u001b[0m\u001b[1;33m)\u001b[0m\u001b[1;33m,\u001b[0m\u001b[0;31m \u001b[0m\u001b[0;31m\\\u001b[0m\u001b[1;33m\u001b[0m\u001b[1;33m\u001b[0m\u001b[0m\n\u001b[0;32m   1996\u001b[0m             \u001b[0mplot_wrapper\u001b[0m\u001b[1;33m(\u001b[0m\u001b[0mplot\u001b[0m\u001b[1;33m,\u001b[0m \u001b[1;33m[\u001b[0m\u001b[0m_get_train_dir\u001b[0m\u001b[1;33m(\u001b[0m\u001b[0mself\u001b[0m\u001b[1;33m.\u001b[0m\u001b[0mget_params\u001b[0m\u001b[1;33m(\u001b[0m\u001b[1;33m)\u001b[0m\u001b[1;33m)\u001b[0m\u001b[1;33m]\u001b[0m\u001b[1;33m)\u001b[0m\u001b[1;33m:\u001b[0m\u001b[1;33m\u001b[0m\u001b[1;33m\u001b[0m\u001b[0m\n\u001b[1;32m-> 1997\u001b[1;33m             self._train(\n\u001b[0m\u001b[0;32m   1998\u001b[0m                 \u001b[0mtrain_pool\u001b[0m\u001b[1;33m,\u001b[0m\u001b[1;33m\u001b[0m\u001b[1;33m\u001b[0m\u001b[0m\n\u001b[0;32m   1999\u001b[0m                 \u001b[0mtrain_params\u001b[0m\u001b[1;33m[\u001b[0m\u001b[1;34m\"eval_sets\"\u001b[0m\u001b[1;33m]\u001b[0m\u001b[1;33m,\u001b[0m\u001b[1;33m\u001b[0m\u001b[1;33m\u001b[0m\u001b[0m\n",
      "\u001b[1;32mD:\\Anaconda3\\lib\\site-packages\\catboost\\core.py\u001b[0m in \u001b[0;36m_train\u001b[1;34m(self, train_pool, test_pool, params, allow_clear_pool, init_model)\u001b[0m\n\u001b[0;32m   1426\u001b[0m \u001b[1;33m\u001b[0m\u001b[0m\n\u001b[0;32m   1427\u001b[0m     \u001b[1;32mdef\u001b[0m \u001b[0m_train\u001b[0m\u001b[1;33m(\u001b[0m\u001b[0mself\u001b[0m\u001b[1;33m,\u001b[0m \u001b[0mtrain_pool\u001b[0m\u001b[1;33m,\u001b[0m \u001b[0mtest_pool\u001b[0m\u001b[1;33m,\u001b[0m \u001b[0mparams\u001b[0m\u001b[1;33m,\u001b[0m \u001b[0mallow_clear_pool\u001b[0m\u001b[1;33m,\u001b[0m \u001b[0minit_model\u001b[0m\u001b[1;33m)\u001b[0m\u001b[1;33m:\u001b[0m\u001b[1;33m\u001b[0m\u001b[1;33m\u001b[0m\u001b[0m\n\u001b[1;32m-> 1428\u001b[1;33m         \u001b[0mself\u001b[0m\u001b[1;33m.\u001b[0m\u001b[0m_object\u001b[0m\u001b[1;33m.\u001b[0m\u001b[0m_train\u001b[0m\u001b[1;33m(\u001b[0m\u001b[0mtrain_pool\u001b[0m\u001b[1;33m,\u001b[0m \u001b[0mtest_pool\u001b[0m\u001b[1;33m,\u001b[0m \u001b[0mparams\u001b[0m\u001b[1;33m,\u001b[0m \u001b[0mallow_clear_pool\u001b[0m\u001b[1;33m,\u001b[0m \u001b[0minit_model\u001b[0m\u001b[1;33m.\u001b[0m\u001b[0m_object\u001b[0m \u001b[1;32mif\u001b[0m \u001b[0minit_model\u001b[0m \u001b[1;32melse\u001b[0m \u001b[1;32mNone\u001b[0m\u001b[1;33m)\u001b[0m\u001b[1;33m\u001b[0m\u001b[1;33m\u001b[0m\u001b[0m\n\u001b[0m\u001b[0;32m   1429\u001b[0m         \u001b[0mself\u001b[0m\u001b[1;33m.\u001b[0m\u001b[0m_set_trained_model_attributes\u001b[0m\u001b[1;33m(\u001b[0m\u001b[1;33m)\u001b[0m\u001b[1;33m\u001b[0m\u001b[1;33m\u001b[0m\u001b[0m\n\u001b[0;32m   1430\u001b[0m \u001b[1;33m\u001b[0m\u001b[0m\n",
      "\u001b[1;32m_catboost.pyx\u001b[0m in \u001b[0;36m_catboost._CatBoost._train\u001b[1;34m()\u001b[0m\n",
      "\u001b[1;32m_catboost.pyx\u001b[0m in \u001b[0;36m_catboost._CatBoost._train\u001b[1;34m()\u001b[0m\n",
      "\u001b[1;31mCatBoostError\u001b[0m: C:/Program Files (x86)/Go Agent/pipelines/BuildMaster/catboost.git/catboost/cuda/cuda_lib/cuda_base.h:281: CUDA error 35: CUDA driver version is insufficient for CUDA runtime version"
     ]
    }
   ],
   "source": [
    "%%time\n",
    "from catboost import CatBoostRegressor\n",
    "# loop for manual type cv\n",
    "#preds = []\n",
    "for i in np.arange(1,2):\n",
    "#     X_train, X_valid, y_train, y_valid = train_test_split(train, y, train_size=0.8, test_size=0.2,\n",
    "#                                                       random_state=i)\n",
    "    model_cat = CatBoostRegressor(loss_function=\"MAE\",\n",
    "                               eval_metric=\"MAE\",\n",
    "                               task_type=\"GPU\",\n",
    "                               learning_rate=.6,\n",
    "                               iterations=400,\n",
    "                               l2_leaf_reg=50,\n",
    "                               random_seed=12,\n",
    "                               od_type=\"Iter\",\n",
    "                               depth=5,\n",
    "                               #early_stopping_rounds=6500,\n",
    "                               border_count=64,\n",
    "                               verbose=False\n",
    "                              )\n",
    "    model_cat.fit(X_train,y_train)\n",
    "    pred_cat = model_cat.predict(X_valid)\n",
    "    score_cat = mean_absolute_error(y_valid,pred_cat)\n",
    "    #print(f'iters={i}, lr={j}, CatBoost MAE Score: {score_cat}')\n",
    "    print(f'CatBoost MAE Score: {score_cat}')\n",
    "    #preds.append(model_cat.predict_proba(X_test)[:,1])\n",
    "    # 400, .6 = 3.976\n"
   ]
  },
  {
   "cell_type": "markdown",
   "metadata": {},
   "source": [
    "### Final Model"
   ]
  },
  {
   "cell_type": "code",
   "execution_count": 12,
   "metadata": {
    "execution": {
     "iopub.execute_input": "2021-10-17T16:21:37.812399Z",
     "iopub.status.busy": "2021-10-17T16:21:37.812051Z",
     "iopub.status.idle": "2021-10-17T16:21:39.367887Z",
     "shell.execute_reply": "2021-10-17T16:21:39.366951Z",
     "shell.execute_reply.started": "2021-10-17T16:21:37.812356Z"
    }
   },
   "outputs": [
    {
     "data": {
      "text/plain": [
       "32         6.0\n",
       "33         6.0\n",
       "34         6.0\n",
       "35         6.0\n",
       "36         6.0\n",
       "          ... \n",
       "4023996    6.0\n",
       "4023997    6.0\n",
       "4023998    6.0\n",
       "4023999    6.0\n",
       "4024000    6.0\n",
       "Length: 2496435, dtype: float64"
      ]
     },
     "execution_count": 12,
     "metadata": {},
     "output_type": "execute_result"
    }
   ],
   "source": [
    "# create outpreds = average out value\n",
    "out_preds = np.ones(len(test_out))*6\n",
    "i = list(test_out.id)\n",
    "out_preds_s = pd.Series(out_preds,index = i)\n",
    "out_preds_s"
   ]
  },
  {
   "cell_type": "code",
   "execution_count": 13,
   "metadata": {
    "execution": {
     "iopub.execute_input": "2021-10-17T16:21:39.369534Z",
     "iopub.status.busy": "2021-10-17T16:21:39.369218Z",
     "iopub.status.idle": "2021-10-17T16:21:40.613930Z",
     "shell.execute_reply": "2021-10-17T16:21:40.612856Z",
     "shell.execute_reply.started": "2021-10-17T16:21:39.369494Z"
    }
   },
   "outputs": [
    {
     "ename": "NameError",
     "evalue": "name 'model_dt' is not defined",
     "output_type": "error",
     "traceback": [
      "\u001b[1;31m---------------------------------------------------------------------------\u001b[0m",
      "\u001b[1;31mNameError\u001b[0m                                 Traceback (most recent call last)",
      "\u001b[1;32m<ipython-input-13-0e3e4835d41f>\u001b[0m in \u001b[0;36m<module>\u001b[1;34m\u001b[0m\n\u001b[1;32m----> 1\u001b[1;33m \u001b[0mpred_final\u001b[0m \u001b[1;33m=\u001b[0m \u001b[0mmodel_dt\u001b[0m\u001b[1;33m.\u001b[0m\u001b[0mpredict\u001b[0m\u001b[1;33m(\u001b[0m\u001b[0mX_test_in\u001b[0m\u001b[1;33m)\u001b[0m\u001b[1;33m\u001b[0m\u001b[1;33m\u001b[0m\u001b[0m\n\u001b[0m\u001b[0;32m      2\u001b[0m \u001b[1;31m# add indexs to recombine with out preds\u001b[0m\u001b[1;33m\u001b[0m\u001b[1;33m\u001b[0m\u001b[1;33m\u001b[0m\u001b[0m\n\u001b[0;32m      3\u001b[0m \u001b[0mpred_final_s\u001b[0m \u001b[1;33m=\u001b[0m \u001b[0mpd\u001b[0m\u001b[1;33m.\u001b[0m\u001b[0mSeries\u001b[0m\u001b[1;33m(\u001b[0m\u001b[0mpred_final\u001b[0m\u001b[1;33m,\u001b[0m\u001b[0mindex\u001b[0m\u001b[1;33m=\u001b[0m\u001b[0mlist\u001b[0m\u001b[1;33m(\u001b[0m\u001b[0mtest_in\u001b[0m\u001b[1;33m.\u001b[0m\u001b[0mid\u001b[0m\u001b[1;33m)\u001b[0m\u001b[1;33m)\u001b[0m\u001b[1;33m\u001b[0m\u001b[1;33m\u001b[0m\u001b[0m\n\u001b[0;32m      4\u001b[0m \u001b[0mpred_final_s\u001b[0m\u001b[1;33m.\u001b[0m\u001b[0mhead\u001b[0m\u001b[1;33m(\u001b[0m\u001b[1;33m)\u001b[0m\u001b[1;33m\u001b[0m\u001b[1;33m\u001b[0m\u001b[0m\n",
      "\u001b[1;31mNameError\u001b[0m: name 'model_dt' is not defined"
     ]
    }
   ],
   "source": [
    "pred_final = model_dt.predict(X_test_in)\n",
    "# add indexs to recombine with out preds\n",
    "pred_final_s = pd.Series(pred_final,index=list(test_in.id))\n",
    "pred_final_s.head()"
   ]
  },
  {
   "cell_type": "code",
   "execution_count": null,
   "metadata": {
    "execution": {
     "iopub.execute_input": "2021-10-17T16:21:40.617155Z",
     "iopub.status.busy": "2021-10-17T16:21:40.616893Z",
     "iopub.status.idle": "2021-10-17T16:21:40.929002Z",
     "shell.execute_reply": "2021-10-17T16:21:40.928006Z",
     "shell.execute_reply.started": "2021-10-17T16:21:40.617128Z"
    }
   },
   "outputs": [],
   "source": [
    "both = pred_final_s.append(out_preds_s).sort_index()\n",
    "both.values"
   ]
  },
  {
   "cell_type": "code",
   "execution_count": null,
   "metadata": {
    "execution": {
     "iopub.execute_input": "2021-10-17T16:21:40.930913Z",
     "iopub.status.busy": "2021-10-17T16:21:40.930585Z",
     "iopub.status.idle": "2021-10-17T16:21:52.673630Z",
     "shell.execute_reply": "2021-10-17T16:21:52.672996Z",
     "shell.execute_reply.started": "2021-10-17T16:21:40.930872Z"
    }
   },
   "outputs": [],
   "source": [
    "output = pd.DataFrame({'id': test.id, 'pressure': both.values})\n",
    "output.to_csv('submission.csv', index=False)\n",
    "print(\"Submission saved!\")"
   ]
  },
  {
   "cell_type": "code",
   "execution_count": null,
   "metadata": {},
   "outputs": [],
   "source": []
  }
 ],
 "metadata": {
  "kernelspec": {
   "display_name": "Python 3 (ipykernel)",
   "language": "python",
   "name": "python3"
  },
  "language_info": {
   "codemirror_mode": {
    "name": "ipython",
    "version": 3
   },
   "file_extension": ".py",
   "mimetype": "text/x-python",
   "name": "python",
   "nbconvert_exporter": "python",
   "pygments_lexer": "ipython3",
   "version": "3.8.8"
  }
 },
 "nbformat": 4,
 "nbformat_minor": 4
}
