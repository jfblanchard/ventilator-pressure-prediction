{
 "cells": [
  {
   "cell_type": "code",
   "execution_count": 7,
   "id": "1daf58a7",
   "metadata": {},
   "outputs": [],
   "source": [
    "import platform\n",
    "from IPython.display import Audio\n",
    "#sound_file = './sound/beep.wav'"
   ]
  },
  {
   "cell_type": "code",
   "execution_count": 11,
   "id": "d2ad4cf1",
   "metadata": {},
   "outputs": [
    {
     "data": {
      "text/plain": [
       "'7'"
      ]
     },
     "execution_count": 11,
     "metadata": {},
     "output_type": "execute_result"
    }
   ],
   "source": [
    "platform.system()\n",
    "platform.release()\n",
    "\n",
    "#Audio(sound_file, rate=30,autoplay=True)"
   ]
  },
  {
   "cell_type": "code",
   "execution_count": 12,
   "id": "6426fd96",
   "metadata": {},
   "outputs": [
    {
     "ename": "SyntaxError",
     "evalue": "invalid syntax (Temp/ipykernel_10652/2859243960.py, line 1)",
     "output_type": "error",
     "traceback": [
      "\u001b[1;36m  File \u001b[1;32m\"C:\\Users\\Jon\\AppData\\Local\\Temp/ipykernel_10652/2859243960.py\"\u001b[1;36m, line \u001b[1;32m1\u001b[0m\n\u001b[1;33m    if platform.system() == 'Windows' and platform.realease == '7'\u001b[0m\n\u001b[1;37m                                                                  ^\u001b[0m\n\u001b[1;31mSyntaxError\u001b[0m\u001b[1;31m:\u001b[0m invalid syntax\n"
     ]
    }
   ],
   "source": [
    "if platform.system() == 'Windows' and platform.realease == '7':\n",
    "    drive = 'F'\n",
    "elif platform.system() == 'Windows' and platform.realease == '10':\n",
    "    drive = 'C'\n",
    "elif platform.system() == 'Linux':\n",
    "    # unimplemented\n",
    "    pass   \n"
   ]
  },
  {
   "cell_type": "code",
   "execution_count": null,
   "id": "af423551",
   "metadata": {},
   "outputs": [],
   "source": []
  }
 ],
 "metadata": {
  "kernelspec": {
   "display_name": "Python 3 (ipykernel)",
   "language": "python",
   "name": "python3"
  },
  "language_info": {
   "codemirror_mode": {
    "name": "ipython",
    "version": 3
   },
   "file_extension": ".py",
   "mimetype": "text/x-python",
   "name": "python",
   "nbconvert_exporter": "python",
   "pygments_lexer": "ipython3",
   "version": "3.8.8"
  }
 },
 "nbformat": 4,
 "nbformat_minor": 5
}
