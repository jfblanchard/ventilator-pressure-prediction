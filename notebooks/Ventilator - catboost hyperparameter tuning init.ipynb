{
 "cells": [
  {
   "cell_type": "code",
   "execution_count": 1,
   "metadata": {
    "execution": {
     "iopub.execute_input": "2021-10-17T16:21:13.667725Z",
     "iopub.status.busy": "2021-10-17T16:21:13.667448Z",
     "iopub.status.idle": "2021-10-17T16:21:13.672345Z",
     "shell.execute_reply": "2021-10-17T16:21:13.671704Z",
     "shell.execute_reply.started": "2021-10-17T16:21:13.667697Z"
    }
   },
   "outputs": [],
   "source": [
    "import pandas as pd\n",
    "import numpy as np\n",
    "import matplotlib.pyplot as plt\n",
    "import seaborn as sns\n",
    "sns.set_style('whitegrid')"
   ]
  },
  {
   "cell_type": "markdown",
   "metadata": {},
   "source": [
    "# Load Files"
   ]
  },
  {
   "cell_type": "code",
   "execution_count": 24,
   "metadata": {
    "execution": {
     "iopub.execute_input": "2021-10-17T16:21:13.674559Z",
     "iopub.status.busy": "2021-10-17T16:21:13.673659Z",
     "iopub.status.idle": "2021-10-17T16:21:22.630827Z",
     "shell.execute_reply": "2021-10-17T16:21:22.629798Z",
     "shell.execute_reply.started": "2021-10-17T16:21:13.674523Z"
    }
   },
   "outputs": [
    {
     "name": "stdout",
     "output_type": "stream",
     "text": [
      "Wall time: 4.73 s\n"
     ]
    }
   ],
   "source": [
    "%%time\n",
    "# Load files\n",
    "train = pd.read_csv(r'C:\\Sync\\Work\\Kaggle Competitions\\Ventilator Pressure Prediction\\Data\\train.csv')\n",
    "test = pd.read_csv(r'C:\\Sync\\Work\\Kaggle Competitions\\Ventilator Pressure Prediction\\Data\\test.csv')\n",
    "\n",
    "y = train['pressure']\n"
   ]
  },
  {
   "cell_type": "code",
   "execution_count": 25,
   "metadata": {},
   "outputs": [
    {
     "name": "stdout",
     "output_type": "stream",
     "text": [
      "Train memory usage: 386304128\n",
      "Test memory usage: 225344128\n"
     ]
    }
   ],
   "source": [
    "print(f'Train memory usage: {train.memory_usage().sum()}')\n",
    "print(f'Test memory usage: {test.memory_usage().sum()}')"
   ]
  },
  {
   "cell_type": "markdown",
   "metadata": {},
   "source": [
    "# Memory Reduction"
   ]
  },
  {
   "cell_type": "code",
   "execution_count": 26,
   "metadata": {},
   "outputs": [
    {
     "name": "stdout",
     "output_type": "stream",
     "text": [
      "int32\n",
      "int32\n",
      "int8\n",
      "int8\n",
      "float32\n",
      "float32\n",
      "int8\n"
     ]
    }
   ],
   "source": [
    "# down convert columns to save memory...\n",
    "# probably do float64's too\n",
    "\n",
    "# train\n",
    "train['id'] = train['id'].astype(np.int32)\n",
    "train['breath_id'] = train['breath_id'].astype(np.int32)\n",
    "train['R'] = train['R'].astype(np.int8)  #or OHC?\n",
    "train['C'] = train['C'].astype(np.int8)\n",
    "train['u_out'] = train['u_out'].astype(np.int8)\n",
    "train['u_in'] = train['u_in'].astype(np.float32)\n",
    "train['time_step'] = train['time_step'].astype(np.float32)\n",
    "\n",
    "\n",
    "#test\n",
    "test['id'] = test['id'].astype(np.int32)\n",
    "test['breath_id'] = test['breath_id'].astype(np.int32)\n",
    "test['R'] = test['R'].astype(np.int8)  #or OHC?\n",
    "test['C'] = test['C'].astype(np.int8)\n",
    "test['u_out'] = test['u_out'].astype(np.int8)\n",
    "test['u_in'] = test['u_in'].astype(np.float32)\n",
    "test['time_step'] = test['time_step'].astype(np.float32)\n",
    "\n",
    "for col in test.columns:\n",
    "    print(test[col].dtype)"
   ]
  },
  {
   "cell_type": "code",
   "execution_count": 27,
   "metadata": {},
   "outputs": [
    {
     "name": "stdout",
     "output_type": "stream",
     "text": [
      "Train memory usage: 162972128\n",
      "Test memory usage: 76456128\n"
     ]
    }
   ],
   "source": [
    "print(f'Train memory usage: {train.memory_usage().sum()}')\n",
    "print(f'Test memory usage: {test.memory_usage().sum()}')\n"
   ]
  },
  {
   "cell_type": "markdown",
   "metadata": {},
   "source": [
    "# Split data into inhalitory and exhalitory phase (only scored on inhale)"
   ]
  },
  {
   "cell_type": "code",
   "execution_count": 3,
   "metadata": {
    "execution": {
     "iopub.execute_input": "2021-10-17T16:21:22.632247Z",
     "iopub.status.busy": "2021-10-17T16:21:22.631988Z",
     "iopub.status.idle": "2021-10-17T16:21:23.167768Z",
     "shell.execute_reply": "2021-10-17T16:21:23.166946Z",
     "shell.execute_reply.started": "2021-10-17T16:21:22.632219Z"
    }
   },
   "outputs": [],
   "source": [
    "train_in = train[train.u_out == 0]\n",
    "test_in = test[test.u_out == 0]\n",
    "y_in = train_in['pressure']\n",
    "\n",
    "train_out = train[train.u_out == 1]\n",
    "test_out = test[test.u_out == 1]"
   ]
  },
  {
   "cell_type": "code",
   "execution_count": 4,
   "metadata": {
    "execution": {
     "iopub.execute_input": "2021-10-17T16:21:23.170038Z",
     "iopub.status.busy": "2021-10-17T16:21:23.169721Z",
     "iopub.status.idle": "2021-10-17T16:21:23.183724Z",
     "shell.execute_reply": "2021-10-17T16:21:23.182855Z",
     "shell.execute_reply.started": "2021-10-17T16:21:23.170006Z"
    }
   },
   "outputs": [
    {
     "data": {
      "text/html": [
       "<div>\n",
       "<style scoped>\n",
       "    .dataframe tbody tr th:only-of-type {\n",
       "        vertical-align: middle;\n",
       "    }\n",
       "\n",
       "    .dataframe tbody tr th {\n",
       "        vertical-align: top;\n",
       "    }\n",
       "\n",
       "    .dataframe thead th {\n",
       "        text-align: right;\n",
       "    }\n",
       "</style>\n",
       "<table border=\"1\" class=\"dataframe\">\n",
       "  <thead>\n",
       "    <tr style=\"text-align: right;\">\n",
       "      <th></th>\n",
       "      <th>id</th>\n",
       "      <th>breath_id</th>\n",
       "      <th>R</th>\n",
       "      <th>C</th>\n",
       "      <th>time_step</th>\n",
       "      <th>u_in</th>\n",
       "      <th>u_out</th>\n",
       "    </tr>\n",
       "  </thead>\n",
       "  <tbody>\n",
       "    <tr>\n",
       "      <th>31</th>\n",
       "      <td>32</td>\n",
       "      <td>0</td>\n",
       "      <td>5</td>\n",
       "      <td>20</td>\n",
       "      <td>0.989089</td>\n",
       "      <td>0.0</td>\n",
       "      <td>1</td>\n",
       "    </tr>\n",
       "    <tr>\n",
       "      <th>32</th>\n",
       "      <td>33</td>\n",
       "      <td>0</td>\n",
       "      <td>5</td>\n",
       "      <td>20</td>\n",
       "      <td>1.021021</td>\n",
       "      <td>0.0</td>\n",
       "      <td>1</td>\n",
       "    </tr>\n",
       "    <tr>\n",
       "      <th>33</th>\n",
       "      <td>34</td>\n",
       "      <td>0</td>\n",
       "      <td>5</td>\n",
       "      <td>20</td>\n",
       "      <td>1.052835</td>\n",
       "      <td>0.0</td>\n",
       "      <td>1</td>\n",
       "    </tr>\n",
       "    <tr>\n",
       "      <th>34</th>\n",
       "      <td>35</td>\n",
       "      <td>0</td>\n",
       "      <td>5</td>\n",
       "      <td>20</td>\n",
       "      <td>1.084613</td>\n",
       "      <td>0.0</td>\n",
       "      <td>1</td>\n",
       "    </tr>\n",
       "    <tr>\n",
       "      <th>35</th>\n",
       "      <td>36</td>\n",
       "      <td>0</td>\n",
       "      <td>5</td>\n",
       "      <td>20</td>\n",
       "      <td>1.116543</td>\n",
       "      <td>0.0</td>\n",
       "      <td>1</td>\n",
       "    </tr>\n",
       "  </tbody>\n",
       "</table>\n",
       "</div>"
      ],
      "text/plain": [
       "    id  breath_id  R   C  time_step  u_in  u_out\n",
       "31  32          0  5  20   0.989089   0.0      1\n",
       "32  33          0  5  20   1.021021   0.0      1\n",
       "33  34          0  5  20   1.052835   0.0      1\n",
       "34  35          0  5  20   1.084613   0.0      1\n",
       "35  36          0  5  20   1.116543   0.0      1"
      ]
     },
     "execution_count": 4,
     "metadata": {},
     "output_type": "execute_result"
    }
   ],
   "source": [
    "test_out.head()"
   ]
  },
  {
   "cell_type": "markdown",
   "metadata": {},
   "source": [
    "### Add integral column"
   ]
  },
  {
   "cell_type": "code",
   "execution_count": 2,
   "metadata": {},
   "outputs": [
    {
     "ename": "NameError",
     "evalue": "name 'train_in' is not defined",
     "output_type": "error",
     "traceback": [
      "\u001b[1;31m---------------------------------------------------------------------------\u001b[0m",
      "\u001b[1;31mNameError\u001b[0m                                 Traceback (most recent call last)",
      "\u001b[1;32m~\\AppData\\Local\\Temp/ipykernel_12176/3283105885.py\u001b[0m in \u001b[0;36m<module>\u001b[1;34m\u001b[0m\n\u001b[1;32m----> 1\u001b[1;33m \u001b[0mtrain_breath_idx\u001b[0m \u001b[1;33m=\u001b[0m \u001b[0mtrain_in\u001b[0m\u001b[1;33m.\u001b[0m\u001b[0mbreath_id\u001b[0m\u001b[1;33m.\u001b[0m\u001b[0munique\u001b[0m\u001b[1;33m(\u001b[0m\u001b[1;33m)\u001b[0m\u001b[1;33m\u001b[0m\u001b[1;33m\u001b[0m\u001b[0m\n\u001b[0m\u001b[0;32m      2\u001b[0m \u001b[0mtrain_breath_idx\u001b[0m\u001b[1;33m\u001b[0m\u001b[1;33m\u001b[0m\u001b[0m\n",
      "\u001b[1;31mNameError\u001b[0m: name 'train_in' is not defined"
     ]
    }
   ],
   "source": [
    "# not done\n",
    "train_breath_idx = train_in.breath_id.unique()\n",
    "train_breath_idx"
   ]
  },
  {
   "cell_type": "code",
   "execution_count": null,
   "metadata": {},
   "outputs": [],
   "source": [
    "\n",
    "\n",
    "# make a volume column from u_in \n",
    "vol = np.zeros(len(id1))\n",
    "vol[0] = 6  # start with avg starting value of pressure\n",
    "r = id1.R.iloc[0]\n",
    "c = id1.C.iloc[0]\n",
    "for i in range(len(id1)-1):\n",
    "    if id1.u_out.iloc[i] == 0:\n",
    "        vol[i+1] = vol[i] + (id1.dt.iloc[0]*id1.lag.iloc[i+1] * (c/r)) *-.3*np.log(id1.time_step.iloc[i+1]*1)\n",
    "    else:"
   ]
  },
  {
   "cell_type": "markdown",
   "metadata": {},
   "source": [
    "# Model"
   ]
  },
  {
   "cell_type": "code",
   "execution_count": 5,
   "metadata": {
    "execution": {
     "iopub.execute_input": "2021-10-17T16:21:23.185212Z",
     "iopub.status.busy": "2021-10-17T16:21:23.184954Z",
     "iopub.status.idle": "2021-10-17T16:21:23.195503Z",
     "shell.execute_reply": "2021-10-17T16:21:23.194612Z",
     "shell.execute_reply.started": "2021-10-17T16:21:23.185186Z"
    }
   },
   "outputs": [],
   "source": [
    "from sklearn.metrics import mean_absolute_error  #confusion_matrix, classification_report"
   ]
  },
  {
   "cell_type": "code",
   "execution_count": 6,
   "metadata": {
    "execution": {
     "iopub.execute_input": "2021-10-17T16:21:23.196961Z",
     "iopub.status.busy": "2021-10-17T16:21:23.196707Z",
     "iopub.status.idle": "2021-10-17T16:21:23.700236Z",
     "shell.execute_reply": "2021-10-17T16:21:23.699536Z",
     "shell.execute_reply.started": "2021-10-17T16:21:23.196921Z"
    }
   },
   "outputs": [
    {
     "name": "stderr",
     "output_type": "stream",
     "text": [
      "C:\\Anaconda3\\lib\\site-packages\\pandas\\core\\frame.py:4163: SettingWithCopyWarning: \n",
      "A value is trying to be set on a copy of a slice from a DataFrame\n",
      "\n",
      "See the caveats in the documentation: https://pandas.pydata.org/pandas-docs/stable/user_guide/indexing.html#returning-a-view-versus-a-copy\n",
      "  return super().drop(\n"
     ]
    }
   ],
   "source": [
    "# Split data - after all analysis is done\n",
    "from sklearn.model_selection import train_test_split\n",
    "\n",
    "train_in.drop(columns = ['pressure','id'], inplace = True)\n",
    "#test = test.drop(columns = 'id', inplace = True)\n",
    "\n",
    "X_train, X_valid, y_train, y_valid = train_test_split(train_in, y_in, train_size=0.8, test_size=0.2,\n",
    "                                                      random_state=12)\n",
    "X_test_in = test_in.drop(columns=['id'],inplace=False)"
   ]
  },
  {
   "cell_type": "code",
   "execution_count": 12,
   "metadata": {
    "execution": {
     "iopub.execute_input": "2021-10-17T16:21:23.702205Z",
     "iopub.status.busy": "2021-10-17T16:21:23.701680Z",
     "iopub.status.idle": "2021-10-17T16:21:23.706623Z",
     "shell.execute_reply": "2021-10-17T16:21:23.705533Z",
     "shell.execute_reply.started": "2021-10-17T16:21:23.702160Z"
    }
   },
   "outputs": [
    {
     "data": {
      "text/html": [
       "<div>\n",
       "<style scoped>\n",
       "    .dataframe tbody tr th:only-of-type {\n",
       "        vertical-align: middle;\n",
       "    }\n",
       "\n",
       "    .dataframe tbody tr th {\n",
       "        vertical-align: top;\n",
       "    }\n",
       "\n",
       "    .dataframe thead th {\n",
       "        text-align: right;\n",
       "    }\n",
       "</style>\n",
       "<table border=\"1\" class=\"dataframe\">\n",
       "  <thead>\n",
       "    <tr style=\"text-align: right;\">\n",
       "      <th></th>\n",
       "      <th>breath_id</th>\n",
       "      <th>R</th>\n",
       "      <th>C</th>\n",
       "      <th>time_step</th>\n",
       "      <th>u_in</th>\n",
       "      <th>u_out</th>\n",
       "    </tr>\n",
       "  </thead>\n",
       "  <tbody>\n",
       "    <tr>\n",
       "      <th>0</th>\n",
       "      <td>0</td>\n",
       "      <td>5</td>\n",
       "      <td>20</td>\n",
       "      <td>0.000000</td>\n",
       "      <td>0.000000</td>\n",
       "      <td>0</td>\n",
       "    </tr>\n",
       "    <tr>\n",
       "      <th>1</th>\n",
       "      <td>0</td>\n",
       "      <td>5</td>\n",
       "      <td>20</td>\n",
       "      <td>0.031904</td>\n",
       "      <td>7.515046</td>\n",
       "      <td>0</td>\n",
       "    </tr>\n",
       "    <tr>\n",
       "      <th>2</th>\n",
       "      <td>0</td>\n",
       "      <td>5</td>\n",
       "      <td>20</td>\n",
       "      <td>0.063827</td>\n",
       "      <td>14.651675</td>\n",
       "      <td>0</td>\n",
       "    </tr>\n",
       "    <tr>\n",
       "      <th>3</th>\n",
       "      <td>0</td>\n",
       "      <td>5</td>\n",
       "      <td>20</td>\n",
       "      <td>0.095751</td>\n",
       "      <td>21.230610</td>\n",
       "      <td>0</td>\n",
       "    </tr>\n",
       "    <tr>\n",
       "      <th>4</th>\n",
       "      <td>0</td>\n",
       "      <td>5</td>\n",
       "      <td>20</td>\n",
       "      <td>0.127644</td>\n",
       "      <td>26.320956</td>\n",
       "      <td>0</td>\n",
       "    </tr>\n",
       "    <tr>\n",
       "      <th>...</th>\n",
       "      <td>...</td>\n",
       "      <td>...</td>\n",
       "      <td>...</td>\n",
       "      <td>...</td>\n",
       "      <td>...</td>\n",
       "      <td>...</td>\n",
       "    </tr>\n",
       "    <tr>\n",
       "      <th>4023945</th>\n",
       "      <td>125748</td>\n",
       "      <td>20</td>\n",
       "      <td>10</td>\n",
       "      <td>0.842145</td>\n",
       "      <td>0.000000</td>\n",
       "      <td>0</td>\n",
       "    </tr>\n",
       "    <tr>\n",
       "      <th>4023946</th>\n",
       "      <td>125748</td>\n",
       "      <td>20</td>\n",
       "      <td>10</td>\n",
       "      <td>0.875648</td>\n",
       "      <td>0.000000</td>\n",
       "      <td>0</td>\n",
       "    </tr>\n",
       "    <tr>\n",
       "      <th>4023947</th>\n",
       "      <td>125748</td>\n",
       "      <td>20</td>\n",
       "      <td>10</td>\n",
       "      <td>0.909185</td>\n",
       "      <td>0.121375</td>\n",
       "      <td>0</td>\n",
       "    </tr>\n",
       "    <tr>\n",
       "      <th>4023948</th>\n",
       "      <td>125748</td>\n",
       "      <td>20</td>\n",
       "      <td>10</td>\n",
       "      <td>0.943148</td>\n",
       "      <td>0.000000</td>\n",
       "      <td>0</td>\n",
       "    </tr>\n",
       "    <tr>\n",
       "      <th>4023949</th>\n",
       "      <td>125748</td>\n",
       "      <td>20</td>\n",
       "      <td>10</td>\n",
       "      <td>0.976815</td>\n",
       "      <td>0.000000</td>\n",
       "      <td>0</td>\n",
       "    </tr>\n",
       "  </tbody>\n",
       "</table>\n",
       "<p>1527565 rows × 6 columns</p>\n",
       "</div>"
      ],
      "text/plain": [
       "         breath_id   R   C  time_step       u_in  u_out\n",
       "0                0   5  20   0.000000   0.000000      0\n",
       "1                0   5  20   0.031904   7.515046      0\n",
       "2                0   5  20   0.063827  14.651675      0\n",
       "3                0   5  20   0.095751  21.230610      0\n",
       "4                0   5  20   0.127644  26.320956      0\n",
       "...            ...  ..  ..        ...        ...    ...\n",
       "4023945     125748  20  10   0.842145   0.000000      0\n",
       "4023946     125748  20  10   0.875648   0.000000      0\n",
       "4023947     125748  20  10   0.909185   0.121375      0\n",
       "4023948     125748  20  10   0.943148   0.000000      0\n",
       "4023949     125748  20  10   0.976815   0.000000      0\n",
       "\n",
       "[1527565 rows x 6 columns]"
      ]
     },
     "execution_count": 12,
     "metadata": {},
     "output_type": "execute_result"
    }
   ],
   "source": [
    "# Logistic Regression - not working...yet.\n",
    "X_test_in"
   ]
  },
  {
   "cell_type": "code",
   "execution_count": 8,
   "metadata": {
    "execution": {
     "iopub.execute_input": "2021-10-17T16:34:09.133367Z",
     "iopub.status.busy": "2021-10-17T16:34:09.133001Z",
     "iopub.status.idle": "2021-10-17T16:36:54.317261Z",
     "shell.execute_reply": "2021-10-17T16:36:54.316441Z",
     "shell.execute_reply.started": "2021-10-17T16:34:09.133333Z"
    }
   },
   "outputs": [
    {
     "name": "stdout",
     "output_type": "stream",
     "text": [
      "Wall time: 0 ns\n"
     ]
    }
   ],
   "source": [
    "%%time\n",
    "# ok, decision tree instead:\n",
    "# from sklearn.tree import DecisionTreeRegressor\n",
    "\n",
    "# for i in range(100,200,20): \n",
    "#     model_dt = DecisionTreeRegressor(n_iterations = i, max_depth=16, random_state=12)\n",
    "#     model_dt.fit(X_train, y_train)\n",
    "#     pred_dt = model_dt.predict(X_valid)\n",
    "\n",
    "#     #dt = roc_auc_score(y_valid,pred_dt)\n",
    "#     dt_mae_score = mean_absolute_error(pred_dt, y_valid)\n",
    "#     print(f'Decision Tree MAE Score for max_depth={i} is : {dt_mae_score}')\n",
    "# with default params, score = 2.413, but lb = 4.791.  Why the large difference?\n",
    "# 11/17/21 changed to inhale only and my scores are matching better\n",
    "    \n",
    "# Decision Tree MAE Score for max_depth=2 is : 6.3443955300614405\n",
    "# Decision Tree MAE Score for max_depth=3 is : 6.028395026290743\n",
    "# Decision Tree MAE Score for max_depth=4 is : 5.678540615661189\n",
    "# Decision Tree MAE Score for max_depth=5 is : 5.3517588341023155\n",
    "# Decision Tree MAE Score for max_depth=6 is : 4.952135011724083\n",
    "# Decision Tree MAE Score for max_depth=7 is : 4.669474094251829\n",
    "# Decision Tree MAE Score for max_depth=8 is : 4.430497791001828\n",
    "# Decision Tree MAE Score for max_depth=9 is : 4.235200007248183\n",
    "# Decision Tree MAE Score for max_depth=10 is : 4.111949020503175\n",
    "# Decision Tree MAE Score for max_depth=11 is : 4.002433270178995\n",
    "# Decision Tree MAE Score for max_depth=12 is : 3.9195341438467897\n",
    "# Decision Tree MAE Score for max_depth=13 is : 3.84778054263597\n",
    "# Decision Tree MAE Score for max_depth=14 is : 3.79583210088494\n",
    "# Decision Tree MAE Score for max_depth=15 is : 3.75439201392607\n",
    "# Decision Tree MAE Score for max_depth=16 is : 3.7410021329185414\n",
    "# Decision Tree MAE Score for max_depth=17 is : 3.744247688109701\n",
    "# Decision Tree MAE Score for max_depth=18 is : 3.7645064417036505\n",
    "# Decision Tree MAE Score for max_depth=19 is : 3.800083196701423\n",
    "# Decision Tree MAE Score for max_depth=20 is : 3.852334638461889\n",
    "# Decision Tree MAE Score for max_depth=21 is : 3.911532812448746\n",
    "# Decision Tree MAE Score for max_depth=22 is : 3.9779119228181203\n",
    "# Decision Tree MAE Score for max_depth=23 is : 4.044951907548471\n",
    "# Decision Tree MAE Score for max_depth=24 is : 4.112202068631238\n",
    "# min at max_depth=16 (3.741)\n"
   ]
  },
  {
   "cell_type": "code",
   "execution_count": 9,
   "metadata": {
    "execution": {
     "iopub.execute_input": "2021-10-17T16:46:10.345692Z",
     "iopub.status.busy": "2021-10-17T16:46:10.345343Z"
    }
   },
   "outputs": [
    {
     "name": "stdout",
     "output_type": "stream",
     "text": [
      "Wall time: 0 ns\n"
     ]
    }
   ],
   "source": [
    "%%time\n",
    "# random forest\n",
    "# from sklearn.ensemble import RandomForestRegressor\n",
    "\n",
    "# model_rf = RandomForestRegressor()\n",
    "# model_rf.fit(X_train, y_train)\n",
    "# pred_rf = model_rf.predict(X_valid)\n",
    "# rf_mae = mean_absolute_error(pred_rf,y_valid)\n",
    "# print(f'Random Forsest MAE Score: {rf_mae}')\n",
    "# (n_estimators=100, max_depth=7,min_samples_leaf=0.06, random_state=12), mae=3.12775, lb score = 6.431(?)\n",
    "# Why is random forest worse?  \n",
    "# 10/17/21: Still worse after using only inhales\n",
    "# (n_estimators=100, max_depth=7,min_samples_leaf=0.06, random_state=12) = 5.867\n",
    "# defaults: runs out of memory!!!???\n",
    "\n"
   ]
  },
  {
   "cell_type": "code",
   "execution_count": 19,
   "metadata": {},
   "outputs": [
    {
     "name": "stdout",
     "output_type": "stream",
     "text": [
      "CatBoost MAE Score: 3.9759579031274104\n",
      "Wall time: 7.96 s\n"
     ]
    }
   ],
   "source": [
    "%%time\n",
    "from catboost import CatBoostRegressor\n",
    "# loop for manual type cv\n",
    "#preds = []\n",
    "for i in np.arange(1,2):\n",
    "#     X_train, X_valid, y_train, y_valid = train_test_split(train, y, train_size=0.8, test_size=0.2,\n",
    "#                                                       random_state=i)\n",
    "    model_cat = CatBoostRegressor(loss_function=\"MAE\",\n",
    "                               eval_metric=\"MAE\",\n",
    "                               task_type=\"GPU\",\n",
    "                               learning_rate=.6,\n",
    "                               iterations=400,\n",
    "                               l2_leaf_reg=50,\n",
    "                               random_seed=12,\n",
    "                               od_type=\"Iter\",\n",
    "                               depth=5,\n",
    "                               #early_stopping_rounds=6500,\n",
    "                               border_count=64,\n",
    "                               verbose=False\n",
    "                              )\n",
    "    model_cat.fit(X_train,y_train)\n",
    "    pred_cat = model_cat.predict(X_valid)\n",
    "    score_cat = mean_absolute_error(y_valid,pred_cat)\n",
    "    #print(f'iters={i}, lr={j}, CatBoost MAE Score: {score_cat}')\n",
    "    print(f'CatBoost MAE Score: {score_cat}')\n",
    "    #preds.append(model_cat.predict_proba(X_test)[:,1])\n",
    "    # 400, .6 = 3.976\n"
   ]
  },
  {
   "cell_type": "code",
   "execution_count": null,
   "metadata": {},
   "outputs": [],
   "source": [
    "# Results\n",
    "# below was with 400 iterations\n",
    "# LR=0.01, CatBoost MAE Score: 4.612070402194106\n",
    "# LR=0.02, CatBoost MAE Score: 4.355098889990542\n",
    "# LR=0.03, CatBoost MAE Score: 4.256470209779093\n",
    "# LR=0.04, CatBoost MAE Score: 4.206820030265317\n",
    "# LR=0.05, CatBoost MAE Score: 4.17202774418495\n",
    "# LR=0.06, CatBoost MAE Score: 4.154663398741475\n",
    "# LR=0.07, CatBoost MAE Score: 4.139378210785428\n",
    "# LR=0.08, CatBoost MAE Score: 4.123714277138671\n",
    "# LR=0.09, CatBoost MAE Score: 4.118331120102717\n",
    "# LR=0.10, CatBoost MAE Score: 4.100228688249339\n",
    "\n",
    "#below is actually varying iterations with lr=.01\n",
    "# LR=500, CatBoost MAE Score: 4.51716759258337\n",
    "# LR=750, CatBoost MAE Score: 4.375308068777867\n",
    "# LR=1000, CatBoost MAE Score: 4.296309314073668\n",
    "# LR=1250, CatBoost MAE Score: 4.253560494871421\n",
    "# LR=1500, CatBoost MAE Score: 4.215301334682263\n",
    "# LR=1750, CatBoost MAE Score: 4.192200549938411\n",
    "# LR=2000, CatBoost MAE Score: 4.175215683257243\n",
    "\n",
    "# iters=2500, CatBoost MAE Score: 4.152780577777932\n",
    "# iters=3000, CatBoost MAE Score: 4.1334934487070445\n",
    "# iters=3500, CatBoost MAE Score: 4.116628441891895\n",
    "# iters=4000, CatBoost MAE Score: 4.1022695941252145\n",
    "# iters=4500, CatBoost MAE Score: 4.090963847495107\n",
    "# iters=5000, CatBoost MAE Score: 4.081444606900306\n",
    "# iters=5500, CatBoost MAE Score: 4.073453635612619\n",
    "# iters=6000, CatBoost MAE Score: 4.065357346625841\n",
    "# iters=6500, CatBoost MAE Score: 4.0580621865794475\n",
    "# iters=7000, CatBoost MAE Score: 4.051370365282632\n",
    "# iters=7500, CatBoost MAE Score: 4.044719753925026\n",
    "\n",
    "# iters=500, lr=0.02, CatBoost MAE Score: 4.29701850764207\n",
    "# iters=500, lr=0.05, CatBoost MAE Score: 4.147902585346878\n",
    "# iters=500, lr=0.07, CatBoost MAE Score: 4.114997921114166\n",
    "# iters=500, lr=0.1, CatBoost MAE Score: 4.080464756927912\n",
    "# iters=1500, lr=0.02, CatBoost MAE Score: 4.132905138782809\n",
    "# iters=1500, lr=0.05, CatBoost MAE Score: 4.047442916427927\n",
    "# iters=1500, lr=0.07, CatBoost MAE Score: 4.015655697064174\n",
    "# iters=1500, lr=0.1, CatBoost MAE Score: 3.9860950279206313\n",
    "# iters=2500, lr=0.02, CatBoost MAE Score: 4.080349172017659\n",
    "# iters=2500, lr=0.05, CatBoost MAE Score: 4.00344905190381\n",
    "# iters=2500, lr=0.07, CatBoost MAE Score: 3.97255891177489\n",
    "# iters=2500, lr=0.1, CatBoost MAE Score: 3.945357239716338\n",
    "# iters=3500, lr=0.02, CatBoost MAE Score: 4.049843291723955\n",
    "# iters=3500, lr=0.05, CatBoost MAE Score: 3.9769153953776546\n",
    "# iters=3500, lr=0.07, CatBoost MAE Score: 3.947205269139265\n",
    "# iters=3500, lr=0.1, CatBoost MAE Score: 3.9192260371734102\n",
    "# iters=4500, lr=0.02, CatBoost MAE Score: 4.026783032935908\n",
    "# iters=4500, lr=0.05, CatBoost MAE Score: 3.9564148356726743\n",
    "# iters=4500, lr=0.07, CatBoost MAE Score: 3.9280201377022457\n",
    "# iters=4500, lr=0.1, CatBoost MAE Score: 3.9000372543624953\n",
    "# iters=5500, lr=0.02, CatBoost MAE Score: 4.009688968194791\n",
    "# iters=5500, lr=0.05, CatBoost MAE Score: 3.942193598109401\n",
    "# iters=5500, lr=0.07, CatBoost MAE Score: 3.913565297332533\n",
    "# iters=5500, lr=0.1, CatBoost MAE Score: 3.8867024760785163\n",
    "# iters=6500, lr=0.02, CatBoost MAE Score: 3.995706885359131\n",
    "# iters=6500, lr=0.05, CatBoost MAE Score: 3.930118804001449\n",
    "# iters=6500, lr=0.07, CatBoost MAE Score: 3.9008648431146096\n",
    "# iters=6500, lr=0.1, CatBoost MAE Score: 3.8760939727521952\n",
    "\n",
    "# iters=7000, lr=0.1, CatBoost MAE Score: 3.8701849364646037\n",
    "# iters=7000, lr=0.2, CatBoost MAE Score: 3.832271018713966\n",
    "# iters=7000, lr=0.3, CatBoost MAE Score: 3.813999075250384\n",
    "# iters=8000, lr=0.1, CatBoost MAE Score: 3.8615182905510332\n",
    "# iters=8000, lr=0.2, CatBoost MAE Score: 3.8262070859664354\n",
    "# iters=8000, lr=0.3, CatBoost MAE Score: 3.807241460040403\n",
    "# iters=9000, lr=0.1, CatBoost MAE Score: 3.854176590436379\n",
    "# iters=9000, lr=0.2, CatBoost MAE Score: 3.819835918374386\n",
    "# iters=9000, lr=0.3, CatBoost MAE Score: 3.8026171830372437\n",
    "# iters=10000, lr=0.1, CatBoost MAE Score: 3.8471917412388086\n",
    "# iters=10000, lr=0.2, CatBoost MAE Score: 3.8155878816788293\n",
    "# iters=10000, lr=0.3, CatBoost MAE Score: 3.798745010106013\n",
    "\n",
    "# iters=400, lr=0.4, CatBoost MAE Score: 4.0003747902127005\n",
    "# iters=400, lr=0.5, CatBoost MAE Score: 3.978775740223764\n",
    "# iters=400, lr=0.6, CatBoost MAE Score: 3.9759579031274104\n",
    "# iters=2400, lr=0.4, CatBoost MAE Score: 3.863015566934512\n",
    "# iters=2400, lr=0.5, CatBoost MAE Score: 3.843572625507345\n",
    "# iters=2400, lr=0.6, CatBoost MAE Score: 3.832996544409944\n",
    "# iters=4400, lr=0.4, CatBoost MAE Score: 3.8271209282976675\n",
    "# iters=4400, lr=0.5, CatBoost MAE Score: 3.8173973166841293\n",
    "# iters=4400, lr=0.6, CatBoost MAE Score: 3.8070874148309573\n",
    "# iters=6400, lr=0.4, CatBoost MAE Score: 3.8084562255562036\n",
    "# iters=6400, lr=0.5, CatBoost MAE Score: 3.8010546875296916\n",
    "# iters=6400, lr=0.6, CatBoost MAE Score: 3.7936695403426497\n",
    "# iters=8400, lr=0.4, CatBoost MAE Score: 3.7975296940509082\n",
    "# iters=8400, lr=0.5, CatBoost MAE Score: 3.7908920298460234\n",
    "# iters=8400, lr=0.6, CatBoost MAE Score: 3.7870319032951114\n",
    "# iters=10400, lr=0.4, CatBoost MAE Score: 3.7900308113706846\n",
    "# iters=10400, lr=0.5, CatBoost MAE Score: 3.784820853620411\n",
    "# iters=10400, lr=0.6, CatBoost MAE Score: 3.781172960402657\n",
    "# iters=12000, lr=0.5, CatBoost MAE Score: 3.7815228260181173\n",
    "# iters=12000, lr=0.6, CatBoost MAE Score: 3.777218472858538\n",
    "# iters=12000, lr=0.7, CatBoost MAE Score: 3.78113783759607\n",
    "# iters=14000, lr=0.5, CatBoost MAE Score: 3.7779973919271335\n",
    "# iters=14000, lr=0.6, CatBoost MAE Score: 3.774235019577053\n",
    "# iters=14000, lr=0.7, CatBoost MAE Score: 3.778554786393208\n",
    "# iters=16000, lr=0.5, CatBoost MAE Score: 3.7751062068666092\n",
    "# iters=16000, lr=0.6, CatBoost MAE Score: 3.7718265432847127\n",
    "# iters=16000, lr=0.7, CatBoost MAE Score: 3.775893605520106\n",
    "# iters=18000, lr=0.5, CatBoost MAE Score: 3.7720468761497528\n",
    "# iters=18000, lr=0.6, CatBoost MAE Score: 3.7696176049907453\n",
    "# iters=18000, lr=0.7, CatBoost MAE Score: 3.772692310777104\n",
    "# iters=20000, lr=0.5, CatBoost MAE Score: 3.770537531969578\n",
    "# iters=20000, lr=0.6, CatBoost MAE Score: 3.7683620306766623"
   ]
  },
  {
   "cell_type": "markdown",
   "metadata": {},
   "source": [
    "### Final Model"
   ]
  },
  {
   "cell_type": "code",
   "execution_count": 12,
   "metadata": {
    "execution": {
     "iopub.execute_input": "2021-10-17T16:21:37.812399Z",
     "iopub.status.busy": "2021-10-17T16:21:37.812051Z",
     "iopub.status.idle": "2021-10-17T16:21:39.367887Z",
     "shell.execute_reply": "2021-10-17T16:21:39.366951Z",
     "shell.execute_reply.started": "2021-10-17T16:21:37.812356Z"
    }
   },
   "outputs": [
    {
     "data": {
      "text/plain": [
       "32         6.0\n",
       "33         6.0\n",
       "34         6.0\n",
       "35         6.0\n",
       "36         6.0\n",
       "          ... \n",
       "4023996    6.0\n",
       "4023997    6.0\n",
       "4023998    6.0\n",
       "4023999    6.0\n",
       "4024000    6.0\n",
       "Length: 2496435, dtype: float64"
      ]
     },
     "execution_count": 12,
     "metadata": {},
     "output_type": "execute_result"
    }
   ],
   "source": [
    "# create outpreds = average out value\n",
    "out_preds = np.ones(len(test_out))*6\n",
    "i = list(test_out.id)\n",
    "out_preds_s = pd.Series(out_preds,index = i)\n",
    "out_preds_s"
   ]
  },
  {
   "cell_type": "code",
   "execution_count": 13,
   "metadata": {
    "execution": {
     "iopub.execute_input": "2021-10-17T16:21:39.369534Z",
     "iopub.status.busy": "2021-10-17T16:21:39.369218Z",
     "iopub.status.idle": "2021-10-17T16:21:40.613930Z",
     "shell.execute_reply": "2021-10-17T16:21:40.612856Z",
     "shell.execute_reply.started": "2021-10-17T16:21:39.369494Z"
    }
   },
   "outputs": [
    {
     "ename": "NameError",
     "evalue": "name 'model_dt' is not defined",
     "output_type": "error",
     "traceback": [
      "\u001b[1;31m---------------------------------------------------------------------------\u001b[0m",
      "\u001b[1;31mNameError\u001b[0m                                 Traceback (most recent call last)",
      "\u001b[1;32m<ipython-input-13-0e3e4835d41f>\u001b[0m in \u001b[0;36m<module>\u001b[1;34m\u001b[0m\n\u001b[1;32m----> 1\u001b[1;33m \u001b[0mpred_final\u001b[0m \u001b[1;33m=\u001b[0m \u001b[0mmodel_dt\u001b[0m\u001b[1;33m.\u001b[0m\u001b[0mpredict\u001b[0m\u001b[1;33m(\u001b[0m\u001b[0mX_test_in\u001b[0m\u001b[1;33m)\u001b[0m\u001b[1;33m\u001b[0m\u001b[1;33m\u001b[0m\u001b[0m\n\u001b[0m\u001b[0;32m      2\u001b[0m \u001b[1;31m# add indexs to recombine with out preds\u001b[0m\u001b[1;33m\u001b[0m\u001b[1;33m\u001b[0m\u001b[1;33m\u001b[0m\u001b[0m\n\u001b[0;32m      3\u001b[0m \u001b[0mpred_final_s\u001b[0m \u001b[1;33m=\u001b[0m \u001b[0mpd\u001b[0m\u001b[1;33m.\u001b[0m\u001b[0mSeries\u001b[0m\u001b[1;33m(\u001b[0m\u001b[0mpred_final\u001b[0m\u001b[1;33m,\u001b[0m\u001b[0mindex\u001b[0m\u001b[1;33m=\u001b[0m\u001b[0mlist\u001b[0m\u001b[1;33m(\u001b[0m\u001b[0mtest_in\u001b[0m\u001b[1;33m.\u001b[0m\u001b[0mid\u001b[0m\u001b[1;33m)\u001b[0m\u001b[1;33m)\u001b[0m\u001b[1;33m\u001b[0m\u001b[1;33m\u001b[0m\u001b[0m\n\u001b[0;32m      4\u001b[0m \u001b[0mpred_final_s\u001b[0m\u001b[1;33m.\u001b[0m\u001b[0mhead\u001b[0m\u001b[1;33m(\u001b[0m\u001b[1;33m)\u001b[0m\u001b[1;33m\u001b[0m\u001b[1;33m\u001b[0m\u001b[0m\n",
      "\u001b[1;31mNameError\u001b[0m: name 'model_dt' is not defined"
     ]
    }
   ],
   "source": [
    "pred_final = model_dt.predict(X_test_in)\n",
    "# add indexs to recombine with out preds\n",
    "pred_final_s = pd.Series(pred_final,index=list(test_in.id))\n",
    "pred_final_s.head()"
   ]
  },
  {
   "cell_type": "code",
   "execution_count": null,
   "metadata": {
    "execution": {
     "iopub.execute_input": "2021-10-17T16:21:40.617155Z",
     "iopub.status.busy": "2021-10-17T16:21:40.616893Z",
     "iopub.status.idle": "2021-10-17T16:21:40.929002Z",
     "shell.execute_reply": "2021-10-17T16:21:40.928006Z",
     "shell.execute_reply.started": "2021-10-17T16:21:40.617128Z"
    }
   },
   "outputs": [],
   "source": [
    "both = pred_final_s.append(out_preds_s).sort_index()\n",
    "both.values"
   ]
  },
  {
   "cell_type": "code",
   "execution_count": null,
   "metadata": {
    "execution": {
     "iopub.execute_input": "2021-10-17T16:21:40.930913Z",
     "iopub.status.busy": "2021-10-17T16:21:40.930585Z",
     "iopub.status.idle": "2021-10-17T16:21:52.673630Z",
     "shell.execute_reply": "2021-10-17T16:21:52.672996Z",
     "shell.execute_reply.started": "2021-10-17T16:21:40.930872Z"
    }
   },
   "outputs": [],
   "source": [
    "output = pd.DataFrame({'id': test.id, 'pressure': both.values})\n",
    "output.to_csv('submission.csv', index=False)\n",
    "print(\"Submission saved!\")"
   ]
  },
  {
   "cell_type": "code",
   "execution_count": null,
   "metadata": {},
   "outputs": [],
   "source": []
  }
 ],
 "metadata": {
  "kernelspec": {
   "display_name": "Python 3 (ipykernel)",
   "language": "python",
   "name": "python3"
  },
  "language_info": {
   "codemirror_mode": {
    "name": "ipython",
    "version": 3
   },
   "file_extension": ".py",
   "mimetype": "text/x-python",
   "name": "python",
   "nbconvert_exporter": "python",
   "pygments_lexer": "ipython3",
   "version": "3.8.8"
  }
 },
 "nbformat": 4,
 "nbformat_minor": 4
}
