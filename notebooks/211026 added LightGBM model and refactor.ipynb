{
 "cells": [
  {
   "cell_type": "markdown",
   "metadata": {},
   "source": [
    "### This notebook is derived from forkv1-of-ventilator-24oct-baseline-v7\n",
    "\n",
    "### v7:\n",
    "    \n",
    "    * Run equation parameter investigation on laptop\n",
    "        * R(1-e**-M*time/tot_time), where -M could be multiples of R and C\n",
    "        * initial test with varying exponential values didn't produce much change.  Save\n",
    "        * lots more trials on 10/26 to try and optimize the spring functions with no luck.\n",
    "        * added lightgbm model, which gives lower scores than catboost, but submissions are whacked.\n",
    "        * saving this version in a buggy state, but refactor on next iteration.\n",
    "        \n",
    "        * maybe delta from mean\n",
    "        * derivative squared?\n",
    "        * Need to ensure starting values are right...shift breath_id also...start with that\n",
    "\n",
    "### v6:\n",
    "    * add u_in exponential R(1-e**-1uin/max_uin.)\n",
    "        * maybe use C as multiplier instead of R and experiment with e ratios\n",
    "        * didn't get great improvement. Maybe relook at physics.\n",
    "    * next, add log of u_in feature? Had issues with zeros.  \n",
    "\n",
    "### v5:\n",
    "\n",
    "   * Add RC feature (with spring above at .5): 1.0432, .780\n",
    "   * Add R/C feature (with eqn above at .5): 1.027, .7752\n",
    "   * Add C/R feature also (with eqn above at .5):  1.0276, .7743\n",
    "   * added breath_id back: 1.0316, .77345\n",
    "   * with second deriv = 1.013, .741  some improvement!  But why doesn't the corr reflect this?\n",
    "   * catboost 10000 iterations: .677 !!! It is starting to increase better at higher iterations\n",
    "   * 20000 iterations: .637 approaching the RF score (.61)\n",
    "   * 30000 iterations! depth=6, .5887!!  But leaderboard was .70!  \n",
    "       * **I guess that means overfitting!\n",
    "   * with 3rd deriv and u_in_squared added: 1.0117, .7363, try rf: .50277 vs. .5846 lb...best so far\n",
    "     * baselining for v5\n",
    "\n",
    "### Previous Versions\n",
    "\n",
    "Adding max u_in feature helped score from  ~.75 to ~.65.\n",
    "\n",
    "Pipeline is:\n",
    "* reduce memory\n",
    "* split into two sets\n",
    "* add features: max_time, max_u_in, dt, u_in_slope, u_in_area\n",
    "\n",
    "Fork v1 adds u_in_ratio feature\n",
    "* catboost drops a little 1.09 to ~1.065 ,didnt run rf.\n",
    "\n",
    "Add 1/area feature since R decreases with increasing lung volume\n",
    "   * helps a little, not much\n",
    "   * with 1/R*area: 1.0727, .808181 \n",
    " \n",
    "v4?\n",
    "Add R(1-np.exp(-1*t/t_max)\n",
    "   * spring R(1-np.exp(-1*time/time_max)): 1.0661, .7899\n",
    "   * spring R(1-np.exp(-2*time/time_max)): 1.0612, .7857\n",
    "   * spring R(1-np.exp(-3*time/time_max)): 1.0551, .7868\n",
    "   * spring R(1-np.exp(-5*time/time_max)): 1.0575, .7847\n",
    "   * spring R(1-np.exp(-R*time/time_max)): 1.0529, .7877\n",
    "   * spring R(1-np.exp(-.5*R*time/time_max)): 1.0541, .7842\n",
    "   * spring R(1-np.exp(-.2*R*time/time_max)): 1.0549, .7854\n"
   ]
  },
  {
   "cell_type": "markdown",
   "metadata": {},
   "source": [
    "# Libraries"
   ]
  },
  {
   "cell_type": "code",
   "execution_count": 1,
   "metadata": {
    "execution": {
     "iopub.execute_input": "2021-10-22T16:59:47.653466Z",
     "iopub.status.busy": "2021-10-22T16:59:47.652792Z",
     "iopub.status.idle": "2021-10-22T16:59:47.658457Z",
     "shell.execute_reply": "2021-10-22T16:59:47.657596Z",
     "shell.execute_reply.started": "2021-10-22T16:59:47.653426Z"
    }
   },
   "outputs": [],
   "source": [
    "import pandas as pd\n",
    "import numpy as np\n",
    "import matplotlib.pyplot as plt\n",
    "import seaborn as sns\n",
    "sns.set_style('whitegrid')\n",
    "import platform\n",
    "pd.options.mode.chained_assignment = None"
   ]
  },
  {
   "cell_type": "markdown",
   "metadata": {},
   "source": [
    "# Functions"
   ]
  },
  {
   "cell_type": "markdown",
   "metadata": {},
   "source": [
    "# Load Files"
   ]
  },
  {
   "cell_type": "code",
   "execution_count": 2,
   "metadata": {
    "execution": {
     "iopub.execute_input": "2021-10-22T16:59:54.066724Z",
     "iopub.status.busy": "2021-10-22T16:59:54.064146Z",
     "iopub.status.idle": "2021-10-22T17:00:01.672161Z",
     "shell.execute_reply": "2021-10-22T17:00:01.670519Z",
     "shell.execute_reply.started": "2021-10-22T16:59:54.066680Z"
    }
   },
   "outputs": [
    {
     "name": "stdout",
     "output_type": "stream",
     "text": [
      "Wall time: 4.9 s\n"
     ]
    }
   ],
   "source": [
    "%%time\n",
    "# Load files\n",
    "if platform.system() == 'Windows' and platform.release() == '7':\n",
    "    drive = 'F'\n",
    "elif platform.system() == 'Windows' and platform.release() == '10':\n",
    "    drive = 'C'\n",
    "    \n",
    "train = pd.read_csv(drive + r':\\Sync\\Work\\Kaggle Competitions\\Ventilator Pressure Prediction\\Data\\train.csv')\n",
    "test = pd.read_csv(drive + r':\\Sync\\Work\\Kaggle Competitions\\Ventilator Pressure Prediction\\Data\\test.csv')\n",
    "    \n",
    "#train = pd.read_csv('../input/ventilator-pressure-prediction/train.csv')\n",
    "#test = pd.read_csv('../input/ventilator-pressure-prediction/test.csv')\n",
    "\n",
    "y = train['pressure']\n"
   ]
  },
  {
   "cell_type": "markdown",
   "metadata": {},
   "source": [
    "# Memory Reduction"
   ]
  },
  {
   "cell_type": "code",
   "execution_count": 3,
   "metadata": {
    "execution": {
     "iopub.execute_input": "2021-10-22T17:00:01.674284Z",
     "iopub.status.busy": "2021-10-22T17:00:01.673976Z",
     "iopub.status.idle": "2021-10-22T17:00:01.681060Z",
     "shell.execute_reply": "2021-10-22T17:00:01.680097Z",
     "shell.execute_reply.started": "2021-10-22T17:00:01.674231Z"
    }
   },
   "outputs": [],
   "source": [
    "# down convert columns to save memory...\n",
    "def reduce_memory(df):\n",
    "    \n",
    "    print(f'Initial memory usage: {df.memory_usage().sum()/1024**2:0.1f}GB')\n",
    "    df['id'] = df['id'].astype(np.int32)\n",
    "    df['breath_id'] = df['breath_id'].astype(np.int32)\n",
    "    df['R'] = df['R'].astype(np.int8)  #or OHC?\n",
    "    df['C'] = df['C'].astype(np.int8)\n",
    "    df['u_out'] = df['u_out'].astype(np.int8)\n",
    "    df['u_in'] = df['u_in'].astype(np.float32)\n",
    "    df['time_step'] = df['time_step'].astype(np.float32)\n",
    "    print(f'New memory usage: {df.memory_usage().sum()/1024**2:0.1f}GB')\n",
    "    \n",
    "    # somewhere else I printed out a reduction as well.\n",
    "    \n",
    "#     for col in test.columns:\n",
    "#         print(test[col].dtype)"
   ]
  },
  {
   "cell_type": "code",
   "execution_count": 4,
   "metadata": {
    "execution": {
     "iopub.execute_input": "2021-10-22T17:00:01.682980Z",
     "iopub.status.busy": "2021-10-22T17:00:01.682685Z",
     "iopub.status.idle": "2021-10-22T17:00:02.170266Z",
     "shell.execute_reply": "2021-10-22T17:00:02.169426Z",
     "shell.execute_reply.started": "2021-10-22T17:00:01.682946Z"
    }
   },
   "outputs": [
    {
     "name": "stdout",
     "output_type": "stream",
     "text": [
      "Train:\n",
      "Initial memory usage: 368.4GB\n",
      "New memory usage: 155.4GB\n",
      "Test:\n",
      "Initial memory usage: 214.9GB\n",
      "New memory usage: 72.9GB\n"
     ]
    }
   ],
   "source": [
    "print('Train:')\n",
    "reduce_memory(train)\n",
    "print('Test:')\n",
    "reduce_memory(test)\n"
   ]
  },
  {
   "cell_type": "markdown",
   "metadata": {},
   "source": [
    "# Split data into inhalitory and exhalitory phase (only scored on inhale)"
   ]
  },
  {
   "cell_type": "code",
   "execution_count": 5,
   "metadata": {
    "execution": {
     "iopub.execute_input": "2021-10-22T17:15:32.578055Z",
     "iopub.status.busy": "2021-10-22T17:15:32.577801Z",
     "iopub.status.idle": "2021-10-22T17:15:32.814947Z",
     "shell.execute_reply": "2021-10-22T17:15:32.814202Z",
     "shell.execute_reply.started": "2021-10-22T17:15:32.578027Z"
    }
   },
   "outputs": [],
   "source": [
    "train_in = train[train.u_out == 0]\n",
    "test_in = test[test.u_out == 0]\n",
    "y_in = train_in['pressure']\n",
    "\n",
    "train_out = train[train.u_out == 1]\n",
    "test_out = test[test.u_out == 1]"
   ]
  },
  {
   "cell_type": "markdown",
   "metadata": {},
   "source": [
    "### Get indicies of valid breaths, and indicies of transition"
   ]
  },
  {
   "cell_type": "code",
   "execution_count": 6,
   "metadata": {
    "execution": {
     "iopub.execute_input": "2021-10-22T17:15:33.267791Z",
     "iopub.status.busy": "2021-10-22T17:15:33.267022Z",
     "iopub.status.idle": "2021-10-22T17:15:33.313842Z",
     "shell.execute_reply": "2021-10-22T17:15:33.313140Z",
     "shell.execute_reply.started": "2021-10-22T17:15:33.267752Z"
    }
   },
   "outputs": [],
   "source": [
    "#check for infinite or nan values\n",
    "\n",
    "#train_in.inv_area.isinf().sum()\n",
    "#np.isinf(train_in).values.sum()"
   ]
  },
  {
   "cell_type": "markdown",
   "metadata": {},
   "source": [
    "#  Add Features\n",
    "\n",
    "    1. Apply lag shift (tested shift =1 ) \n",
    "        Shift = 2 performs better (2.37 vs. 2.0x)\n",
    "    2. Add differentials for dt and du_in\n",
    "    3. Add integral column for d_uin\n",
    "\n"
   ]
  },
  {
   "cell_type": "markdown",
   "metadata": {},
   "source": [
    "### Apply lag shift, Add Differential, Integral, and other Features"
   ]
  },
  {
   "cell_type": "code",
   "execution_count": 7,
   "metadata": {
    "execution": {
     "iopub.execute_input": "2021-10-22T17:15:34.835678Z",
     "iopub.status.busy": "2021-10-22T17:15:34.834969Z",
     "iopub.status.idle": "2021-10-22T17:15:35.611227Z",
     "shell.execute_reply": "2021-10-22T17:15:35.610439Z",
     "shell.execute_reply.started": "2021-10-22T17:15:34.835635Z"
    }
   },
   "outputs": [],
   "source": [
    "# def apply_features(df,ushift):\n",
    "    \n",
    "#     # apply lag shift\n",
    "#     shift = ushift\n",
    "#     u_in_lag = df.u_in.shift(shift,fill_value=0)\n",
    "#     df.loc[:,'u_in_lag'] = u_in_lag.copy()\n",
    "\n",
    "#     # max/min features\n",
    "#     df[\"max_u_in\"] = df.groupby(\"breath_id\")[\"u_in\"].transform(\"max\")\n",
    "#     df[\"max_time\"] = df.groupby(\"breath_id\")[\"time_step\"].transform(\"max\")\n",
    "    \n",
    "#     # ratios\n",
    "#     df[\"u_in_ratio\"] = df.u_in/df.max_u_in\n",
    "#     df[\"u_in_ratio\"] = df.u_in_ratio.fillna(0)\n",
    "#     df['RC'] = df.R * df.C\n",
    "#     df['RoverC'] = df.R/df.C\n",
    "#     df['CoverR'] = df.C/df.R\n",
    "    \n",
    "#     # dt\n",
    "#     df['dt'] = df['time_step'].diff()\n",
    "#     df['dt'].fillna(0, inplace=True)  # no na values so not needed\n",
    "#     df['dt'].mask(df['dt'] < 0,0,inplace=True) #df.groupby('breath_id')['dt'].mean(), inplace=True)  #makes\n",
    "    \n",
    "#     # derivatives   \n",
    "#     df['du_in'] = df['u_in_lag'].diff()  # then look where time delta is 0 and make this 0 also\n",
    "#     df['du_in'].mask(df['dt'] == 0, 0, inplace=True)\n",
    "#     #df['dt'].fillna(0, inplace=True)\n",
    "#     df['du2_in'] = df['du_in'].diff()\n",
    "#     df['du2_in'].mask(df['dt'] == 0, 0, inplace=True)\n",
    "#     df['du3_in'] = df['du2_in'].diff()\n",
    "#     df['du3_in'].mask(df['dt'] == 0, 0, inplace=True)\n",
    "\n",
    "#     # integration\n",
    "#     df['d_area'] = np.sqrt(df['dt'] * df['u_in_lag'])\n",
    "#     df['u_in_area'] = df.groupby('breath_id')['d_area'].cumsum()#.shift(1,fill_value=0)\n",
    "#     df['inv_area'] = train_in.C/df['u_in_area']\n",
    "#     df.replace([np.inf, -np.inf], np.nan, inplace=True)\n",
    "#     df['inv_area'].fillna(0, inplace=True)\n",
    "#     df['u_in_sq'] = df.u_in_lag * df.u_in_lag\n",
    "#     df['u_in_cube'] = df.u_in_lag**3/1000\n",
    "#     df['u_in_ts'] = df.u_in_lag*df.time_step\n",
    "\n",
    "#     # formulas\n",
    "#     df['R_spring'] = df.R*(1-np.exp((-.32*df.R*df.time_step)/(df.max_time)))\n",
    "#     df['U_spring'] = df.C*(1-np.exp((-.08*df.C*df.u_in_lag)/(df.max_u_in)))\n",
    "#     df.replace([np.inf, -np.inf], np.nan, inplace=True)\n",
    "#     df['R_spring'].fillna(0, inplace=True)\n",
    "#     df['U_spring'].fillna(0, inplace=True)\n",
    "\n",
    "#     # Drop unused axes\n",
    "#     #df.drop(['d_area'],axis=1,inplace=True)\n",
    "#     df.drop(['u_in'],axis=1,inplace=True)\n"
   ]
  },
  {
   "cell_type": "code",
   "execution_count": 8,
   "metadata": {},
   "outputs": [],
   "source": [
    "# older version - is this the culprit?\n",
    "def apply_features(df,ushift):\n",
    "    \n",
    "    # apply lag shift\n",
    "    shift = ushift\n",
    "    u_in_lag = df.u_in.shift(shift,fill_value=0)\n",
    "    df.loc[:,'u_in_lag'] = u_in_lag.copy()\n",
    "\n",
    "    # max/min/mean features\n",
    "    df[\"max_u_in\"] = df.groupby(\"breath_id\")[\"u_in\"].transform(\"max\")\n",
    "    df[\"max_time\"] = df.groupby(\"breath_id\")[\"time_step\"].transform(\"max\")\n",
    "    df['mean_u_in'] = df.groupby(\"breath_id\")[\"u_in\"].transform(\"mean\")\n",
    "    \n",
    "    # ratios\n",
    "    df[\"u_in_ratio\"] = df.u_in/df.max_u_in\n",
    "    df[\"u_in_ratio\"] = df.u_in_ratio.fillna(0)\n",
    "    df['RC'] = df.R * df.C\n",
    "    df['RoverC'] = df.R/df.C\n",
    "    df['CoverR'] = df.C/df.R\n",
    "    \n",
    "    # dt\n",
    "    df['dt'] = df['time_step'].diff()\n",
    "    df['dt'].fillna(0, inplace=True)  # no na values so not needed\n",
    "    df['dt'].mask(df['dt'] < 0,0,inplace=True) #df.groupby('breath_id')['dt'].mean(), inplace=True)  #makes\n",
    "    \n",
    "    # derivatives   \n",
    "    df['du_in'] = df['u_in_lag'].diff()  # then look where time delta is 0 and make this 0 also\n",
    "    df['du_in'].mask(df['dt'] == 0, 0, inplace=True)\n",
    "    #df['dt'].fillna(0, inplace=True)\n",
    "    df['du2_in'] = df['du_in'].diff()\n",
    "    df['du2_in'].mask(df['dt'] == 0, 0, inplace=True)\n",
    "    df['du3_in'] = df['du2_in'].diff()\n",
    "    df['du3_in'].mask(df['dt'] == 0, 0, inplace=True)\n",
    "\n",
    "    # integration\n",
    "    df['d_area'] = df['dt'] * df['u_in_lag']\n",
    "    df['u_in_area'] = df.groupby('breath_id')['d_area'].cumsum()#.shift(1,fill_value=0)\n",
    "    df['inv_area'] = 1/(df.C*df['u_in_area'])\n",
    "    df.replace([np.inf, -np.inf], np.nan, inplace=True)\n",
    "    df['inv_area'].fillna(0, inplace=True)\n",
    "    df['u_in_sq'] = df.u_in_lag * df.u_in_lag\n",
    "    df['u_in_cube'] = df.u_in_lag**3/1000\n",
    "    df['u_in_ts'] = df.u_in_lag*df.time_step\n",
    "    \n",
    "    # formulas\n",
    "    df['R_spring'] = df.R*(1-np.exp((-.5*df.R*df.time_step)/df.max_time))\n",
    "    df['U_spring'] = df.C*(1-np.exp((-.05*df.C*df.u_in_lag)/df.max_u_in))\n",
    "    df['R_spring'].fillna(0, inplace=True)\n",
    "    df['U_spring'].fillna(0, inplace=True)\n",
    "\n",
    "    # Drop unused axes\n",
    "    df.drop(['d_area'],axis=1,inplace=True)\n",
    "    df.drop(['u_in'],axis=1,inplace=True)\n"
   ]
  },
  {
   "cell_type": "code",
   "execution_count": 9,
   "metadata": {},
   "outputs": [],
   "source": [
    "apply_features(train_in,1)\n",
    "apply_features(test_in,1)"
   ]
  },
  {
   "cell_type": "code",
   "execution_count": 10,
   "metadata": {},
   "outputs": [
    {
     "data": {
      "text/plain": [
       "id            0\n",
       "breath_id     0\n",
       "R             0\n",
       "C             0\n",
       "time_step     0\n",
       "u_out         0\n",
       "pressure      0\n",
       "u_in_lag      0\n",
       "max_u_in      0\n",
       "max_time      0\n",
       "mean_u_in     0\n",
       "u_in_ratio    0\n",
       "RC            0\n",
       "RoverC        0\n",
       "CoverR        0\n",
       "dt            0\n",
       "du_in         0\n",
       "du2_in        0\n",
       "du3_in        0\n",
       "u_in_area     0\n",
       "inv_area      0\n",
       "u_in_sq       0\n",
       "u_in_cube     0\n",
       "u_in_ts       0\n",
       "R_spring      0\n",
       "U_spring      0\n",
       "dtype: int64"
      ]
     },
     "execution_count": 10,
     "metadata": {},
     "output_type": "execute_result"
    }
   ],
   "source": [
    "np.isinf(train_in).values.sum()\n",
    "train_in.isna().sum()"
   ]
  },
  {
   "cell_type": "code",
   "execution_count": 11,
   "metadata": {},
   "outputs": [
    {
     "data": {
      "text/plain": [
       "pressure      1.000000\n",
       "u_in_area     0.585563\n",
       "max_u_in      0.490235\n",
       "time_step     0.415618\n",
       "u_in_ts       0.390139\n",
       "mean_u_in     0.363162\n",
       "u_in_lag      0.234325\n",
       "u_in_ratio    0.210349\n",
       "dt            0.209990\n",
       "du_in         0.178145\n",
       "u_in_sq       0.169986\n",
       "R_spring      0.156230\n",
       "du2_in        0.139938\n",
       "CoverR        0.129317\n",
       "u_in_cube     0.127530\n",
       "C             0.098407\n",
       "du3_in        0.078225\n",
       "U_spring      0.055857\n",
       "R             0.053629\n",
       "max_time      0.047496\n",
       "RoverC        0.043455\n",
       "RC            0.039064\n",
       "id            0.004680\n",
       "breath_id     0.004680\n",
       "inv_area      0.002966\n",
       "u_out              NaN\n",
       "dtype: float64"
      ]
     },
     "execution_count": 11,
     "metadata": {},
     "output_type": "execute_result"
    }
   ],
   "source": [
    "# this doesn't seem to be useful in selecting features.\n",
    "#plt.figure(figsize=(17,15))\n",
    "#sns.heatmap(train_in.corr(),annot=True)\n",
    "#plt.savefig('heatmap',dpi=300)\n",
    "np.abs(train_in.corrwith(y_in)).sort_values(ascending=False)"
   ]
  },
  {
   "cell_type": "code",
   "execution_count": 12,
   "metadata": {},
   "outputs": [],
   "source": [
    "#test_in.u_out.isna().sum()"
   ]
  },
  {
   "cell_type": "markdown",
   "metadata": {},
   "source": [
    "Visualize features"
   ]
  },
  {
   "cell_type": "code",
   "execution_count": 13,
   "metadata": {
    "execution": {
     "iopub.execute_input": "2021-10-22T17:15:37.380770Z",
     "iopub.status.busy": "2021-10-22T17:15:37.380359Z",
     "iopub.status.idle": "2021-10-22T17:15:37.452890Z",
     "shell.execute_reply": "2021-10-22T17:15:37.452146Z",
     "shell.execute_reply.started": "2021-10-22T17:15:37.380742Z"
    }
   },
   "outputs": [
    {
     "data": {
      "text/plain": [
       "[<matplotlib.lines.Line2D at 0x2610deda2b0>]"
      ]
     },
     "execution_count": 13,
     "metadata": {},
     "output_type": "execute_result"
    },
    {
     "data": {
      "image/png": "[encoded data removed]",
      "text/plain": [
       "<Figure size 432x288 with 1 Axes>"
      ]
     },
     "metadata": {},
     "output_type": "display_data"
    }
   ],
   "source": [
    "\n",
    "plt.plot(train_in.R_spring[0:100])\n"
   ]
  },
  {
   "cell_type": "code",
   "execution_count": 14,
   "metadata": {},
   "outputs": [
    {
     "data": {
      "text/plain": [
       "[<matplotlib.lines.Line2D at 0x2610dfa83a0>]"
      ]
     },
     "execution_count": 14,
     "metadata": {},
     "output_type": "execute_result"
    },
    {
     "data": {
      "image/png": "[encoded data removed]",
      "text/plain": [
       "<Figure size 432x288 with 1 Axes>"
      ]
     },
     "metadata": {},
     "output_type": "display_data"
    }
   ],
   "source": [
    "plt.plot(train_in.u_in_area[0:100])"
   ]
  },
  {
   "cell_type": "code",
   "execution_count": 15,
   "metadata": {},
   "outputs": [
    {
     "data": {
      "text/plain": [
       "[<matplotlib.lines.Line2D at 0x2610dffb670>]"
      ]
     },
     "execution_count": 15,
     "metadata": {},
     "output_type": "execute_result"
    },
    {
     "data": {
      "image/png": "[encoded data removed]",
      "text/plain": [
       "<Figure size 432x288 with 1 Axes>"
      ]
     },
     "metadata": {},
     "output_type": "display_data"
    }
   ],
   "source": [
    "plt.plot(train_in.du3_in[0:200])"
   ]
  },
  {
   "cell_type": "code",
   "execution_count": 16,
   "metadata": {},
   "outputs": [
    {
     "data": {
      "text/plain": [
       "[<matplotlib.lines.Line2D at 0x2610e048e20>]"
      ]
     },
     "execution_count": 16,
     "metadata": {},
     "output_type": "execute_result"
    },
    {
     "data": {
      "image/png": "[encoded data removed]",
      "text/plain": [
       "<Figure size 432x288 with 1 Axes>"
      ]
     },
     "metadata": {},
     "output_type": "display_data"
    }
   ],
   "source": [
    "plt.plot(train_in.u_in_ts[0:100])"
   ]
  },
  {
   "cell_type": "code",
   "execution_count": 17,
   "metadata": {},
   "outputs": [
    {
     "data": {
      "text/plain": [
       "[<matplotlib.lines.Line2D at 0x2610e0ad130>]"
      ]
     },
     "execution_count": 17,
     "metadata": {},
     "output_type": "execute_result"
    },
    {
     "data": {
      "image/png": "[encoded data removed]",
      "text/plain": [
       "<Figure size 432x288 with 1 Axes>"
      ]
     },
     "metadata": {},
     "output_type": "display_data"
    }
   ],
   "source": [
    "plt.plot(train_in.U_spring[0:100])"
   ]
  },
  {
   "cell_type": "code",
   "execution_count": 18,
   "metadata": {
    "execution": {
     "iopub.execute_input": "2021-10-22T17:15:38.222994Z",
     "iopub.status.busy": "2021-10-22T17:15:38.222144Z",
     "iopub.status.idle": "2021-10-22T17:15:38.239969Z",
     "shell.execute_reply": "2021-10-22T17:15:38.239192Z",
     "shell.execute_reply.started": "2021-10-22T17:15:38.222956Z"
    }
   },
   "outputs": [],
   "source": [
    "#train_in.head(33)"
   ]
  },
  {
   "cell_type": "code",
   "execution_count": null,
   "metadata": {},
   "outputs": [],
   "source": []
  },
  {
   "cell_type": "markdown",
   "metadata": {},
   "source": [
    "# Model"
   ]
  },
  {
   "cell_type": "code",
   "execution_count": 19,
   "metadata": {
    "execution": {
     "iopub.execute_input": "2021-10-22T17:15:39.802719Z",
     "iopub.status.busy": "2021-10-22T17:15:39.802214Z",
     "iopub.status.idle": "2021-10-22T17:15:39.808086Z",
     "shell.execute_reply": "2021-10-22T17:15:39.807304Z",
     "shell.execute_reply.started": "2021-10-22T17:15:39.802683Z"
    }
   },
   "outputs": [],
   "source": [
    "from sklearn.metrics import mean_absolute_error  #confusion_matrix, classification_report"
   ]
  },
  {
   "cell_type": "markdown",
   "metadata": {},
   "source": [
    "## Need to ditch split and go to cross validation"
   ]
  },
  {
   "cell_type": "code",
   "execution_count": 20,
   "metadata": {
    "execution": {
     "iopub.execute_input": "2021-10-22T17:15:42.047580Z",
     "iopub.status.busy": "2021-10-22T17:15:42.046938Z",
     "iopub.status.idle": "2021-10-22T17:15:42.640235Z",
     "shell.execute_reply": "2021-10-22T17:15:42.639476Z",
     "shell.execute_reply.started": "2021-10-22T17:15:42.047549Z"
    }
   },
   "outputs": [],
   "source": [
    "# Split data - after all analysis is done\n",
    "from sklearn.model_selection import train_test_split\n",
    "\n",
    "train_in.drop(columns = ['id','u_out','pressure'], inplace = True)\n",
    "#test = test.drop(columns = 'id', inplace = True)\n",
    "\n",
    "X_train, X_valid, y_train, y_valid = train_test_split(train_in, y_in, train_size=0.8, test_size=0.2,\n",
    "                                                      random_state=12)\n",
    "X_test_in = test_in.drop(columns=['id','u_out'],inplace=False)"
   ]
  },
  {
   "cell_type": "code",
   "execution_count": 21,
   "metadata": {},
   "outputs": [
    {
     "data": {
      "text/html": [
       "<div>\n",
       "<style scoped>\n",
       "    .dataframe tbody tr th:only-of-type {\n",
       "        vertical-align: middle;\n",
       "    }\n",
       "\n",
       "    .dataframe tbody tr th {\n",
       "        vertical-align: top;\n",
       "    }\n",
       "\n",
       "    .dataframe thead th {\n",
       "        text-align: right;\n",
       "    }\n",
       "</style>\n",
       "<table border=\"1\" class=\"dataframe\">\n",
       "  <thead>\n",
       "    <tr style=\"text-align: right;\">\n",
       "      <th></th>\n",
       "      <th>id</th>\n",
       "      <th>breath_id</th>\n",
       "      <th>R</th>\n",
       "      <th>C</th>\n",
       "      <th>time_step</th>\n",
       "      <th>u_out</th>\n",
       "      <th>u_in_lag</th>\n",
       "      <th>max_u_in</th>\n",
       "      <th>max_time</th>\n",
       "      <th>mean_u_in</th>\n",
       "      <th>...</th>\n",
       "      <th>du_in</th>\n",
       "      <th>du2_in</th>\n",
       "      <th>du3_in</th>\n",
       "      <th>u_in_area</th>\n",
       "      <th>inv_area</th>\n",
       "      <th>u_in_sq</th>\n",
       "      <th>u_in_cube</th>\n",
       "      <th>u_in_ts</th>\n",
       "      <th>R_spring</th>\n",
       "      <th>U_spring</th>\n",
       "    </tr>\n",
       "  </thead>\n",
       "  <tbody>\n",
       "    <tr>\n",
       "      <th>0</th>\n",
       "      <td>1</td>\n",
       "      <td>0</td>\n",
       "      <td>5</td>\n",
       "      <td>20</td>\n",
       "      <td>0.000000</td>\n",
       "      <td>0</td>\n",
       "      <td>0.000000</td>\n",
       "      <td>37.542217</td>\n",
       "      <td>0.957189</td>\n",
       "      <td>19.702023</td>\n",
       "      <td>...</td>\n",
       "      <td>0.000000</td>\n",
       "      <td>0.000000</td>\n",
       "      <td>0.000000</td>\n",
       "      <td>0.000000</td>\n",
       "      <td>0.000000</td>\n",
       "      <td>0.000000</td>\n",
       "      <td>0.000000</td>\n",
       "      <td>0.000000</td>\n",
       "      <td>0.000000</td>\n",
       "      <td>0.000000</td>\n",
       "    </tr>\n",
       "    <tr>\n",
       "      <th>1</th>\n",
       "      <td>2</td>\n",
       "      <td>0</td>\n",
       "      <td>5</td>\n",
       "      <td>20</td>\n",
       "      <td>0.031904</td>\n",
       "      <td>0</td>\n",
       "      <td>0.000000</td>\n",
       "      <td>37.542217</td>\n",
       "      <td>0.957189</td>\n",
       "      <td>19.702023</td>\n",
       "      <td>...</td>\n",
       "      <td>0.000000</td>\n",
       "      <td>0.000000</td>\n",
       "      <td>0.000000</td>\n",
       "      <td>0.000000</td>\n",
       "      <td>0.000000</td>\n",
       "      <td>0.000000</td>\n",
       "      <td>0.000000</td>\n",
       "      <td>0.000000</td>\n",
       "      <td>0.399747</td>\n",
       "      <td>0.000000</td>\n",
       "    </tr>\n",
       "    <tr>\n",
       "      <th>2</th>\n",
       "      <td>3</td>\n",
       "      <td>0</td>\n",
       "      <td>5</td>\n",
       "      <td>20</td>\n",
       "      <td>0.063827</td>\n",
       "      <td>0</td>\n",
       "      <td>7.515046</td>\n",
       "      <td>37.542217</td>\n",
       "      <td>0.957189</td>\n",
       "      <td>19.702023</td>\n",
       "      <td>...</td>\n",
       "      <td>7.515046</td>\n",
       "      <td>7.515046</td>\n",
       "      <td>7.515046</td>\n",
       "      <td>0.239907</td>\n",
       "      <td>0.208414</td>\n",
       "      <td>56.475910</td>\n",
       "      <td>0.424419</td>\n",
       "      <td>0.479665</td>\n",
       "      <td>0.767754</td>\n",
       "      <td>3.628264</td>\n",
       "    </tr>\n",
       "    <tr>\n",
       "      <th>3</th>\n",
       "      <td>4</td>\n",
       "      <td>0</td>\n",
       "      <td>5</td>\n",
       "      <td>20</td>\n",
       "      <td>0.095751</td>\n",
       "      <td>0</td>\n",
       "      <td>14.651675</td>\n",
       "      <td>37.542217</td>\n",
       "      <td>0.957189</td>\n",
       "      <td>19.702023</td>\n",
       "      <td>...</td>\n",
       "      <td>7.136630</td>\n",
       "      <td>-0.378416</td>\n",
       "      <td>-7.893462</td>\n",
       "      <td>0.707644</td>\n",
       "      <td>0.070657</td>\n",
       "      <td>214.671585</td>\n",
       "      <td>3.145298</td>\n",
       "      <td>1.402913</td>\n",
       "      <td>1.106323</td>\n",
       "      <td>6.462545</td>\n",
       "    </tr>\n",
       "    <tr>\n",
       "      <th>4</th>\n",
       "      <td>5</td>\n",
       "      <td>0</td>\n",
       "      <td>5</td>\n",
       "      <td>20</td>\n",
       "      <td>0.127644</td>\n",
       "      <td>0</td>\n",
       "      <td>21.230610</td>\n",
       "      <td>37.542217</td>\n",
       "      <td>0.957189</td>\n",
       "      <td>19.702023</td>\n",
       "      <td>...</td>\n",
       "      <td>6.578935</td>\n",
       "      <td>-0.557695</td>\n",
       "      <td>-0.179279</td>\n",
       "      <td>1.384742</td>\n",
       "      <td>0.036108</td>\n",
       "      <td>450.738800</td>\n",
       "      <td>9.569460</td>\n",
       "      <td>2.709951</td>\n",
       "      <td>1.417515</td>\n",
       "      <td>8.638626</td>\n",
       "    </tr>\n",
       "    <tr>\n",
       "      <th>...</th>\n",
       "      <td>...</td>\n",
       "      <td>...</td>\n",
       "      <td>...</td>\n",
       "      <td>...</td>\n",
       "      <td>...</td>\n",
       "      <td>...</td>\n",
       "      <td>...</td>\n",
       "      <td>...</td>\n",
       "      <td>...</td>\n",
       "      <td>...</td>\n",
       "      <td>...</td>\n",
       "      <td>...</td>\n",
       "      <td>...</td>\n",
       "      <td>...</td>\n",
       "      <td>...</td>\n",
       "      <td>...</td>\n",
       "      <td>...</td>\n",
       "      <td>...</td>\n",
       "      <td>...</td>\n",
       "      <td>...</td>\n",
       "      <td>...</td>\n",
       "    </tr>\n",
       "    <tr>\n",
       "      <th>4023945</th>\n",
       "      <td>4023946</td>\n",
       "      <td>125748</td>\n",
       "      <td>20</td>\n",
       "      <td>10</td>\n",
       "      <td>0.842145</td>\n",
       "      <td>0</td>\n",
       "      <td>0.000000</td>\n",
       "      <td>35.151390</td>\n",
       "      <td>0.976815</td>\n",
       "      <td>2.298701</td>\n",
       "      <td>...</td>\n",
       "      <td>0.000000</td>\n",
       "      <td>0.000000</td>\n",
       "      <td>0.000000</td>\n",
       "      <td>2.319345</td>\n",
       "      <td>0.043116</td>\n",
       "      <td>0.000000</td>\n",
       "      <td>0.000000</td>\n",
       "      <td>0.000000</td>\n",
       "      <td>19.996396</td>\n",
       "      <td>0.000000</td>\n",
       "    </tr>\n",
       "    <tr>\n",
       "      <th>4023946</th>\n",
       "      <td>4023947</td>\n",
       "      <td>125748</td>\n",
       "      <td>20</td>\n",
       "      <td>10</td>\n",
       "      <td>0.875648</td>\n",
       "      <td>0</td>\n",
       "      <td>0.000000</td>\n",
       "      <td>35.151390</td>\n",
       "      <td>0.976815</td>\n",
       "      <td>2.298701</td>\n",
       "      <td>...</td>\n",
       "      <td>0.000000</td>\n",
       "      <td>0.000000</td>\n",
       "      <td>0.000000</td>\n",
       "      <td>2.319345</td>\n",
       "      <td>0.043116</td>\n",
       "      <td>0.000000</td>\n",
       "      <td>0.000000</td>\n",
       "      <td>0.000000</td>\n",
       "      <td>19.997442</td>\n",
       "      <td>0.000000</td>\n",
       "    </tr>\n",
       "    <tr>\n",
       "      <th>4023947</th>\n",
       "      <td>4023948</td>\n",
       "      <td>125748</td>\n",
       "      <td>20</td>\n",
       "      <td>10</td>\n",
       "      <td>0.909185</td>\n",
       "      <td>0</td>\n",
       "      <td>0.000000</td>\n",
       "      <td>35.151390</td>\n",
       "      <td>0.976815</td>\n",
       "      <td>2.298701</td>\n",
       "      <td>...</td>\n",
       "      <td>0.000000</td>\n",
       "      <td>0.000000</td>\n",
       "      <td>0.000000</td>\n",
       "      <td>2.319345</td>\n",
       "      <td>0.043116</td>\n",
       "      <td>0.000000</td>\n",
       "      <td>0.000000</td>\n",
       "      <td>0.000000</td>\n",
       "      <td>19.998185</td>\n",
       "      <td>0.000000</td>\n",
       "    </tr>\n",
       "    <tr>\n",
       "      <th>4023948</th>\n",
       "      <td>4023949</td>\n",
       "      <td>125748</td>\n",
       "      <td>20</td>\n",
       "      <td>10</td>\n",
       "      <td>0.943148</td>\n",
       "      <td>0</td>\n",
       "      <td>0.121375</td>\n",
       "      <td>35.151390</td>\n",
       "      <td>0.976815</td>\n",
       "      <td>2.298701</td>\n",
       "      <td>...</td>\n",
       "      <td>0.121375</td>\n",
       "      <td>0.121375</td>\n",
       "      <td>0.121375</td>\n",
       "      <td>2.323468</td>\n",
       "      <td>0.043039</td>\n",
       "      <td>0.014732</td>\n",
       "      <td>0.000002</td>\n",
       "      <td>0.114474</td>\n",
       "      <td>19.998718</td>\n",
       "      <td>0.017250</td>\n",
       "    </tr>\n",
       "    <tr>\n",
       "      <th>4023949</th>\n",
       "      <td>4023950</td>\n",
       "      <td>125748</td>\n",
       "      <td>20</td>\n",
       "      <td>10</td>\n",
       "      <td>0.976815</td>\n",
       "      <td>0</td>\n",
       "      <td>0.000000</td>\n",
       "      <td>35.151390</td>\n",
       "      <td>0.976815</td>\n",
       "      <td>2.298701</td>\n",
       "      <td>...</td>\n",
       "      <td>-0.121375</td>\n",
       "      <td>-0.242749</td>\n",
       "      <td>-0.364124</td>\n",
       "      <td>2.323468</td>\n",
       "      <td>0.043039</td>\n",
       "      <td>0.000000</td>\n",
       "      <td>0.000000</td>\n",
       "      <td>0.000000</td>\n",
       "      <td>19.999092</td>\n",
       "      <td>0.000000</td>\n",
       "    </tr>\n",
       "  </tbody>\n",
       "</table>\n",
       "<p>1527565 rows × 25 columns</p>\n",
       "</div>"
      ],
      "text/plain": [
       "              id  breath_id   R   C  time_step  u_out   u_in_lag   max_u_in  \\\n",
       "0              1          0   5  20   0.000000      0   0.000000  37.542217   \n",
       "1              2          0   5  20   0.031904      0   0.000000  37.542217   \n",
       "2              3          0   5  20   0.063827      0   7.515046  37.542217   \n",
       "3              4          0   5  20   0.095751      0  14.651675  37.542217   \n",
       "4              5          0   5  20   0.127644      0  21.230610  37.542217   \n",
       "...          ...        ...  ..  ..        ...    ...        ...        ...   \n",
       "4023945  4023946     125748  20  10   0.842145      0   0.000000  35.151390   \n",
       "4023946  4023947     125748  20  10   0.875648      0   0.000000  35.151390   \n",
       "4023947  4023948     125748  20  10   0.909185      0   0.000000  35.151390   \n",
       "4023948  4023949     125748  20  10   0.943148      0   0.121375  35.151390   \n",
       "4023949  4023950     125748  20  10   0.976815      0   0.000000  35.151390   \n",
       "\n",
       "         max_time  mean_u_in  ...     du_in    du2_in    du3_in  u_in_area  \\\n",
       "0        0.957189  19.702023  ...  0.000000  0.000000  0.000000   0.000000   \n",
       "1        0.957189  19.702023  ...  0.000000  0.000000  0.000000   0.000000   \n",
       "2        0.957189  19.702023  ...  7.515046  7.515046  7.515046   0.239907   \n",
       "3        0.957189  19.702023  ...  7.136630 -0.378416 -7.893462   0.707644   \n",
       "4        0.957189  19.702023  ...  6.578935 -0.557695 -0.179279   1.384742   \n",
       "...           ...        ...  ...       ...       ...       ...        ...   \n",
       "4023945  0.976815   2.298701  ...  0.000000  0.000000  0.000000   2.319345   \n",
       "4023946  0.976815   2.298701  ...  0.000000  0.000000  0.000000   2.319345   \n",
       "4023947  0.976815   2.298701  ...  0.000000  0.000000  0.000000   2.319345   \n",
       "4023948  0.976815   2.298701  ...  0.121375  0.121375  0.121375   2.323468   \n",
       "4023949  0.976815   2.298701  ... -0.121375 -0.242749 -0.364124   2.323468   \n",
       "\n",
       "         inv_area     u_in_sq  u_in_cube   u_in_ts   R_spring  U_spring  \n",
       "0        0.000000    0.000000   0.000000  0.000000   0.000000  0.000000  \n",
       "1        0.000000    0.000000   0.000000  0.000000   0.399747  0.000000  \n",
       "2        0.208414   56.475910   0.424419  0.479665   0.767754  3.628264  \n",
       "3        0.070657  214.671585   3.145298  1.402913   1.106323  6.462545  \n",
       "4        0.036108  450.738800   9.569460  2.709951   1.417515  8.638626  \n",
       "...           ...         ...        ...       ...        ...       ...  \n",
       "4023945  0.043116    0.000000   0.000000  0.000000  19.996396  0.000000  \n",
       "4023946  0.043116    0.000000   0.000000  0.000000  19.997442  0.000000  \n",
       "4023947  0.043116    0.000000   0.000000  0.000000  19.998185  0.000000  \n",
       "4023948  0.043039    0.014732   0.000002  0.114474  19.998718  0.017250  \n",
       "4023949  0.043039    0.000000   0.000000  0.000000  19.999092  0.000000  \n",
       "\n",
       "[1527565 rows x 25 columns]"
      ]
     },
     "execution_count": 21,
     "metadata": {},
     "output_type": "execute_result"
    }
   ],
   "source": [
    "test_in"
   ]
  },
  {
   "cell_type": "code",
   "execution_count": null,
   "metadata": {},
   "outputs": [],
   "source": [
    "# cross validation\n",
    "# from catboost import CatBoostRegressor\n",
    "# from sklearn.model_selection import cross_val_score\n",
    "\n",
    "# model_cat = CatBoostRegressor(loss_function=\"MAE\",\n",
    "#                                eval_metric=\"MAE\",\n",
    "#                                task_type=\"GPU\",\n",
    "#                                learning_rate=.6,\n",
    "#                                iterations=i,\n",
    "#                                l2_leaf_reg=50,\n",
    "#                                random_seed=12,\n",
    "#                                #od_type=\"Iter\",\n",
    "#                                depth=5,\n",
    "#                                #early_stopping_rounds=6500,\n",
    "#                                #border_count=64,\n",
    "#                                verbose=False\n",
    "#                               )\n",
    "# model_cat.fit(train_in, y_in)\n",
    "# print('Train Accuracy',cross_val_score(model_cat, X_train, y_train, \n",
    "#     cv=3, scoring='accuracy'))\n",
    "# print('Test Accuracy',cross_val_score(CatBoost_clf, X_test, y_test, cv=3, \n",
    "#     scoring='accuracy'))"
   ]
  },
  {
   "cell_type": "code",
   "execution_count": 22,
   "metadata": {
    "execution": {
     "iopub.execute_input": "2021-10-22T17:15:43.186994Z",
     "iopub.status.busy": "2021-10-22T17:15:43.186439Z",
     "iopub.status.idle": "2021-10-22T17:15:43.201790Z",
     "shell.execute_reply": "2021-10-22T17:15:43.201027Z",
     "shell.execute_reply.started": "2021-10-22T17:15:43.186958Z"
    }
   },
   "outputs": [
    {
     "data": {
      "text/plain": [
       "id            0\n",
       "breath_id     0\n",
       "R             0\n",
       "C             0\n",
       "time_step     0\n",
       "u_out         0\n",
       "u_in_lag      0\n",
       "max_u_in      0\n",
       "max_time      0\n",
       "mean_u_in     0\n",
       "u_in_ratio    0\n",
       "RC            0\n",
       "RoverC        0\n",
       "CoverR        0\n",
       "dt            0\n",
       "du_in         0\n",
       "du2_in        0\n",
       "du3_in        0\n",
       "u_in_area     0\n",
       "inv_area      0\n",
       "u_in_sq       0\n",
       "u_in_cube     0\n",
       "u_in_ts       0\n",
       "R_spring      0\n",
       "U_spring      0\n",
       "dtype: int64"
      ]
     },
     "execution_count": 22,
     "metadata": {},
     "output_type": "execute_result"
    }
   ],
   "source": [
    "#test_in[\"u_in_ratio\"] = test_in.u_in_ratio.fillna(0)\n",
    "test_in.isna().sum()"
   ]
  },
  {
   "cell_type": "code",
   "execution_count": 23,
   "metadata": {
    "execution": {
     "iopub.execute_input": "2021-10-22T17:15:45.470607Z",
     "iopub.status.busy": "2021-10-22T17:15:45.470357Z",
     "iopub.status.idle": "2021-10-22T17:17:01.758174Z",
     "shell.execute_reply": "2021-10-22T17:17:01.757304Z",
     "shell.execute_reply.started": "2021-10-22T17:15:45.470581Z"
    }
   },
   "outputs": [
    {
     "name": "stdout",
     "output_type": "stream",
     "text": [
      "CatBoost MAE Score, i = 400: 0.9797924232229948\n",
      "CatBoost MAE Score, i = 4000: 0.7013653955979511\n",
      "Wall time: 1min 32s\n"
     ]
    }
   ],
   "source": [
    "%%time\n",
    "from catboost import CatBoostRegressor\n",
    "# loop for manual type cv\n",
    "for i in [400,4000]:\n",
    "\n",
    "    model_cat = CatBoostRegressor(loss_function=\"MAE\",\n",
    "                               eval_metric=\"MAE\",\n",
    "                               task_type=\"GPU\",\n",
    "                               learning_rate=.6,\n",
    "                               iterations=i,\n",
    "                               l2_leaf_reg=50,\n",
    "                               random_seed=12,\n",
    "                               #od_type=\"Iter\",\n",
    "                               depth=5,\n",
    "                               #early_stopping_rounds=6500,\n",
    "                               #border_count=64,\n",
    "                               verbose=False\n",
    "                              )\n",
    "    model_cat.fit(X_train,y_train)\n",
    "    pred_cat = model_cat.predict(X_valid)\n",
    "    score_cat = mean_absolute_error(y_valid,pred_cat)\n",
    "    #print(f'iters={i}, lr={j}, CatBoost MAE Score: {score_cat}')\n",
    "    print(f'CatBoost MAE Score, i = {i}: {score_cat}')\n",
    "\n",
    "# squared d_area (coor .17), 1.112, .8163.  This made things quite a bit worse...should be able to make better too!\n",
    "# sqrt(d_area) (corr better .26): .726 (best so far), try rf I guess\n",
    "# fixed u_in_ratio: get .9898, .7266 which is about the best so far, maybe try rf also \n",
    "# now .982, .7299\n",
    "# add u_in_mean: .9797, .701!  best so far!  Check others: "
   ]
  },
  {
   "cell_type": "code",
   "execution_count": 24,
   "metadata": {},
   "outputs": [
    {
     "name": "stdout",
     "output_type": "stream",
     "text": [
      "LGBM MAE Score, i = 0: 0.4675285363435313\n",
      "Wall time: 22min 53s\n"
     ]
    }
   ],
   "source": [
    "%%time\n",
    "from lightgbm import LGBMRegressor\n",
    "model_lgbm = LGBMRegressor(objective='regression_l1',n_jobs=-1,n_estimators=20000,learning_rate=0.3)\n",
    "\n",
    "model_lgbm.fit(X_train,y_train)\n",
    "pred_lgbm = model_lgbm.predict(X_valid)\n",
    "score_lgbm = mean_absolute_error(y_valid,pred_lgbm)\n",
    "print(f'LGBM MAE Score, i = {0}: {score_lgbm}')\n",
    "\n",
    "#4000 iters: .642\n",
    "#20000 iters: .570197, try submitting\n",
    "#20000 after fixing bug, .55596\n",
    "# again, .55093, .67xx on lb :(\n",
    "# with u_in mean feature:  .467!  Try rf, maybe try submitting this too.  rf got lb .55xx, this is .64xx, saving anyways"
   ]
  },
  {
   "cell_type": "code",
   "execution_count": null,
   "metadata": {},
   "outputs": [],
   "source": [
    "# # grid search\n",
    "# from catboost import CatBoostRegressor\n",
    "# from sklearn.model_selection import GridSearchCV\n",
    "\n",
    "# #instantiate the model\n",
    "# model_cbcv = CatBoostRegressor(verbose=False, task_type='GPU')\n",
    "# #create the grid\n",
    "# grid = {'max_depth': [6,7,8],'n_estimators':[4000, 8000, 12000]}\n",
    "# # instantiate gridsearchcv\n",
    "# gscv = GridSearchCV (estimator = model_cbcv, param_grid = grid, scoring =\"neg_mean_absolute_error\", cv = 5)\n",
    "# gscv.fit(train_in,y_in)\n",
    "\n",
    "# print(gscv.best_estimator_)\n",
    "# print(gscv.best_score_)\n",
    "# print(gscv.best_params_)\n",
    "\n",
    "# best score shows -.7165, but lb shows .79xx\n"
   ]
  },
  {
   "cell_type": "code",
   "execution_count": null,
   "metadata": {},
   "outputs": [],
   "source": [
    "# gscv.cv_results_"
   ]
  },
  {
   "cell_type": "code",
   "execution_count": null,
   "metadata": {},
   "outputs": [],
   "source": [
    "# from sklearn.linear_model import LinearRegression\n",
    "\n",
    "# model_lr = LGBMRegressor()\n",
    "# model_lr.fit(X_train,y_train)\n",
    "# pred_lr = model_lr.predict(X_valid)\n",
    "# score_lr = mean_absolute_error(y_valid,pred_lr)\n",
    "# print(f'LR MAE Score, i = {0}: {score_lr}')\n",
    "# score = 1.223"
   ]
  },
  {
   "cell_type": "code",
   "execution_count": null,
   "metadata": {},
   "outputs": [],
   "source": [
    "# from sklearn.preprocessing import PolynomialFeatures\n",
    "\n",
    "# poly_reg=PolynomialFeatures(degree=2)\n",
    "\n",
    "# X_train_poly=poly_reg.fit_transform(X_train)\n",
    "# poly_reg.fit(X_train_poly,y_train)\n",
    "\n",
    "# lin_reg2=LinearRegression()\n",
    "# lin_reg2.fit(X_train_poly,y_train)\n",
    "# pred_lr2 = lin_reg2.predict(X_valid)\n",
    "# score_lr = mean_absolute_error(y_valid,pred_lr2)\n",
    "# print(f'LR MAE Score, i = {0}: {score_lr}')"
   ]
  },
  {
   "cell_type": "code",
   "execution_count": null,
   "metadata": {},
   "outputs": [],
   "source": [
    "# pred_cv_final = gscv.predict(test_in)"
   ]
  },
  {
   "cell_type": "code",
   "execution_count": 25,
   "metadata": {
    "execution": {
     "iopub.execute_input": "2021-10-22T17:20:16.844439Z",
     "iopub.status.busy": "2021-10-22T17:20:16.844161Z"
    }
   },
   "outputs": [
    {
     "name": "stdout",
     "output_type": "stream",
     "text": [
      "Random Forest MAE Score: 0.4449081970704603\n",
      "Wall time: 1h 7min 2s\n"
     ]
    }
   ],
   "source": [
    "%%time\n",
    "#random forest - trying to convert to catboost\n",
    "from sklearn.ensemble import RandomForestRegressor\n",
    "model_rf = RandomForestRegressor()\n",
    "model_rf.fit(X_train, y_train)\n",
    "pred_rf = model_rf.predict(X_valid)\n",
    "rf_mae = mean_absolute_error(pred_rf,y_valid)\n",
    "print(f'Random Forest MAE Score: {rf_mae}')\n",
    "\n",
    "# (n_estimators=100, max_depth=7,min_samples_leaf=0.06, random_state=12), mae=3.12775, lb score = 6.431(?)\n",
    "# Why is random forest worse?  \n",
    "# 10/17/21: Still worse after using only inhales\n",
    "# defaults: runs out of memory!!!???\n",
    "# (n_estimators=100, max_depth=7,min_samples_leaf=0.06, random_state=12) = 5.867\n",
    "# reduced dtype sizes on ints: \n",
    "# 3.627 default, lb = 3.710\n",
    "# changed criterion to mae...doesn't work...removed\n",
    "\n",
    "# with dt and du_in, shift=1, 2.364 vs. lb of 2.37.  Beats catboost (400,.6)\n",
    "# with dt and du_in, shift=2, Random Forest MAE Score: 2.058162936194095\n",
    "# with dt and du_in, shift=3, Random Forest MAE Score: 2.03014981349922\n",
    "# interesting shift 3 is a little better.\n",
    "\n",
    "# deriv and integral, shift=1, .7934!!!\n",
    "# but leaderboard was .8897\n",
    "# try shift = 2, = .934 (a little lower)\n",
    "# added max_time column, down to .6429!  \n",
    "# added d_area column - actually increased a little to .64394, but possible that lb is better...maybe try it.\n",
    "# added max_u_in (in addition to max_time), .55379\n",
    "# with ratio 1/R*area increase a little: .53347, lb score improved a bit to .61\n",
    "# with RC, etc... .53109, .61 lb .6105 vs .6144ish\n",
    "# with 3rd derivative and u_in squared:  .50277 vs. .5846 lb...best so far\n",
    "# with more features, and lower cb score: 0.522197 (worse).  Still, check lb.\n",
    "# withu_in_mean: .4449!!!, try lb: .5586 up from .58xx but was hoping for more.  Try lightgbm"
   ]
  },
  {
   "cell_type": "code",
   "execution_count": null,
   "metadata": {},
   "outputs": [],
   "source": [
    "X_test_in.shape"
   ]
  },
  {
   "cell_type": "code",
   "execution_count": null,
   "metadata": {},
   "outputs": [],
   "source": [
    "X_train.shape"
   ]
  },
  {
   "cell_type": "markdown",
   "metadata": {},
   "source": [
    "# Final Model Submission"
   ]
  },
  {
   "cell_type": "code",
   "execution_count": 30,
   "metadata": {
    "execution": {
     "iopub.execute_input": "2021-10-17T16:21:39.369534Z",
     "iopub.status.busy": "2021-10-17T16:21:39.369218Z",
     "iopub.status.idle": "2021-10-17T16:21:40.613930Z",
     "shell.execute_reply": "2021-10-17T16:21:40.612856Z",
     "shell.execute_reply.started": "2021-10-17T16:21:39.369494Z"
    }
   },
   "outputs": [
    {
     "data": {
      "text/plain": [
       "1    6.404331\n",
       "2    6.155026\n",
       "3    7.365315\n",
       "4    7.809392\n",
       "5    9.393468\n",
       "dtype: float64"
      ]
     },
     "execution_count": 30,
     "metadata": {},
     "output_type": "execute_result"
    }
   ],
   "source": [
    "pred_final = model_lgbm.predict(X_test_in)\n",
    "# add indexs to recombine with out preds\n",
    "pred_final_s = pd.Series(pred_final,index=list(test_in.id))\n",
    "pred_final_s.head()"
   ]
  },
  {
   "cell_type": "code",
   "execution_count": 31,
   "metadata": {
    "execution": {
     "iopub.execute_input": "2021-10-17T16:21:37.812399Z",
     "iopub.status.busy": "2021-10-17T16:21:37.812051Z",
     "iopub.status.idle": "2021-10-17T16:21:39.367887Z",
     "shell.execute_reply": "2021-10-17T16:21:39.366951Z",
     "shell.execute_reply.started": "2021-10-17T16:21:37.812356Z"
    }
   },
   "outputs": [
    {
     "data": {
      "text/plain": [
       "32         1.0\n",
       "33         1.0\n",
       "34         1.0\n",
       "35         1.0\n",
       "36         1.0\n",
       "          ... \n",
       "4023996    1.0\n",
       "4023997    1.0\n",
       "4023998    1.0\n",
       "4023999    1.0\n",
       "4024000    1.0\n",
       "Length: 2496435, dtype: float64"
      ]
     },
     "execution_count": 31,
     "metadata": {},
     "output_type": "execute_result"
    }
   ],
   "source": [
    "# create outpreds = just ones\n",
    "out_preds = np.ones(len(test_out))\n",
    "i = list(test_out.id)\n",
    "out_preds_s = pd.Series(out_preds,index = i)\n",
    "out_preds_s"
   ]
  },
  {
   "cell_type": "code",
   "execution_count": 32,
   "metadata": {
    "execution": {
     "iopub.execute_input": "2021-10-17T16:21:40.617155Z",
     "iopub.status.busy": "2021-10-17T16:21:40.616893Z",
     "iopub.status.idle": "2021-10-17T16:21:40.929002Z",
     "shell.execute_reply": "2021-10-17T16:21:40.928006Z",
     "shell.execute_reply.started": "2021-10-17T16:21:40.617128Z"
    }
   },
   "outputs": [
    {
     "data": {
      "text/plain": [
       "array([6.4043308 , 6.15502624, 7.36531488, ..., 1.        , 1.        ,\n",
       "       1.        ])"
      ]
     },
     "execution_count": 32,
     "metadata": {},
     "output_type": "execute_result"
    }
   ],
   "source": [
    "both = pred_final_s.append(out_preds_s).sort_index()\n",
    "both.values"
   ]
  },
  {
   "cell_type": "code",
   "execution_count": 33,
   "metadata": {
    "execution": {
     "iopub.execute_input": "2021-10-17T16:21:40.930913Z",
     "iopub.status.busy": "2021-10-17T16:21:40.930585Z",
     "iopub.status.idle": "2021-10-17T16:21:52.673630Z",
     "shell.execute_reply": "2021-10-17T16:21:52.672996Z",
     "shell.execute_reply.started": "2021-10-17T16:21:40.930872Z"
    }
   },
   "outputs": [
    {
     "name": "stdout",
     "output_type": "stream",
     "text": [
      "Submission saved!\n"
     ]
    }
   ],
   "source": [
    "output = pd.DataFrame({'id': test.id, 'pressure': both.values})\n",
    "output.to_csv('submission.csv', index=False)\n",
    "print(\"Submission saved!\")"
   ]
  },
  {
   "cell_type": "code",
   "execution_count": null,
   "metadata": {},
   "outputs": [],
   "source": []
  },
  {
   "cell_type": "markdown",
   "metadata": {},
   "source": [
    "## Post Analyze prediction vs. actuals and look for trends"
   ]
  },
  {
   "cell_type": "code",
   "execution_count": null,
   "metadata": {},
   "outputs": [],
   "source": [
    "# function to get single breath (id must exist...there are some that are missing)\n",
    "# also once removed u_out=1, lengths are not always 30 (some 28, etc)\n",
    "def get_breath(df,my_id):\n",
    "    return df[df.breath_id == my_id] "
   ]
  },
  {
   "cell_type": "code",
   "execution_count": null,
   "metadata": {},
   "outputs": [],
   "source": [
    "# %%time\n",
    "# ### predictions vs. validation data\n",
    "pred_all = model_lgbm.predict(train_in)"
   ]
  },
  {
   "cell_type": "code",
   "execution_count": null,
   "metadata": {},
   "outputs": [],
   "source": [
    "y_in.values"
   ]
  },
  {
   "cell_type": "code",
   "execution_count": null,
   "metadata": {},
   "outputs": [],
   "source": [
    "#Create a dataframe with breath_id's to make plotting easier\n",
    "post_analysis = pd.DataFrame({'breath_id': train_in.breath_id, 'prediction': pred_all, 'acutal': y_in.values})\n",
    "post_analysis['residual'] = pred_all - y_in.values\n",
    "post_analysis['R'] = train_in.R\n",
    "post_analysis['C'] = train_in.C\n",
    "post_analysis['u_in_lag'] = train_in.u_in_lag\n"
   ]
  },
  {
   "cell_type": "code",
   "execution_count": null,
   "metadata": {},
   "outputs": [],
   "source": [
    "post_analysis.head()"
   ]
  },
  {
   "cell_type": "code",
   "execution_count": null,
   "metadata": {},
   "outputs": [],
   "source": [
    "# make this a function\n",
    "breath_idx = train_in.breath_id.unique()\n",
    "fig, ax = plt.subplots(6, 4, figsize=(25,30))\n",
    "ax = ax.flatten()\n",
    "for i in range(24):\n",
    "    b_id = get_breath(post_analysis,breath_idx[i])\n",
    "    r = b_id.R.iloc[0]\n",
    "    c = b_id.C.iloc[0]\n",
    "    ax[i].plot(b_id.prediction,label='prediction')\n",
    "    ax[i].plot(b_id.acutal,label='actual')\n",
    "    ax[i].set_title(f'RR Prediction and Actual: Shift=1, Breath id={i}, R={r}, C={c}')\n",
    "    ax[i].legend();\n",
    "    \n",
    "# plt.savefig('v6_shift=1_rf.png')\n"
   ]
  },
  {
   "cell_type": "code",
   "execution_count": null,
   "metadata": {},
   "outputs": [],
   "source": []
  },
  {
   "cell_type": "code",
   "execution_count": null,
   "metadata": {},
   "outputs": [],
   "source": []
  }
 ],
 "metadata": {
  "kernelspec": {
   "display_name": "Python 3",
   "language": "python",
   "name": "python3"
  },
  "language_info": {
   "codemirror_mode": {
    "name": "ipython",
    "version": 3
   },
   "file_extension": ".py",
   "mimetype": "text/x-python",
   "name": "python",
   "nbconvert_exporter": "python",
   "pygments_lexer": "ipython3",
   "version": "3.8.5"
  }
 },
 "nbformat": 4,
 "nbformat_minor": 4
}
