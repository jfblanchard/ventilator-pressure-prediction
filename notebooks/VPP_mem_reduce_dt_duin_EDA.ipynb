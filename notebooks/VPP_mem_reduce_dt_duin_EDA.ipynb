{
 "cells": [
  {
   "cell_type": "code",
   "execution_count": 1,
   "metadata": {
    "execution": {
     "iopub.execute_input": "2021-10-18T14:29:13.742030Z",
     "iopub.status.busy": "2021-10-18T14:29:13.741621Z",
     "iopub.status.idle": "2021-10-18T14:29:14.688943Z",
     "shell.execute_reply": "2021-10-18T14:29:14.688230Z",
     "shell.execute_reply.started": "2021-10-18T14:29:13.741892Z"
    }
   },
   "outputs": [],
   "source": [
    "import pandas as pd\n",
    "import numpy as np\n",
    "import matplotlib.pyplot as plt\n",
    "import seaborn as sns\n",
    "sns.set_style('whitegrid')"
   ]
  },
  {
   "cell_type": "markdown",
   "metadata": {},
   "source": [
    "### Load Files"
   ]
  },
  {
   "cell_type": "code",
   "execution_count": 2,
   "metadata": {
    "execution": {
     "iopub.execute_input": "2021-10-18T14:29:14.690765Z",
     "iopub.status.busy": "2021-10-18T14:29:14.690381Z",
     "iopub.status.idle": "2021-10-18T14:29:26.895227Z",
     "shell.execute_reply": "2021-10-18T14:29:26.894328Z",
     "shell.execute_reply.started": "2021-10-18T14:29:14.690738Z"
    }
   },
   "outputs": [],
   "source": [
    "%%time\n",
    "# Load files\n",
    "train = pd.read_csv('/kaggle/input/ventilator-pressure-prediction/train.csv')\n",
    "test = pd.read_csv('/kaggle/input/ventilator-pressure-prediction/test.csv')\n",
    "y = train['pressure']"
   ]
  },
  {
   "cell_type": "markdown",
   "metadata": {},
   "source": [
    "### Reduce data size"
   ]
  },
  {
   "cell_type": "code",
   "execution_count": null,
   "metadata": {},
   "outputs": [],
   "source": [
    "mem_train_init = train.memory_"
   ]
  },
  {
   "cell_type": "code",
   "execution_count": 3,
   "metadata": {
    "execution": {
     "iopub.execute_input": "2021-10-18T14:29:26.897256Z",
     "iopub.status.busy": "2021-10-18T14:29:26.896685Z",
     "iopub.status.idle": "2021-10-18T14:29:27.575096Z",
     "shell.execute_reply": "2021-10-18T14:29:27.574068Z",
     "shell.execute_reply.started": "2021-10-18T14:29:26.897216Z"
    }
   },
   "outputs": [],
   "source": [
    "# down convert columns to save memory...\n",
    "\n",
    "# train\n",
    "train['id'] = train['id'].astype(np.int32)\n",
    "train['breath_id'] = train['breath_id'].astype(np.int32)\n",
    "train['R'] = train['R'].astype(np.int8)  #or OHC?\n",
    "train['C'] = train['C'].astype(np.int8)\n",
    "train['u_out'] = train['u_out'].astype(np.int8)\n",
    "train['u_in'] = train['u_in'].astype(np.float32)\n",
    "train['time_step'] = train['time_step'].astype(np.float32)\n",
    "\n",
    "#test\n",
    "test['id'] = test['id'].astype(np.int32)\n",
    "test['breath_id'] = test['breath_id'].astype(np.int32)\n",
    "test['R'] = test['R'].astype(np.int8)  #or OHC?\n",
    "test['C'] = test['C'].astype(np.int8)\n",
    "test['u_out'] = test['u_out'].astype(np.int8)\n",
    "test['u_in'] = test['u_in'].astype(np.float32)\n",
    "test['time_step'] = test['time_step'].astype(np.float32)\n",
    "\n",
    "# check that they converted\n",
    "for col in test.columns:\n",
    "    print(test[col].dtype)"
   ]
  },
  {
   "cell_type": "code",
   "execution_count": 4,
   "metadata": {
    "execution": {
     "iopub.execute_input": "2021-10-18T14:29:27.577613Z",
     "iopub.status.busy": "2021-10-18T14:29:27.577308Z",
     "iopub.status.idle": "2021-10-18T14:29:27.595817Z",
     "shell.execute_reply": "2021-10-18T14:29:27.594985Z",
     "shell.execute_reply.started": "2021-10-18T14:29:27.577576Z"
    }
   },
   "outputs": [],
   "source": [
    "train.head()"
   ]
  },
  {
   "cell_type": "markdown",
   "metadata": {},
   "source": [
    "### Split into inhalitory and exhailtory groups (only scored on inhale)"
   ]
  },
  {
   "cell_type": "code",
   "execution_count": 5,
   "metadata": {
    "execution": {
     "iopub.execute_input": "2021-10-18T14:29:27.597615Z",
     "iopub.status.busy": "2021-10-18T14:29:27.597162Z",
     "iopub.status.idle": "2021-10-18T14:29:28.137089Z",
     "shell.execute_reply": "2021-10-18T14:29:28.136425Z",
     "shell.execute_reply.started": "2021-10-18T14:29:27.597578Z"
    }
   },
   "outputs": [],
   "source": [
    "train_in = train[train.u_out == 0]\n",
    "test_in = test[test.u_out == 0]\n",
    "y_in = train_in['pressure']\n",
    "\n",
    "train_out = train[train.u_out == 1]\n",
    "test_out = test[test.u_out == 1]"
   ]
  },
  {
   "cell_type": "code",
   "execution_count": 6,
   "metadata": {
    "execution": {
     "iopub.execute_input": "2021-10-18T14:29:28.139011Z",
     "iopub.status.busy": "2021-10-18T14:29:28.138202Z",
     "iopub.status.idle": "2021-10-18T14:29:28.149530Z",
     "shell.execute_reply": "2021-10-18T14:29:28.148665Z",
     "shell.execute_reply.started": "2021-10-18T14:29:28.138962Z"
    }
   },
   "outputs": [],
   "source": [
    "train_out.head()"
   ]
  },
  {
   "cell_type": "markdown",
   "metadata": {},
   "source": [
    "# Add Features"
   ]
  },
  {
   "cell_type": "code",
   "execution_count": 7,
   "metadata": {
    "execution": {
     "iopub.execute_input": "2021-10-18T14:29:28.150797Z",
     "iopub.status.busy": "2021-10-18T14:29:28.150583Z",
     "iopub.status.idle": "2021-10-18T14:29:28.244732Z",
     "shell.execute_reply": "2021-10-18T14:29:28.243652Z",
     "shell.execute_reply.started": "2021-10-18T14:29:28.150772Z"
    }
   },
   "outputs": [],
   "source": [
    "# apply shift in training set\n",
    "u_in_lag = train_in.u_in.shift(1,fill_value=0)\n",
    "train_in['u_in_lag'] = u_in_lag\n",
    "train_in.drop(['u_in'],axis=1,inplace=True)\n",
    "\n",
    "# and for test set\n",
    "u_in_lag = test_in.u_in.shift(1,fill_value=0)\n",
    "test_in['u_in_lag'] = u_in_lag\n",
    "test_in.drop(['u_in'],axis=1,inplace=True)"
   ]
  },
  {
   "cell_type": "code",
   "execution_count": 8,
   "metadata": {
    "execution": {
     "iopub.execute_input": "2021-10-18T14:29:28.246290Z",
     "iopub.status.busy": "2021-10-18T14:29:28.246017Z",
     "iopub.status.idle": "2021-10-18T14:29:30.398844Z",
     "shell.execute_reply": "2021-10-18T14:29:30.397830Z",
     "shell.execute_reply.started": "2021-10-18T14:29:28.246261Z"
    }
   },
   "outputs": [],
   "source": [
    "# add dt and du_in to train_in\n",
    "dt = np.diff(train_in.time_step)\n",
    "ldt = list(dt)\n",
    "ldt.append(ldt[-1])\n",
    "du_in = np.diff(train_in.u_in_lag)\n",
    "ldu_in = list(du_in)\n",
    "ldu_in.append(ldu_in[-1])\n",
    "train_in['dt'] = ldt\n",
    "train_in['d_u_in'] = ldu_in\n",
    " \n",
    "# Add dt and du_in to test_in\n",
    "dt = np.diff(test_in.time_step)\n",
    "ldt = list(dt)\n",
    "ldt.append(ldt[-1])\n",
    "du_in = np.diff(test_in.u_in_lag)\n",
    "ldu_in = list(du_in)\n",
    "ldu_in.append(ldu_in[-1])\n",
    "test_in['dt'] = ldt\n",
    "test_in['d_u_in'] = ldu_in"
   ]
  },
  {
   "cell_type": "code",
   "execution_count": 9,
   "metadata": {
    "execution": {
     "iopub.execute_input": "2021-10-18T14:29:30.400722Z",
     "iopub.status.busy": "2021-10-18T14:29:30.400493Z",
     "iopub.status.idle": "2021-10-18T14:29:30.412686Z",
     "shell.execute_reply": "2021-10-18T14:29:30.412107Z",
     "shell.execute_reply.started": "2021-10-18T14:29:30.400697Z"
    }
   },
   "outputs": [],
   "source": [
    "test_in.head()"
   ]
  },
  {
   "cell_type": "markdown",
   "metadata": {},
   "source": [
    "10/17/21 New in this run:\n",
    "* Shifted by time lag 0f 2\n",
    "* Added two new features:\n",
    "    * dt\n",
    "    * du_in\n"
   ]
  },
  {
   "cell_type": "markdown",
   "metadata": {},
   "source": [
    "# Model"
   ]
  },
  {
   "cell_type": "code",
   "execution_count": 10,
   "metadata": {
    "execution": {
     "iopub.execute_input": "2021-10-18T14:29:30.415208Z",
     "iopub.status.busy": "2021-10-18T14:29:30.414394Z",
     "iopub.status.idle": "2021-10-18T14:29:30.651768Z",
     "shell.execute_reply": "2021-10-18T14:29:30.650918Z",
     "shell.execute_reply.started": "2021-10-18T14:29:30.415170Z"
    }
   },
   "outputs": [],
   "source": [
    "from sklearn.metrics import mean_absolute_error # ,confusion_matrix, classification_report"
   ]
  },
  {
   "cell_type": "code",
   "execution_count": 11,
   "metadata": {
    "execution": {
     "iopub.execute_input": "2021-10-18T14:29:30.653946Z",
     "iopub.status.busy": "2021-10-18T14:29:30.653692Z",
     "iopub.status.idle": "2021-10-18T14:29:31.100418Z",
     "shell.execute_reply": "2021-10-18T14:29:31.099278Z",
     "shell.execute_reply.started": "2021-10-18T14:29:30.653919Z"
    }
   },
   "outputs": [],
   "source": [
    "# Split data - after all analysis is done\n",
    "from sklearn.model_selection import train_test_split\n",
    "\n",
    "train_in.drop(columns = ['pressure','id','breath_id'], inplace = True)\n",
    "#test = test.drop(columns = 'id', inplace = True)\n",
    "\n",
    "X_train, X_valid, y_train, y_valid = train_test_split(train_in, y_in, train_size=0.8, test_size=0.2,\n",
    "                                                      random_state=12)\n",
    "X_test_in = test_in.copy().drop(columns=['id','breath_id'])"
   ]
  },
  {
   "cell_type": "code",
   "execution_count": 12,
   "metadata": {
    "execution": {
     "iopub.execute_input": "2021-10-18T14:29:31.101918Z",
     "iopub.status.busy": "2021-10-18T14:29:31.101672Z",
     "iopub.status.idle": "2021-10-18T14:29:31.110045Z",
     "shell.execute_reply": "2021-10-18T14:29:31.109078Z",
     "shell.execute_reply.started": "2021-10-18T14:29:31.101889Z"
    }
   },
   "outputs": [],
   "source": [
    "# from sklearn.tree import DecisionTreeRegressor\n",
    "\n",
    "# for i in range(100,200,20): \n",
    "#     model_dt = DecisionTreeRegressor(n_estimators = i, max_depth=16, random_state=12)\n",
    "#     model_dt.fit(X_train, y_train)\n",
    "#     pred_dt = model_dt.predict(X_valid)\n",
    "\n",
    "#     #dt = roc_auc_score(y_valid,pred_dt)\n",
    "#     dt_mae_score = mean_absolute_error(pred_dt, y_valid)\n",
    "#     print(f'Decision Tree MAE Score for max_depth={i} is : {dt_mae_score}')\n",
    "# with default params, score = 2.413, but lb = 4.791.  Why the large difference?\n",
    "# 11/17/21 changed to inhale only and my scores are matching better\n",
    "    \n",
    "# Decision Tree MAE Score for max_depth=2 is : 6.3443955300614405\n",
    "# Decision Tree MAE Score for max_depth=3 is : 6.028395026290743\n",
    "# Decision Tree MAE Score for max_depth=4 is : 5.678540615661189\n",
    "# Decision Tree MAE Score for max_depth=5 is : 5.3517588341023155\n",
    "# Decision Tree MAE Score for max_depth=6 is : 4.952135011724083\n",
    "# Decision Tree MAE Score for max_depth=7 is : 4.669474094251829\n",
    "# Decision Tree MAE Score for max_depth=8 is : 4.430497791001828\n",
    "# Decision Tree MAE Score for max_depth=9 is : 4.235200007248183\n",
    "# Decision Tree MAE Score for max_depth=10 is : 4.111949020503175\n",
    "# Decision Tree MAE Score for max_depth=11 is : 4.002433270178995\n",
    "# Decision Tree MAE Score for max_depth=12 is : 3.9195341438467897\n",
    "# Decision Tree MAE Score for max_depth=13 is : 3.84778054263597\n",
    "# Decision Tree MAE Score for max_depth=14 is : 3.79583210088494\n",
    "# Decision Tree MAE Score for max_depth=15 is : 3.75439201392607\n",
    "# Decision Tree MAE Score for max_depth=16 is : 3.7410021329185414\n",
    "# Decision Tree MAE Score for max_depth=17 is : 3.744247688109701\n",
    "# Decision Tree MAE Score for max_depth=18 is : 3.7645064417036505\n",
    "# Decision Tree MAE Score for max_depth=19 is : 3.800083196701423\n",
    "# Decision Tree MAE Score for max_depth=20 is : 3.852334638461889\n",
    "# Decision Tree MAE Score for max_depth=21 is : 3.911532812448746\n",
    "# Decision Tree MAE Score for max_depth=22 is : 3.9779119228181203\n",
    "# Decision Tree MAE Score for max_depth=23 is : 4.044951907548471\n",
    "# Decision Tree MAE Score for max_depth=24 is : 4.112202068631238\n",
    "# min at max_depth=16 (3.741)\n"
   ]
  },
  {
   "cell_type": "code",
   "execution_count": 13,
   "metadata": {
    "execution": {
     "iopub.execute_input": "2021-10-18T14:29:31.112034Z",
     "iopub.status.busy": "2021-10-18T14:29:31.111630Z",
     "iopub.status.idle": "2021-10-18T14:58:04.547625Z",
     "shell.execute_reply": "2021-10-18T14:58:04.546283Z",
     "shell.execute_reply.started": "2021-10-18T14:29:31.111906Z"
    }
   },
   "outputs": [],
   "source": [
    "%%time\n",
    "# random forest\n",
    "from sklearn.ensemble import RandomForestRegressor\n",
    "model_rf = RandomForestRegressor()\n",
    "model_rf.fit(X_train, y_train)\n",
    "pred_rf = model_rf.predict(X_valid)\n",
    "rf_mae = mean_absolute_error(pred_rf,y_valid)\n",
    "print(f'Random Forest MAE Score: {rf_mae}')\n",
    "\n",
    "# (n_estimators=100, max_depth=7,min_samples_leaf=0.06, random_state=12), mae=3.12775, lb score = 6.431(?)\n",
    "# Why is random forest worse?  \n",
    "# 10/17/21: Still worse after using only inhales\n",
    "# defaults: runs out of memory!!!???\n",
    "# (n_estimators=100, max_depth=7,min_samples_leaf=0.06, random_state=12) = 5.867\n",
    "# reduced dtype sizes on ints: \n",
    "# 3.627 default, lb = 3.710\n",
    "# changed criterion to mae\n"
   ]
  },
  {
   "cell_type": "code",
   "execution_count": 14,
   "metadata": {
    "execution": {
     "iopub.execute_input": "2021-10-18T14:58:04.550458Z",
     "iopub.status.busy": "2021-10-18T14:58:04.550115Z",
     "iopub.status.idle": "2021-10-18T14:58:04.558181Z",
     "shell.execute_reply": "2021-10-18T14:58:04.557445Z",
     "shell.execute_reply.started": "2021-10-18T14:58:04.550412Z"
    }
   },
   "outputs": [],
   "source": [
    "model_rf.get_params()"
   ]
  },
  {
   "cell_type": "markdown",
   "metadata": {},
   "source": [
    "### Final Model"
   ]
  },
  {
   "cell_type": "code",
   "execution_count": 15,
   "metadata": {
    "execution": {
     "iopub.execute_input": "2021-10-18T14:58:04.559549Z",
     "iopub.status.busy": "2021-10-18T14:58:04.559259Z",
     "iopub.status.idle": "2021-10-18T14:58:05.838566Z",
     "shell.execute_reply": "2021-10-18T14:58:05.837678Z",
     "shell.execute_reply.started": "2021-10-18T14:58:04.559522Z"
    }
   },
   "outputs": [],
   "source": [
    "# create outpreds = average out value\n",
    "out_preds = np.ones(len(test_out))\n",
    "i = list(test_out.id)\n",
    "out_preds_s = pd.Series(out_preds,index = i)\n",
    "out_preds_s"
   ]
  },
  {
   "cell_type": "code",
   "execution_count": 16,
   "metadata": {
    "execution": {
     "iopub.execute_input": "2021-10-18T14:58:05.840048Z",
     "iopub.status.busy": "2021-10-18T14:58:05.839592Z",
     "iopub.status.idle": "2021-10-18T15:00:45.331618Z",
     "shell.execute_reply": "2021-10-18T15:00:45.330750Z",
     "shell.execute_reply.started": "2021-10-18T14:58:05.840017Z"
    }
   },
   "outputs": [],
   "source": [
    "pred_final = model_rf.predict(X_test_in)\n",
    "# add indexs to recombine with out preds\n",
    "pred_final_s = pd.Series(pred_final,index=list(test_in.id))\n",
    "pred_final_s.head()"
   ]
  },
  {
   "cell_type": "code",
   "execution_count": 17,
   "metadata": {
    "execution": {
     "iopub.execute_input": "2021-10-18T15:00:45.334080Z",
     "iopub.status.busy": "2021-10-18T15:00:45.333777Z",
     "iopub.status.idle": "2021-10-18T15:00:46.298293Z",
     "shell.execute_reply": "2021-10-18T15:00:46.297480Z",
     "shell.execute_reply.started": "2021-10-18T15:00:45.334050Z"
    }
   },
   "outputs": [],
   "source": [
    "both = pred_final_s.append(out_preds_s).sort_index()\n",
    "both.values"
   ]
  },
  {
   "cell_type": "code",
   "execution_count": 18,
   "metadata": {
    "execution": {
     "iopub.execute_input": "2021-10-18T15:00:46.301314Z",
     "iopub.status.busy": "2021-10-18T15:00:46.300914Z",
     "iopub.status.idle": "2021-10-18T15:00:53.642995Z",
     "shell.execute_reply": "2021-10-18T15:00:53.642311Z",
     "shell.execute_reply.started": "2021-10-18T15:00:46.301280Z"
    }
   },
   "outputs": [],
   "source": [
    "output = pd.DataFrame({'id': test.id, 'pressure': both.values})\n",
    "output.to_csv('submission.csv', index=False)\n",
    "print(\"Submission saved!\")"
   ]
  },
  {
   "cell_type": "code",
   "execution_count": null,
   "metadata": {},
   "outputs": [],
   "source": []
  }
 ],
 "metadata": {
  "kernelspec": {
   "display_name": "Python 3",
   "language": "python",
   "name": "python3"
  },
  "language_info": {
   "codemirror_mode": {
    "name": "ipython",
    "version": 3
   },
   "file_extension": ".py",
   "mimetype": "text/x-python",
   "name": "python",
   "nbconvert_exporter": "python",
   "pygments_lexer": "ipython3",
   "version": "3.8.5"
  }
 },
 "nbformat": 4,
 "nbformat_minor": 4
}
